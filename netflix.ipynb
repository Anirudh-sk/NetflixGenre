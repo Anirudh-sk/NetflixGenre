{
  "nbformat": 4,
  "nbformat_minor": 0,
  "metadata": {
    "colab": {
      "provenance": [],
      "collapsed_sections": [
        "ZtGtbGtJGwSn"
      ]
    },
    "kernelspec": {
      "name": "python3",
      "display_name": "Python 3"
    },
    "language_info": {
      "name": "python"
    }
  },
  "cells": [
    {
      "cell_type": "code",
      "execution_count": null,
      "metadata": {
        "id": "5BPknAO6fwNk"
      },
      "outputs": [],
      "source": [
        "import pandas as pd\n",
        "import numpy as np\n",
        "import matplotlib.pyplot as plt\n",
        "import tensorflow as tf\n",
        "import seaborn as sns\n",
        "\n",
        "\n"
      ]
    },
    {
      "cell_type": "code",
      "source": [
        "url= './drive/MyDrive/CEG/Data Science Lab/netflix_titles.csv'\n",
        "df = pd.read_csv(url)\n",
        "df.head()"
      ],
      "metadata": {
        "colab": {
          "base_uri": "https://localhost:8080/",
          "height": 337
        },
        "id": "5R0CAkA7f_ke",
        "outputId": "9d43eef9-b027-454b-faec-0673085e56fd"
      },
      "execution_count": null,
      "outputs": [
        {
          "output_type": "execute_result",
          "data": {
            "text/plain": [
              "  show_id     type                  title         director  \\\n",
              "0      s1    Movie   Dick Johnson Is Dead  Kirsten Johnson   \n",
              "1      s2  TV Show          Blood & Water              NaN   \n",
              "2      s3  TV Show              Ganglands  Julien Leclercq   \n",
              "3      s4  TV Show  Jailbirds New Orleans              NaN   \n",
              "4      s5  TV Show           Kota Factory              NaN   \n",
              "\n",
              "                                                cast        country  \\\n",
              "0                                                NaN  United States   \n",
              "1  Ama Qamata, Khosi Ngema, Gail Mabalane, Thaban...   South Africa   \n",
              "2  Sami Bouajila, Tracy Gotoas, Samuel Jouy, Nabi...            NaN   \n",
              "3                                                NaN            NaN   \n",
              "4  Mayur More, Jitendra Kumar, Ranjan Raj, Alam K...          India   \n",
              "\n",
              "           date_added  release_year rating   duration  \\\n",
              "0  September 25, 2021          2020  PG-13     90 min   \n",
              "1  September 24, 2021          2021  TV-MA  2 Seasons   \n",
              "2  September 24, 2021          2021  TV-MA   1 Season   \n",
              "3  September 24, 2021          2021  TV-MA   1 Season   \n",
              "4  September 24, 2021          2021  TV-MA  2 Seasons   \n",
              "\n",
              "                                           listed_in  \\\n",
              "0                                      Documentaries   \n",
              "1    International TV Shows, TV Dramas, TV Mysteries   \n",
              "2  Crime TV Shows, International TV Shows, TV Act...   \n",
              "3                             Docuseries, Reality TV   \n",
              "4  International TV Shows, Romantic TV Shows, TV ...   \n",
              "\n",
              "                                         description  \n",
              "0  As her father nears the end of his life, filmm...  \n",
              "1  After crossing paths at a party, a Cape Town t...  \n",
              "2  To protect his family from a powerful drug lor...  \n",
              "3  Feuds, flirtations and toilet talk go down amo...  \n",
              "4  In a city of coaching centers known to train I...  "
            ],
            "text/html": [
              "\n",
              "  <div id=\"df-f2bb2654-7084-4f01-b9e8-596c91218994\">\n",
              "    <div class=\"colab-df-container\">\n",
              "      <div>\n",
              "<style scoped>\n",
              "    .dataframe tbody tr th:only-of-type {\n",
              "        vertical-align: middle;\n",
              "    }\n",
              "\n",
              "    .dataframe tbody tr th {\n",
              "        vertical-align: top;\n",
              "    }\n",
              "\n",
              "    .dataframe thead th {\n",
              "        text-align: right;\n",
              "    }\n",
              "</style>\n",
              "<table border=\"1\" class=\"dataframe\">\n",
              "  <thead>\n",
              "    <tr style=\"text-align: right;\">\n",
              "      <th></th>\n",
              "      <th>show_id</th>\n",
              "      <th>type</th>\n",
              "      <th>title</th>\n",
              "      <th>director</th>\n",
              "      <th>cast</th>\n",
              "      <th>country</th>\n",
              "      <th>date_added</th>\n",
              "      <th>release_year</th>\n",
              "      <th>rating</th>\n",
              "      <th>duration</th>\n",
              "      <th>listed_in</th>\n",
              "      <th>description</th>\n",
              "    </tr>\n",
              "  </thead>\n",
              "  <tbody>\n",
              "    <tr>\n",
              "      <th>0</th>\n",
              "      <td>s1</td>\n",
              "      <td>Movie</td>\n",
              "      <td>Dick Johnson Is Dead</td>\n",
              "      <td>Kirsten Johnson</td>\n",
              "      <td>NaN</td>\n",
              "      <td>United States</td>\n",
              "      <td>September 25, 2021</td>\n",
              "      <td>2020</td>\n",
              "      <td>PG-13</td>\n",
              "      <td>90 min</td>\n",
              "      <td>Documentaries</td>\n",
              "      <td>As her father nears the end of his life, filmm...</td>\n",
              "    </tr>\n",
              "    <tr>\n",
              "      <th>1</th>\n",
              "      <td>s2</td>\n",
              "      <td>TV Show</td>\n",
              "      <td>Blood &amp; Water</td>\n",
              "      <td>NaN</td>\n",
              "      <td>Ama Qamata, Khosi Ngema, Gail Mabalane, Thaban...</td>\n",
              "      <td>South Africa</td>\n",
              "      <td>September 24, 2021</td>\n",
              "      <td>2021</td>\n",
              "      <td>TV-MA</td>\n",
              "      <td>2 Seasons</td>\n",
              "      <td>International TV Shows, TV Dramas, TV Mysteries</td>\n",
              "      <td>After crossing paths at a party, a Cape Town t...</td>\n",
              "    </tr>\n",
              "    <tr>\n",
              "      <th>2</th>\n",
              "      <td>s3</td>\n",
              "      <td>TV Show</td>\n",
              "      <td>Ganglands</td>\n",
              "      <td>Julien Leclercq</td>\n",
              "      <td>Sami Bouajila, Tracy Gotoas, Samuel Jouy, Nabi...</td>\n",
              "      <td>NaN</td>\n",
              "      <td>September 24, 2021</td>\n",
              "      <td>2021</td>\n",
              "      <td>TV-MA</td>\n",
              "      <td>1 Season</td>\n",
              "      <td>Crime TV Shows, International TV Shows, TV Act...</td>\n",
              "      <td>To protect his family from a powerful drug lor...</td>\n",
              "    </tr>\n",
              "    <tr>\n",
              "      <th>3</th>\n",
              "      <td>s4</td>\n",
              "      <td>TV Show</td>\n",
              "      <td>Jailbirds New Orleans</td>\n",
              "      <td>NaN</td>\n",
              "      <td>NaN</td>\n",
              "      <td>NaN</td>\n",
              "      <td>September 24, 2021</td>\n",
              "      <td>2021</td>\n",
              "      <td>TV-MA</td>\n",
              "      <td>1 Season</td>\n",
              "      <td>Docuseries, Reality TV</td>\n",
              "      <td>Feuds, flirtations and toilet talk go down amo...</td>\n",
              "    </tr>\n",
              "    <tr>\n",
              "      <th>4</th>\n",
              "      <td>s5</td>\n",
              "      <td>TV Show</td>\n",
              "      <td>Kota Factory</td>\n",
              "      <td>NaN</td>\n",
              "      <td>Mayur More, Jitendra Kumar, Ranjan Raj, Alam K...</td>\n",
              "      <td>India</td>\n",
              "      <td>September 24, 2021</td>\n",
              "      <td>2021</td>\n",
              "      <td>TV-MA</td>\n",
              "      <td>2 Seasons</td>\n",
              "      <td>International TV Shows, Romantic TV Shows, TV ...</td>\n",
              "      <td>In a city of coaching centers known to train I...</td>\n",
              "    </tr>\n",
              "  </tbody>\n",
              "</table>\n",
              "</div>\n",
              "      <button class=\"colab-df-convert\" onclick=\"convertToInteractive('df-f2bb2654-7084-4f01-b9e8-596c91218994')\"\n",
              "              title=\"Convert this dataframe to an interactive table.\"\n",
              "              style=\"display:none;\">\n",
              "        \n",
              "  <svg xmlns=\"http://www.w3.org/2000/svg\" height=\"24px\"viewBox=\"0 0 24 24\"\n",
              "       width=\"24px\">\n",
              "    <path d=\"M0 0h24v24H0V0z\" fill=\"none\"/>\n",
              "    <path d=\"M18.56 5.44l.94 2.06.94-2.06 2.06-.94-2.06-.94-.94-2.06-.94 2.06-2.06.94zm-11 1L8.5 8.5l.94-2.06 2.06-.94-2.06-.94L8.5 2.5l-.94 2.06-2.06.94zm10 10l.94 2.06.94-2.06 2.06-.94-2.06-.94-.94-2.06-.94 2.06-2.06.94z\"/><path d=\"M17.41 7.96l-1.37-1.37c-.4-.4-.92-.59-1.43-.59-.52 0-1.04.2-1.43.59L10.3 9.45l-7.72 7.72c-.78.78-.78 2.05 0 2.83L4 21.41c.39.39.9.59 1.41.59.51 0 1.02-.2 1.41-.59l7.78-7.78 2.81-2.81c.8-.78.8-2.07 0-2.86zM5.41 20L4 18.59l7.72-7.72 1.47 1.35L5.41 20z\"/>\n",
              "  </svg>\n",
              "      </button>\n",
              "      \n",
              "  <style>\n",
              "    .colab-df-container {\n",
              "      display:flex;\n",
              "      flex-wrap:wrap;\n",
              "      gap: 12px;\n",
              "    }\n",
              "\n",
              "    .colab-df-convert {\n",
              "      background-color: #E8F0FE;\n",
              "      border: none;\n",
              "      border-radius: 50%;\n",
              "      cursor: pointer;\n",
              "      display: none;\n",
              "      fill: #1967D2;\n",
              "      height: 32px;\n",
              "      padding: 0 0 0 0;\n",
              "      width: 32px;\n",
              "    }\n",
              "\n",
              "    .colab-df-convert:hover {\n",
              "      background-color: #E2EBFA;\n",
              "      box-shadow: 0px 1px 2px rgba(60, 64, 67, 0.3), 0px 1px 3px 1px rgba(60, 64, 67, 0.15);\n",
              "      fill: #174EA6;\n",
              "    }\n",
              "\n",
              "    [theme=dark] .colab-df-convert {\n",
              "      background-color: #3B4455;\n",
              "      fill: #D2E3FC;\n",
              "    }\n",
              "\n",
              "    [theme=dark] .colab-df-convert:hover {\n",
              "      background-color: #434B5C;\n",
              "      box-shadow: 0px 1px 3px 1px rgba(0, 0, 0, 0.15);\n",
              "      filter: drop-shadow(0px 1px 2px rgba(0, 0, 0, 0.3));\n",
              "      fill: #FFFFFF;\n",
              "    }\n",
              "  </style>\n",
              "\n",
              "      <script>\n",
              "        const buttonEl =\n",
              "          document.querySelector('#df-f2bb2654-7084-4f01-b9e8-596c91218994 button.colab-df-convert');\n",
              "        buttonEl.style.display =\n",
              "          google.colab.kernel.accessAllowed ? 'block' : 'none';\n",
              "\n",
              "        async function convertToInteractive(key) {\n",
              "          const element = document.querySelector('#df-f2bb2654-7084-4f01-b9e8-596c91218994');\n",
              "          const dataTable =\n",
              "            await google.colab.kernel.invokeFunction('convertToInteractive',\n",
              "                                                     [key], {});\n",
              "          if (!dataTable) return;\n",
              "\n",
              "          const docLinkHtml = 'Like what you see? Visit the ' +\n",
              "            '<a target=\"_blank\" href=https://colab.research.google.com/notebooks/data_table.ipynb>data table notebook</a>'\n",
              "            + ' to learn more about interactive tables.';\n",
              "          element.innerHTML = '';\n",
              "          dataTable['output_type'] = 'display_data';\n",
              "          await google.colab.output.renderOutput(dataTable, element);\n",
              "          const docLink = document.createElement('div');\n",
              "          docLink.innerHTML = docLinkHtml;\n",
              "          element.appendChild(docLink);\n",
              "        }\n",
              "      </script>\n",
              "    </div>\n",
              "  </div>\n",
              "  "
            ]
          },
          "metadata": {},
          "execution_count": 92
        }
      ]
    },
    {
      "cell_type": "code",
      "source": [
        "# df= df.set_index('show_id')\n",
        "# df.head()"
      ],
      "metadata": {
        "id": "xsep316hiKMP"
      },
      "execution_count": null,
      "outputs": []
    },
    {
      "cell_type": "code",
      "source": [
        "df.dtypes.value_counts()"
      ],
      "metadata": {
        "colab": {
          "base_uri": "https://localhost:8080/"
        },
        "id": "U69mAMXYknJ5",
        "outputId": "aa157bb5-bed9-46c8-fb53-d3aeaf7ac0a4"
      },
      "execution_count": null,
      "outputs": [
        {
          "output_type": "execute_result",
          "data": {
            "text/plain": [
              "object    11\n",
              "int64      1\n",
              "dtype: int64"
            ]
          },
          "metadata": {},
          "execution_count": 94
        }
      ]
    },
    {
      "cell_type": "code",
      "source": [
        "# df.loc['s200':, 'release_year'].head(10)"
      ],
      "metadata": {
        "id": "_LNSHCTomGEy"
      },
      "execution_count": null,
      "outputs": []
    },
    {
      "cell_type": "code",
      "source": [
        "df['country'].head(10)"
      ],
      "metadata": {
        "colab": {
          "base_uri": "https://localhost:8080/"
        },
        "id": "Z9r89QXDmi2L",
        "outputId": "8bb05f7d-bff1-4e6e-8582-9d9a4ebf3255"
      },
      "execution_count": null,
      "outputs": [
        {
          "output_type": "execute_result",
          "data": {
            "text/plain": [
              "0                                        United States\n",
              "1                                         South Africa\n",
              "2                                                  NaN\n",
              "3                                                  NaN\n",
              "4                                                India\n",
              "5                                                  NaN\n",
              "6                                                  NaN\n",
              "7    United States, Ghana, Burkina Faso, United Kin...\n",
              "8                                       United Kingdom\n",
              "9                                        United States\n",
              "Name: country, dtype: object"
            ]
          },
          "metadata": {},
          "execution_count": 96
        }
      ]
    },
    {
      "cell_type": "code",
      "source": [
        "country=df['country']\n",
        "us= country.str.contains('United States')\n",
        "us[:13]"
      ],
      "metadata": {
        "colab": {
          "base_uri": "https://localhost:8080/"
        },
        "id": "Mgr83B1toJ8K",
        "outputId": "2d31d453-0207-42b9-e09b-5360797e1804"
      },
      "execution_count": null,
      "outputs": [
        {
          "output_type": "execute_result",
          "data": {
            "text/plain": [
              "0      True\n",
              "1     False\n",
              "2       NaN\n",
              "3       NaN\n",
              "4     False\n",
              "5       NaN\n",
              "6       NaN\n",
              "7      True\n",
              "8     False\n",
              "9      True\n",
              "10      NaN\n",
              "11      NaN\n",
              "12    False\n",
              "Name: country, dtype: object"
            ]
          },
          "metadata": {},
          "execution_count": 97
        }
      ]
    },
    {
      "cell_type": "code",
      "source": [
        "df['country']=np.where(us,'USA',country.str.replace('-',' '))\n",
        "df['country'].head(20)"
      ],
      "metadata": {
        "colab": {
          "base_uri": "https://localhost:8080/"
        },
        "id": "xoIbd9pIpBsn",
        "outputId": "4beb5628-7957-440c-a14a-6d763208370c"
      },
      "execution_count": null,
      "outputs": [
        {
          "output_type": "execute_result",
          "data": {
            "text/plain": [
              "0                         USA\n",
              "1                South Africa\n",
              "2                         USA\n",
              "3                         USA\n",
              "4                       India\n",
              "5                         USA\n",
              "6                         USA\n",
              "7                         USA\n",
              "8              United Kingdom\n",
              "9                         USA\n",
              "10                        USA\n",
              "11                        USA\n",
              "12    Germany, Czech Republic\n",
              "13                        USA\n",
              "14                        USA\n",
              "15                        USA\n",
              "16                        USA\n",
              "17                     Mexico\n",
              "18                        USA\n",
              "19                        USA\n",
              "Name: country, dtype: object"
            ]
          },
          "metadata": {},
          "execution_count": 98
        }
      ]
    },
    {
      "cell_type": "code",
      "source": [
        "country=df['country']\n",
        "us= country.str.contains('Germany')\n",
        "us[:5]"
      ],
      "metadata": {
        "colab": {
          "base_uri": "https://localhost:8080/"
        },
        "outputId": "6b789b1d-a6ed-4bc4-8cdb-938704f717ca",
        "id": "Gslw2gxCtbpr"
      },
      "execution_count": null,
      "outputs": [
        {
          "output_type": "execute_result",
          "data": {
            "text/plain": [
              "0    False\n",
              "1    False\n",
              "2    False\n",
              "3    False\n",
              "4    False\n",
              "Name: country, dtype: bool"
            ]
          },
          "metadata": {},
          "execution_count": 99
        }
      ]
    },
    {
      "cell_type": "code",
      "source": [
        "df['country']=np.where(us,'Germany',country.str.replace('-',' '))\n",
        "df['country'].head(20)"
      ],
      "metadata": {
        "colab": {
          "base_uri": "https://localhost:8080/"
        },
        "outputId": "abd582c2-f1bf-4f3e-8c51-01fa362d2f1a",
        "id": "6m3-eRdmtp1v"
      },
      "execution_count": null,
      "outputs": [
        {
          "output_type": "execute_result",
          "data": {
            "text/plain": [
              "0                USA\n",
              "1       South Africa\n",
              "2                USA\n",
              "3                USA\n",
              "4              India\n",
              "5                USA\n",
              "6                USA\n",
              "7                USA\n",
              "8     United Kingdom\n",
              "9                USA\n",
              "10               USA\n",
              "11               USA\n",
              "12           Germany\n",
              "13               USA\n",
              "14               USA\n",
              "15               USA\n",
              "16               USA\n",
              "17            Mexico\n",
              "18               USA\n",
              "19               USA\n",
              "Name: country, dtype: object"
            ]
          },
          "metadata": {},
          "execution_count": 100
        }
      ]
    },
    {
      "cell_type": "markdown",
      "source": [
        "# Null value Treatment\n"
      ],
      "metadata": {
        "id": "WZO1xJR0Mpj3"
      }
    },
    {
      "cell_type": "code",
      "source": [
        "df.isnull().sum()"
      ],
      "metadata": {
        "colab": {
          "base_uri": "https://localhost:8080/"
        },
        "id": "q1jIZY6oMz3O",
        "outputId": "abae25be-a19d-45ab-83d8-3ed7ceb80eaa"
      },
      "execution_count": null,
      "outputs": [
        {
          "output_type": "execute_result",
          "data": {
            "text/plain": [
              "show_id            0\n",
              "type               0\n",
              "title              0\n",
              "director        2634\n",
              "cast             825\n",
              "country            0\n",
              "date_added        10\n",
              "release_year       0\n",
              "rating             4\n",
              "duration           3\n",
              "listed_in          0\n",
              "description        0\n",
              "dtype: int64"
            ]
          },
          "metadata": {},
          "execution_count": 101
        }
      ]
    },
    {
      "cell_type": "code",
      "source": [
        "df.dropna(inplace=True) # Remove empty cells\n",
        "df.tail()\n",
        "#to replace null values use df.fillna(140, inplace=True)"
      ],
      "metadata": {
        "colab": {
          "base_uri": "https://localhost:8080/",
          "height": 354
        },
        "id": "eru3K2W2uK7k",
        "outputId": "e1082f83-11a7-4435-e2da-89621c3bd283"
      },
      "execution_count": null,
      "outputs": [
        {
          "output_type": "execute_result",
          "data": {
            "text/plain": [
              "     show_id   type       title         director  \\\n",
              "8801   s8802  Movie     Zinzana  Majid Al Ansari   \n",
              "8802   s8803  Movie      Zodiac    David Fincher   \n",
              "8804   s8805  Movie  Zombieland  Ruben Fleischer   \n",
              "8805   s8806  Movie        Zoom     Peter Hewitt   \n",
              "8806   s8807  Movie      Zubaan      Mozez Singh   \n",
              "\n",
              "                                                   cast  \\\n",
              "8801  Ali Suliman, Saleh Bakri, Yasa, Ali Al-Jabri, ...   \n",
              "8802  Mark Ruffalo, Jake Gyllenhaal, Robert Downey J...   \n",
              "8804  Jesse Eisenberg, Woody Harrelson, Emma Stone, ...   \n",
              "8805  Tim Allen, Courteney Cox, Chevy Chase, Kate Ma...   \n",
              "8806  Vicky Kaushal, Sarah-Jane Dias, Raaghav Chanan...   \n",
              "\n",
              "                           country         date_added  release_year rating  \\\n",
              "8801  United Arab Emirates, Jordan      March 9, 2016          2015  TV-MA   \n",
              "8802                           USA  November 20, 2019          2007      R   \n",
              "8804                           USA   November 1, 2019          2009      R   \n",
              "8805                           USA   January 11, 2020          2006     PG   \n",
              "8806                         India      March 2, 2019          2015  TV-14   \n",
              "\n",
              "     duration                                       listed_in  \\\n",
              "8801   96 min         Dramas, International Movies, Thrillers   \n",
              "8802  158 min                  Cult Movies, Dramas, Thrillers   \n",
              "8804   88 min                         Comedies, Horror Movies   \n",
              "8805   88 min              Children & Family Movies, Comedies   \n",
              "8806  111 min  Dramas, International Movies, Music & Musicals   \n",
              "\n",
              "                                            description  \n",
              "8801  Recovering alcoholic Talal wakes up inside a s...  \n",
              "8802  A political cartoonist, a crime reporter and a...  \n",
              "8804  Looking to survive in a world taken over by zo...  \n",
              "8805  Dragged from civilian life, a former superhero...  \n",
              "8806  A scrappy but poor boy worms his way into a ty...  "
            ],
            "text/html": [
              "\n",
              "  <div id=\"df-36f648c0-ea0b-455d-8935-2a14f53c373f\">\n",
              "    <div class=\"colab-df-container\">\n",
              "      <div>\n",
              "<style scoped>\n",
              "    .dataframe tbody tr th:only-of-type {\n",
              "        vertical-align: middle;\n",
              "    }\n",
              "\n",
              "    .dataframe tbody tr th {\n",
              "        vertical-align: top;\n",
              "    }\n",
              "\n",
              "    .dataframe thead th {\n",
              "        text-align: right;\n",
              "    }\n",
              "</style>\n",
              "<table border=\"1\" class=\"dataframe\">\n",
              "  <thead>\n",
              "    <tr style=\"text-align: right;\">\n",
              "      <th></th>\n",
              "      <th>show_id</th>\n",
              "      <th>type</th>\n",
              "      <th>title</th>\n",
              "      <th>director</th>\n",
              "      <th>cast</th>\n",
              "      <th>country</th>\n",
              "      <th>date_added</th>\n",
              "      <th>release_year</th>\n",
              "      <th>rating</th>\n",
              "      <th>duration</th>\n",
              "      <th>listed_in</th>\n",
              "      <th>description</th>\n",
              "    </tr>\n",
              "  </thead>\n",
              "  <tbody>\n",
              "    <tr>\n",
              "      <th>8801</th>\n",
              "      <td>s8802</td>\n",
              "      <td>Movie</td>\n",
              "      <td>Zinzana</td>\n",
              "      <td>Majid Al Ansari</td>\n",
              "      <td>Ali Suliman, Saleh Bakri, Yasa, Ali Al-Jabri, ...</td>\n",
              "      <td>United Arab Emirates, Jordan</td>\n",
              "      <td>March 9, 2016</td>\n",
              "      <td>2015</td>\n",
              "      <td>TV-MA</td>\n",
              "      <td>96 min</td>\n",
              "      <td>Dramas, International Movies, Thrillers</td>\n",
              "      <td>Recovering alcoholic Talal wakes up inside a s...</td>\n",
              "    </tr>\n",
              "    <tr>\n",
              "      <th>8802</th>\n",
              "      <td>s8803</td>\n",
              "      <td>Movie</td>\n",
              "      <td>Zodiac</td>\n",
              "      <td>David Fincher</td>\n",
              "      <td>Mark Ruffalo, Jake Gyllenhaal, Robert Downey J...</td>\n",
              "      <td>USA</td>\n",
              "      <td>November 20, 2019</td>\n",
              "      <td>2007</td>\n",
              "      <td>R</td>\n",
              "      <td>158 min</td>\n",
              "      <td>Cult Movies, Dramas, Thrillers</td>\n",
              "      <td>A political cartoonist, a crime reporter and a...</td>\n",
              "    </tr>\n",
              "    <tr>\n",
              "      <th>8804</th>\n",
              "      <td>s8805</td>\n",
              "      <td>Movie</td>\n",
              "      <td>Zombieland</td>\n",
              "      <td>Ruben Fleischer</td>\n",
              "      <td>Jesse Eisenberg, Woody Harrelson, Emma Stone, ...</td>\n",
              "      <td>USA</td>\n",
              "      <td>November 1, 2019</td>\n",
              "      <td>2009</td>\n",
              "      <td>R</td>\n",
              "      <td>88 min</td>\n",
              "      <td>Comedies, Horror Movies</td>\n",
              "      <td>Looking to survive in a world taken over by zo...</td>\n",
              "    </tr>\n",
              "    <tr>\n",
              "      <th>8805</th>\n",
              "      <td>s8806</td>\n",
              "      <td>Movie</td>\n",
              "      <td>Zoom</td>\n",
              "      <td>Peter Hewitt</td>\n",
              "      <td>Tim Allen, Courteney Cox, Chevy Chase, Kate Ma...</td>\n",
              "      <td>USA</td>\n",
              "      <td>January 11, 2020</td>\n",
              "      <td>2006</td>\n",
              "      <td>PG</td>\n",
              "      <td>88 min</td>\n",
              "      <td>Children &amp; Family Movies, Comedies</td>\n",
              "      <td>Dragged from civilian life, a former superhero...</td>\n",
              "    </tr>\n",
              "    <tr>\n",
              "      <th>8806</th>\n",
              "      <td>s8807</td>\n",
              "      <td>Movie</td>\n",
              "      <td>Zubaan</td>\n",
              "      <td>Mozez Singh</td>\n",
              "      <td>Vicky Kaushal, Sarah-Jane Dias, Raaghav Chanan...</td>\n",
              "      <td>India</td>\n",
              "      <td>March 2, 2019</td>\n",
              "      <td>2015</td>\n",
              "      <td>TV-14</td>\n",
              "      <td>111 min</td>\n",
              "      <td>Dramas, International Movies, Music &amp; Musicals</td>\n",
              "      <td>A scrappy but poor boy worms his way into a ty...</td>\n",
              "    </tr>\n",
              "  </tbody>\n",
              "</table>\n",
              "</div>\n",
              "      <button class=\"colab-df-convert\" onclick=\"convertToInteractive('df-36f648c0-ea0b-455d-8935-2a14f53c373f')\"\n",
              "              title=\"Convert this dataframe to an interactive table.\"\n",
              "              style=\"display:none;\">\n",
              "        \n",
              "  <svg xmlns=\"http://www.w3.org/2000/svg\" height=\"24px\"viewBox=\"0 0 24 24\"\n",
              "       width=\"24px\">\n",
              "    <path d=\"M0 0h24v24H0V0z\" fill=\"none\"/>\n",
              "    <path d=\"M18.56 5.44l.94 2.06.94-2.06 2.06-.94-2.06-.94-.94-2.06-.94 2.06-2.06.94zm-11 1L8.5 8.5l.94-2.06 2.06-.94-2.06-.94L8.5 2.5l-.94 2.06-2.06.94zm10 10l.94 2.06.94-2.06 2.06-.94-2.06-.94-.94-2.06-.94 2.06-2.06.94z\"/><path d=\"M17.41 7.96l-1.37-1.37c-.4-.4-.92-.59-1.43-.59-.52 0-1.04.2-1.43.59L10.3 9.45l-7.72 7.72c-.78.78-.78 2.05 0 2.83L4 21.41c.39.39.9.59 1.41.59.51 0 1.02-.2 1.41-.59l7.78-7.78 2.81-2.81c.8-.78.8-2.07 0-2.86zM5.41 20L4 18.59l7.72-7.72 1.47 1.35L5.41 20z\"/>\n",
              "  </svg>\n",
              "      </button>\n",
              "      \n",
              "  <style>\n",
              "    .colab-df-container {\n",
              "      display:flex;\n",
              "      flex-wrap:wrap;\n",
              "      gap: 12px;\n",
              "    }\n",
              "\n",
              "    .colab-df-convert {\n",
              "      background-color: #E8F0FE;\n",
              "      border: none;\n",
              "      border-radius: 50%;\n",
              "      cursor: pointer;\n",
              "      display: none;\n",
              "      fill: #1967D2;\n",
              "      height: 32px;\n",
              "      padding: 0 0 0 0;\n",
              "      width: 32px;\n",
              "    }\n",
              "\n",
              "    .colab-df-convert:hover {\n",
              "      background-color: #E2EBFA;\n",
              "      box-shadow: 0px 1px 2px rgba(60, 64, 67, 0.3), 0px 1px 3px 1px rgba(60, 64, 67, 0.15);\n",
              "      fill: #174EA6;\n",
              "    }\n",
              "\n",
              "    [theme=dark] .colab-df-convert {\n",
              "      background-color: #3B4455;\n",
              "      fill: #D2E3FC;\n",
              "    }\n",
              "\n",
              "    [theme=dark] .colab-df-convert:hover {\n",
              "      background-color: #434B5C;\n",
              "      box-shadow: 0px 1px 3px 1px rgba(0, 0, 0, 0.15);\n",
              "      filter: drop-shadow(0px 1px 2px rgba(0, 0, 0, 0.3));\n",
              "      fill: #FFFFFF;\n",
              "    }\n",
              "  </style>\n",
              "\n",
              "      <script>\n",
              "        const buttonEl =\n",
              "          document.querySelector('#df-36f648c0-ea0b-455d-8935-2a14f53c373f button.colab-df-convert');\n",
              "        buttonEl.style.display =\n",
              "          google.colab.kernel.accessAllowed ? 'block' : 'none';\n",
              "\n",
              "        async function convertToInteractive(key) {\n",
              "          const element = document.querySelector('#df-36f648c0-ea0b-455d-8935-2a14f53c373f');\n",
              "          const dataTable =\n",
              "            await google.colab.kernel.invokeFunction('convertToInteractive',\n",
              "                                                     [key], {});\n",
              "          if (!dataTable) return;\n",
              "\n",
              "          const docLinkHtml = 'Like what you see? Visit the ' +\n",
              "            '<a target=\"_blank\" href=https://colab.research.google.com/notebooks/data_table.ipynb>data table notebook</a>'\n",
              "            + ' to learn more about interactive tables.';\n",
              "          element.innerHTML = '';\n",
              "          dataTable['output_type'] = 'display_data';\n",
              "          await google.colab.output.renderOutput(dataTable, element);\n",
              "          const docLink = document.createElement('div');\n",
              "          docLink.innerHTML = docLinkHtml;\n",
              "          element.appendChild(docLink);\n",
              "        }\n",
              "      </script>\n",
              "    </div>\n",
              "  </div>\n",
              "  "
            ]
          },
          "metadata": {},
          "execution_count": 102
        }
      ]
    },
    {
      "cell_type": "code",
      "source": [
        "df.isnull().sum()"
      ],
      "metadata": {
        "colab": {
          "base_uri": "https://localhost:8080/"
        },
        "id": "Jwm3KeyfTstq",
        "outputId": "b7740419-824a-4c1c-f5fb-d03a65bdeb36"
      },
      "execution_count": null,
      "outputs": [
        {
          "output_type": "execute_result",
          "data": {
            "text/plain": [
              "show_id         0\n",
              "type            0\n",
              "title           0\n",
              "director        0\n",
              "cast            0\n",
              "country         0\n",
              "date_added      0\n",
              "release_year    0\n",
              "rating          0\n",
              "duration        0\n",
              "listed_in       0\n",
              "description     0\n",
              "dtype: int64"
            ]
          },
          "metadata": {},
          "execution_count": 103
        }
      ]
    },
    {
      "cell_type": "markdown",
      "source": [
        "# Removing Unwanted data"
      ],
      "metadata": {
        "id": "TSrVjR6xYla4"
      }
    },
    {
      "cell_type": "code",
      "source": [
        "to_drop=['director', 'cast','show_id','title', 'country', 'date_added', 'release_year','duration','listed_in']\n",
        "df.drop(to_drop, inplace=True, axis=1)\n",
        "df.head()"
      ],
      "metadata": {
        "colab": {
          "base_uri": "https://localhost:8080/",
          "height": 206
        },
        "id": "XY2e7c6vhCTy",
        "outputId": "369f5d4b-8882-4891-9b81-10b318d285dd"
      },
      "execution_count": null,
      "outputs": [
        {
          "output_type": "execute_result",
          "data": {
            "text/plain": [
              "      type rating                                        description\n",
              "2  TV Show  TV-MA  To protect his family from a powerful drug lor...\n",
              "5  TV Show  TV-MA  The arrival of a charismatic young priest brin...\n",
              "6    Movie     PG  Equestria's divided. But a bright-eyed hero be...\n",
              "7    Movie  TV-MA  On a photo shoot in Ghana, an American model s...\n",
              "8  TV Show  TV-14  A talented batch of amateur bakers face off in..."
            ],
            "text/html": [
              "\n",
              "  <div id=\"df-5a14141e-29f0-4afa-a8bf-41ade6684917\">\n",
              "    <div class=\"colab-df-container\">\n",
              "      <div>\n",
              "<style scoped>\n",
              "    .dataframe tbody tr th:only-of-type {\n",
              "        vertical-align: middle;\n",
              "    }\n",
              "\n",
              "    .dataframe tbody tr th {\n",
              "        vertical-align: top;\n",
              "    }\n",
              "\n",
              "    .dataframe thead th {\n",
              "        text-align: right;\n",
              "    }\n",
              "</style>\n",
              "<table border=\"1\" class=\"dataframe\">\n",
              "  <thead>\n",
              "    <tr style=\"text-align: right;\">\n",
              "      <th></th>\n",
              "      <th>type</th>\n",
              "      <th>rating</th>\n",
              "      <th>description</th>\n",
              "    </tr>\n",
              "  </thead>\n",
              "  <tbody>\n",
              "    <tr>\n",
              "      <th>2</th>\n",
              "      <td>TV Show</td>\n",
              "      <td>TV-MA</td>\n",
              "      <td>To protect his family from a powerful drug lor...</td>\n",
              "    </tr>\n",
              "    <tr>\n",
              "      <th>5</th>\n",
              "      <td>TV Show</td>\n",
              "      <td>TV-MA</td>\n",
              "      <td>The arrival of a charismatic young priest brin...</td>\n",
              "    </tr>\n",
              "    <tr>\n",
              "      <th>6</th>\n",
              "      <td>Movie</td>\n",
              "      <td>PG</td>\n",
              "      <td>Equestria's divided. But a bright-eyed hero be...</td>\n",
              "    </tr>\n",
              "    <tr>\n",
              "      <th>7</th>\n",
              "      <td>Movie</td>\n",
              "      <td>TV-MA</td>\n",
              "      <td>On a photo shoot in Ghana, an American model s...</td>\n",
              "    </tr>\n",
              "    <tr>\n",
              "      <th>8</th>\n",
              "      <td>TV Show</td>\n",
              "      <td>TV-14</td>\n",
              "      <td>A talented batch of amateur bakers face off in...</td>\n",
              "    </tr>\n",
              "  </tbody>\n",
              "</table>\n",
              "</div>\n",
              "      <button class=\"colab-df-convert\" onclick=\"convertToInteractive('df-5a14141e-29f0-4afa-a8bf-41ade6684917')\"\n",
              "              title=\"Convert this dataframe to an interactive table.\"\n",
              "              style=\"display:none;\">\n",
              "        \n",
              "  <svg xmlns=\"http://www.w3.org/2000/svg\" height=\"24px\"viewBox=\"0 0 24 24\"\n",
              "       width=\"24px\">\n",
              "    <path d=\"M0 0h24v24H0V0z\" fill=\"none\"/>\n",
              "    <path d=\"M18.56 5.44l.94 2.06.94-2.06 2.06-.94-2.06-.94-.94-2.06-.94 2.06-2.06.94zm-11 1L8.5 8.5l.94-2.06 2.06-.94-2.06-.94L8.5 2.5l-.94 2.06-2.06.94zm10 10l.94 2.06.94-2.06 2.06-.94-2.06-.94-.94-2.06-.94 2.06-2.06.94z\"/><path d=\"M17.41 7.96l-1.37-1.37c-.4-.4-.92-.59-1.43-.59-.52 0-1.04.2-1.43.59L10.3 9.45l-7.72 7.72c-.78.78-.78 2.05 0 2.83L4 21.41c.39.39.9.59 1.41.59.51 0 1.02-.2 1.41-.59l7.78-7.78 2.81-2.81c.8-.78.8-2.07 0-2.86zM5.41 20L4 18.59l7.72-7.72 1.47 1.35L5.41 20z\"/>\n",
              "  </svg>\n",
              "      </button>\n",
              "      \n",
              "  <style>\n",
              "    .colab-df-container {\n",
              "      display:flex;\n",
              "      flex-wrap:wrap;\n",
              "      gap: 12px;\n",
              "    }\n",
              "\n",
              "    .colab-df-convert {\n",
              "      background-color: #E8F0FE;\n",
              "      border: none;\n",
              "      border-radius: 50%;\n",
              "      cursor: pointer;\n",
              "      display: none;\n",
              "      fill: #1967D2;\n",
              "      height: 32px;\n",
              "      padding: 0 0 0 0;\n",
              "      width: 32px;\n",
              "    }\n",
              "\n",
              "    .colab-df-convert:hover {\n",
              "      background-color: #E2EBFA;\n",
              "      box-shadow: 0px 1px 2px rgba(60, 64, 67, 0.3), 0px 1px 3px 1px rgba(60, 64, 67, 0.15);\n",
              "      fill: #174EA6;\n",
              "    }\n",
              "\n",
              "    [theme=dark] .colab-df-convert {\n",
              "      background-color: #3B4455;\n",
              "      fill: #D2E3FC;\n",
              "    }\n",
              "\n",
              "    [theme=dark] .colab-df-convert:hover {\n",
              "      background-color: #434B5C;\n",
              "      box-shadow: 0px 1px 3px 1px rgba(0, 0, 0, 0.15);\n",
              "      filter: drop-shadow(0px 1px 2px rgba(0, 0, 0, 0.3));\n",
              "      fill: #FFFFFF;\n",
              "    }\n",
              "  </style>\n",
              "\n",
              "      <script>\n",
              "        const buttonEl =\n",
              "          document.querySelector('#df-5a14141e-29f0-4afa-a8bf-41ade6684917 button.colab-df-convert');\n",
              "        buttonEl.style.display =\n",
              "          google.colab.kernel.accessAllowed ? 'block' : 'none';\n",
              "\n",
              "        async function convertToInteractive(key) {\n",
              "          const element = document.querySelector('#df-5a14141e-29f0-4afa-a8bf-41ade6684917');\n",
              "          const dataTable =\n",
              "            await google.colab.kernel.invokeFunction('convertToInteractive',\n",
              "                                                     [key], {});\n",
              "          if (!dataTable) return;\n",
              "\n",
              "          const docLinkHtml = 'Like what you see? Visit the ' +\n",
              "            '<a target=\"_blank\" href=https://colab.research.google.com/notebooks/data_table.ipynb>data table notebook</a>'\n",
              "            + ' to learn more about interactive tables.';\n",
              "          element.innerHTML = '';\n",
              "          dataTable['output_type'] = 'display_data';\n",
              "          await google.colab.output.renderOutput(dataTable, element);\n",
              "          const docLink = document.createElement('div');\n",
              "          docLink.innerHTML = docLinkHtml;\n",
              "          element.appendChild(docLink);\n",
              "        }\n",
              "      </script>\n",
              "    </div>\n",
              "  </div>\n",
              "  "
            ]
          },
          "metadata": {},
          "execution_count": 104
        }
      ]
    },
    {
      "cell_type": "markdown",
      "source": [
        "# Converting Categorical Data\n"
      ],
      "metadata": {
        "id": "Y87clrkmbKSh"
      }
    },
    {
      "cell_type": "code",
      "source": [
        "type_of_show = df['type']\n",
        "movies= type_of_show.str.contains('Movie')\n",
        "movies[:5]"
      ],
      "metadata": {
        "colab": {
          "base_uri": "https://localhost:8080/"
        },
        "id": "f32YKkfbbQtW",
        "outputId": "ccf99be2-1b53-4c7c-e700-594a576a70e6"
      },
      "execution_count": null,
      "outputs": [
        {
          "output_type": "execute_result",
          "data": {
            "text/plain": [
              "2    False\n",
              "5    False\n",
              "6     True\n",
              "7     True\n",
              "8    False\n",
              "Name: type, dtype: bool"
            ]
          },
          "metadata": {},
          "execution_count": 105
        }
      ]
    },
    {
      "cell_type": "code",
      "source": [
        "tv_show= type_of_show.str.contains('TV Show')\n",
        "tv_show[:5]\n"
      ],
      "metadata": {
        "colab": {
          "base_uri": "https://localhost:8080/"
        },
        "id": "LZyelqSlcYUv",
        "outputId": "d46c99fb-1842-4ae9-bfe3-9b15e1c0f7ed"
      },
      "execution_count": null,
      "outputs": [
        {
          "output_type": "execute_result",
          "data": {
            "text/plain": [
              "2     True\n",
              "5     True\n",
              "6    False\n",
              "7    False\n",
              "8     True\n",
              "Name: type, dtype: bool"
            ]
          },
          "metadata": {},
          "execution_count": 106
        }
      ]
    },
    {
      "cell_type": "code",
      "source": [
        "df['type'] = df['type'].replace('TV Show', 1)\n",
        "df['type'] = df['type'].replace('Movie', 0)\n",
        "df['type'].head()"
      ],
      "metadata": {
        "colab": {
          "base_uri": "https://localhost:8080/"
        },
        "id": "TF_AFoixfC3V",
        "outputId": "b068ef14-08ab-4ed7-dcc6-ceebf546bb81"
      },
      "execution_count": null,
      "outputs": [
        {
          "output_type": "execute_result",
          "data": {
            "text/plain": [
              "2    1\n",
              "5    1\n",
              "6    0\n",
              "7    0\n",
              "8    1\n",
              "Name: type, dtype: int64"
            ]
          },
          "metadata": {},
          "execution_count": 107
        }
      ]
    },
    {
      "cell_type": "code",
      "source": [
        "df['rating'] = df['rating'].replace('TV-Y7-FV',1)\n",
        "df['rating'] = df['rating'].replace('TV-Y7',2)\n",
        "df['rating'] = df['rating'].replace('TV-Y',3)\n",
        "df['rating'] = df['rating'].replace('TV-PG',4)\n",
        "df['rating'] = df['rating'].replace('TV-MA',5)\n",
        "df['rating'] = df['rating'].replace('TV-G',6)\n",
        "df['rating'] = df['rating'].replace('TV-14',7)\n",
        "df['rating'] = df['rating'].replace('R',8)\n",
        "df['rating'] = df['rating'].replace('PG-13',9)\n",
        "df['rating'] = df['rating'].replace('PG',10)\n",
        "df['rating'] = df['rating'].replace('NR',11)\n",
        "df['rating'] = df['rating'].replace('NC-17',12)\n",
        "df['rating'] = df['rating'].replace('G',13)\n",
        "df['rating'] = df['rating'].replace('UR',14)\n",
        "\n",
        "df['rating'].head()"
      ],
      "metadata": {
        "colab": {
          "base_uri": "https://localhost:8080/"
        },
        "id": "t_6exuMPgCdM",
        "outputId": "4cba2931-6f96-4656-d083-9b53dbc35b6e"
      },
      "execution_count": null,
      "outputs": [
        {
          "output_type": "execute_result",
          "data": {
            "text/plain": [
              "2     5\n",
              "5     5\n",
              "6    10\n",
              "7     5\n",
              "8     7\n",
              "Name: rating, dtype: int64"
            ]
          },
          "metadata": {},
          "execution_count": 108
        }
      ]
    },
    {
      "cell_type": "markdown",
      "source": [
        "# Loading into numpy array"
      ],
      "metadata": {
        "id": "ZtGtbGtJGwSn"
      }
    },
    {
      "cell_type": "code",
      "source": [
        "arr= np.array(df)\n",
        "print(arr) # array\n",
        "print(arr.ndim, \"Dimentional array\") # dimensions of the array\n",
        "\n",
        "for i in range(10):\n",
        "  print(arr[i][1]) # printing first 10 records in the 1st column\n",
        "  print(arr[i][2]) # printing first 10 records in the 2st column\n",
        "  # print(arr[i][3]) # printing first 10 records in the 3st column\n"
      ],
      "metadata": {
        "colab": {
          "base_uri": "https://localhost:8080/"
        },
        "id": "0nvhDOUdGzxM",
        "outputId": "6612b311-9935-4120-f987-f19ad0bdfd53"
      },
      "execution_count": null,
      "outputs": [
        {
          "output_type": "stream",
          "name": "stdout",
          "text": [
            "[[1 5\n",
            "  'To protect his family from a powerful drug lord, skilled thief Mehdi and his expert team of robbers are pulled into a violent and deadly turf war.']\n",
            " [1 5\n",
            "  'The arrival of a charismatic young priest brings glorious miracles, ominous mysteries and renewed religious fervor to a dying town desperate to believe.']\n",
            " [0 10\n",
            "  \"Equestria's divided. But a bright-eyed hero believes Earth Ponies, Pegasi and Unicorns should be pals — and, hoof to heart, she’s determined to prove it.\"]\n",
            " ...\n",
            " [0 8\n",
            "  'Looking to survive in a world taken over by zombies, a dorky college student teams with an urban roughneck and a pair of grifter sisters.']\n",
            " [0 10\n",
            "  'Dragged from civilian life, a former superhero must train a new crop of youthful saviors when the military preps for an attack by a familiar villain.']\n",
            " [0 7\n",
            "  \"A scrappy but poor boy worms his way into a tycoon's dysfunctional family, while facing his fear of music and the truth about his past.\"]]\n",
            "2 Dimentional array\n",
            "5\n",
            "To protect his family from a powerful drug lord, skilled thief Mehdi and his expert team of robbers are pulled into a violent and deadly turf war.\n",
            "5\n",
            "The arrival of a charismatic young priest brings glorious miracles, ominous mysteries and renewed religious fervor to a dying town desperate to believe.\n",
            "10\n",
            "Equestria's divided. But a bright-eyed hero believes Earth Ponies, Pegasi and Unicorns should be pals — and, hoof to heart, she’s determined to prove it.\n",
            "5\n",
            "On a photo shoot in Ghana, an American model slips back in time, becomes enslaved on a plantation and bears witness to the agony of her ancestral past.\n",
            "7\n",
            "A talented batch of amateur bakers face off in a 10-week competition, whipping up their best dishes in the hopes of being named the U.K.'s best.\n",
            "9\n",
            "A woman adjusting to life after a loss contends with a feisty bird that's taken over her garden — and a husband who's struggling to find a way forward.\n",
            "5\n",
            "Struggling to earn a living in Bangkok, a man joins an emergency rescue service and realizes he must unravel a citywide conspiracy.\n",
            "5\n",
            "After most of her family is murdered in a terrorist bombing, a young woman is unknowingly lured into joining the very group that killed them.\n",
            "4\n",
            "When the clever but socially-awkward Tetê joins a new school, she'll do anything to fit in. But the queen bee among her classmates has other ideas.\n",
            "7\n",
            "After a deadly home invasion at a couple’s new dream house, the traumatized wife searches for answers — and learns the real danger is just beginning.\n"
          ]
        }
      ]
    },
    {
      "cell_type": "markdown",
      "source": [
        "# Implimenting Algorithms"
      ],
      "metadata": {
        "id": "BBakhg6_ZKzL"
      }
    },
    {
      "cell_type": "code",
      "source": [
        "import spacy\n",
        "import nltk"
      ],
      "metadata": {
        "id": "T-nE-J4VZksX"
      },
      "execution_count": null,
      "outputs": []
    },
    {
      "cell_type": "code",
      "source": [
        "from nltk.tokenize import word_tokenize\n",
        "nlp = spacy.load(\"en_core_web_sm\")"
      ],
      "metadata": {
        "id": "gXOiitAiZ5-E"
      },
      "execution_count": null,
      "outputs": []
    },
    {
      "cell_type": "code",
      "source": [
        "nltk.download('punkt')\n",
        "nltk.download('vader_lexicon')"
      ],
      "metadata": {
        "colab": {
          "base_uri": "https://localhost:8080/"
        },
        "id": "nHo4aM0-jPFc",
        "outputId": "9e15afc1-7554-48a5-8117-9b7238eb15fb"
      },
      "execution_count": null,
      "outputs": [
        {
          "output_type": "stream",
          "name": "stderr",
          "text": [
            "[nltk_data] Downloading package punkt to /root/nltk_data...\n",
            "[nltk_data]   Package punkt is already up-to-date!\n",
            "[nltk_data] Downloading package vader_lexicon to /root/nltk_data...\n",
            "[nltk_data]   Package vader_lexicon is already up-to-date!\n"
          ]
        },
        {
          "output_type": "execute_result",
          "data": {
            "text/plain": [
              "True"
            ]
          },
          "metadata": {},
          "execution_count": 112
        }
      ]
    },
    {
      "cell_type": "code",
      "source": [
        "stop_words = nlp.Defaults.stop_words\n",
        "def processing(text):\n",
        "  tokenize= word_tokenize(text)\n",
        "  removeStop= [word for word in tokenize if word not in stop_words]\n",
        "  return ' '.join(removeStop)\n",
        "\n",
        "# result = []\n",
        "df['stop_words_removed']=df['description'].apply(processing)\n",
        "df['lemmatized']= df['stop_words_removed'].apply(lambda x: \" \".join([y.lemma_ for y in nlp(x)]))\n",
        "\n",
        "# for i in df['description']:\n",
        "#   result.append()"
      ],
      "metadata": {
        "id": "jNitK42CeUGP"
      },
      "execution_count": null,
      "outputs": []
    },
    {
      "cell_type": "code",
      "source": [
        "df.columns"
      ],
      "metadata": {
        "colab": {
          "base_uri": "https://localhost:8080/"
        },
        "id": "85ls72L7i4vK",
        "outputId": "2144c1c5-cb13-4bca-ca26-23047e8083c1"
      },
      "execution_count": null,
      "outputs": [
        {
          "output_type": "execute_result",
          "data": {
            "text/plain": [
              "Index(['type', 'rating', 'description', 'stop_words_removed', 'lemmatized'], dtype='object')"
            ]
          },
          "metadata": {},
          "execution_count": 114
        }
      ]
    },
    {
      "cell_type": "code",
      "source": [
        "df.head()"
      ],
      "metadata": {
        "colab": {
          "base_uri": "https://localhost:8080/",
          "height": 206
        },
        "id": "h4TwfvfshQsg",
        "outputId": "56406193-0e8f-469c-f795-db042dbb39f7"
      },
      "execution_count": null,
      "outputs": [
        {
          "output_type": "execute_result",
          "data": {
            "text/plain": [
              "   type  rating                                        description  \\\n",
              "2     1       5  To protect his family from a powerful drug lor...   \n",
              "5     1       5  The arrival of a charismatic young priest brin...   \n",
              "6     0      10  Equestria's divided. But a bright-eyed hero be...   \n",
              "7     0       5  On a photo shoot in Ghana, an American model s...   \n",
              "8     1       7  A talented batch of amateur bakers face off in...   \n",
              "\n",
              "                                  stop_words_removed  \\\n",
              "2  To protect family powerful drug lord , skilled...   \n",
              "5  The arrival charismatic young priest brings gl...   \n",
              "6  Equestria divided . But bright-eyed hero belie...   \n",
              "7  On photo shoot Ghana , American model slips ti...   \n",
              "8  A talented batch amateur bakers face 10-week c...   \n",
              "\n",
              "                                          lemmatized  \n",
              "2  to protect family powerful drug lord , skilled...  \n",
              "5  the arrival charismatic young priest bring glo...  \n",
              "6  Equestria divide . but bright - eyed hero beli...  \n",
              "7  on photo shoot Ghana , american model slip tim...  \n",
              "8  a talented batch amateur baker face 10 - week ...  "
            ],
            "text/html": [
              "\n",
              "  <div id=\"df-3d92e4ea-a268-44d7-aade-b8f00bf6f969\">\n",
              "    <div class=\"colab-df-container\">\n",
              "      <div>\n",
              "<style scoped>\n",
              "    .dataframe tbody tr th:only-of-type {\n",
              "        vertical-align: middle;\n",
              "    }\n",
              "\n",
              "    .dataframe tbody tr th {\n",
              "        vertical-align: top;\n",
              "    }\n",
              "\n",
              "    .dataframe thead th {\n",
              "        text-align: right;\n",
              "    }\n",
              "</style>\n",
              "<table border=\"1\" class=\"dataframe\">\n",
              "  <thead>\n",
              "    <tr style=\"text-align: right;\">\n",
              "      <th></th>\n",
              "      <th>type</th>\n",
              "      <th>rating</th>\n",
              "      <th>description</th>\n",
              "      <th>stop_words_removed</th>\n",
              "      <th>lemmatized</th>\n",
              "    </tr>\n",
              "  </thead>\n",
              "  <tbody>\n",
              "    <tr>\n",
              "      <th>2</th>\n",
              "      <td>1</td>\n",
              "      <td>5</td>\n",
              "      <td>To protect his family from a powerful drug lor...</td>\n",
              "      <td>To protect family powerful drug lord , skilled...</td>\n",
              "      <td>to protect family powerful drug lord , skilled...</td>\n",
              "    </tr>\n",
              "    <tr>\n",
              "      <th>5</th>\n",
              "      <td>1</td>\n",
              "      <td>5</td>\n",
              "      <td>The arrival of a charismatic young priest brin...</td>\n",
              "      <td>The arrival charismatic young priest brings gl...</td>\n",
              "      <td>the arrival charismatic young priest bring glo...</td>\n",
              "    </tr>\n",
              "    <tr>\n",
              "      <th>6</th>\n",
              "      <td>0</td>\n",
              "      <td>10</td>\n",
              "      <td>Equestria's divided. But a bright-eyed hero be...</td>\n",
              "      <td>Equestria divided . But bright-eyed hero belie...</td>\n",
              "      <td>Equestria divide . but bright - eyed hero beli...</td>\n",
              "    </tr>\n",
              "    <tr>\n",
              "      <th>7</th>\n",
              "      <td>0</td>\n",
              "      <td>5</td>\n",
              "      <td>On a photo shoot in Ghana, an American model s...</td>\n",
              "      <td>On photo shoot Ghana , American model slips ti...</td>\n",
              "      <td>on photo shoot Ghana , american model slip tim...</td>\n",
              "    </tr>\n",
              "    <tr>\n",
              "      <th>8</th>\n",
              "      <td>1</td>\n",
              "      <td>7</td>\n",
              "      <td>A talented batch of amateur bakers face off in...</td>\n",
              "      <td>A talented batch amateur bakers face 10-week c...</td>\n",
              "      <td>a talented batch amateur baker face 10 - week ...</td>\n",
              "    </tr>\n",
              "  </tbody>\n",
              "</table>\n",
              "</div>\n",
              "      <button class=\"colab-df-convert\" onclick=\"convertToInteractive('df-3d92e4ea-a268-44d7-aade-b8f00bf6f969')\"\n",
              "              title=\"Convert this dataframe to an interactive table.\"\n",
              "              style=\"display:none;\">\n",
              "        \n",
              "  <svg xmlns=\"http://www.w3.org/2000/svg\" height=\"24px\"viewBox=\"0 0 24 24\"\n",
              "       width=\"24px\">\n",
              "    <path d=\"M0 0h24v24H0V0z\" fill=\"none\"/>\n",
              "    <path d=\"M18.56 5.44l.94 2.06.94-2.06 2.06-.94-2.06-.94-.94-2.06-.94 2.06-2.06.94zm-11 1L8.5 8.5l.94-2.06 2.06-.94-2.06-.94L8.5 2.5l-.94 2.06-2.06.94zm10 10l.94 2.06.94-2.06 2.06-.94-2.06-.94-.94-2.06-.94 2.06-2.06.94z\"/><path d=\"M17.41 7.96l-1.37-1.37c-.4-.4-.92-.59-1.43-.59-.52 0-1.04.2-1.43.59L10.3 9.45l-7.72 7.72c-.78.78-.78 2.05 0 2.83L4 21.41c.39.39.9.59 1.41.59.51 0 1.02-.2 1.41-.59l7.78-7.78 2.81-2.81c.8-.78.8-2.07 0-2.86zM5.41 20L4 18.59l7.72-7.72 1.47 1.35L5.41 20z\"/>\n",
              "  </svg>\n",
              "      </button>\n",
              "      \n",
              "  <style>\n",
              "    .colab-df-container {\n",
              "      display:flex;\n",
              "      flex-wrap:wrap;\n",
              "      gap: 12px;\n",
              "    }\n",
              "\n",
              "    .colab-df-convert {\n",
              "      background-color: #E8F0FE;\n",
              "      border: none;\n",
              "      border-radius: 50%;\n",
              "      cursor: pointer;\n",
              "      display: none;\n",
              "      fill: #1967D2;\n",
              "      height: 32px;\n",
              "      padding: 0 0 0 0;\n",
              "      width: 32px;\n",
              "    }\n",
              "\n",
              "    .colab-df-convert:hover {\n",
              "      background-color: #E2EBFA;\n",
              "      box-shadow: 0px 1px 2px rgba(60, 64, 67, 0.3), 0px 1px 3px 1px rgba(60, 64, 67, 0.15);\n",
              "      fill: #174EA6;\n",
              "    }\n",
              "\n",
              "    [theme=dark] .colab-df-convert {\n",
              "      background-color: #3B4455;\n",
              "      fill: #D2E3FC;\n",
              "    }\n",
              "\n",
              "    [theme=dark] .colab-df-convert:hover {\n",
              "      background-color: #434B5C;\n",
              "      box-shadow: 0px 1px 3px 1px rgba(0, 0, 0, 0.15);\n",
              "      filter: drop-shadow(0px 1px 2px rgba(0, 0, 0, 0.3));\n",
              "      fill: #FFFFFF;\n",
              "    }\n",
              "  </style>\n",
              "\n",
              "      <script>\n",
              "        const buttonEl =\n",
              "          document.querySelector('#df-3d92e4ea-a268-44d7-aade-b8f00bf6f969 button.colab-df-convert');\n",
              "        buttonEl.style.display =\n",
              "          google.colab.kernel.accessAllowed ? 'block' : 'none';\n",
              "\n",
              "        async function convertToInteractive(key) {\n",
              "          const element = document.querySelector('#df-3d92e4ea-a268-44d7-aade-b8f00bf6f969');\n",
              "          const dataTable =\n",
              "            await google.colab.kernel.invokeFunction('convertToInteractive',\n",
              "                                                     [key], {});\n",
              "          if (!dataTable) return;\n",
              "\n",
              "          const docLinkHtml = 'Like what you see? Visit the ' +\n",
              "            '<a target=\"_blank\" href=https://colab.research.google.com/notebooks/data_table.ipynb>data table notebook</a>'\n",
              "            + ' to learn more about interactive tables.';\n",
              "          element.innerHTML = '';\n",
              "          dataTable['output_type'] = 'display_data';\n",
              "          await google.colab.output.renderOutput(dataTable, element);\n",
              "          const docLink = document.createElement('div');\n",
              "          docLink.innerHTML = docLinkHtml;\n",
              "          element.appendChild(docLink);\n",
              "        }\n",
              "      </script>\n",
              "    </div>\n",
              "  </div>\n",
              "  "
            ]
          },
          "metadata": {},
          "execution_count": 115
        }
      ]
    },
    {
      "cell_type": "markdown",
      "source": [
        "# VADER Senti analysis"
      ],
      "metadata": {
        "id": "b7szvm7vk791"
      }
    },
    {
      "cell_type": "code",
      "source": [
        "from nltk.sentiment.vader import SentimentIntensityAnalyzer\n",
        "sid = SentimentIntensityAnalyzer()\n"
      ],
      "metadata": {
        "id": "RiZkhXlzlAyc"
      },
      "execution_count": null,
      "outputs": []
    },
    {
      "cell_type": "code",
      "source": [
        "def vadfun(text):\n",
        "  return(sid.polarity_scores(text)['compound'])\n",
        "\n",
        "df['compound_score']=df['lemmatized'].apply(vadfun)\n",
        "df['senti_type']=df['compound_score'].apply(lambda x: 'Positive' if(x>0) else('Negative'if(x<0)else 'Neutral'))"
      ],
      "metadata": {
        "id": "8rUolsZCpJxl"
      },
      "execution_count": null,
      "outputs": []
    },
    {
      "cell_type": "code",
      "source": [
        "df.head(10)"
      ],
      "metadata": {
        "colab": {
          "base_uri": "https://localhost:8080/",
          "height": 363
        },
        "id": "NcyP8M-Vu1TA",
        "outputId": "80217867-b4c5-46de-807a-32c885706e01"
      },
      "execution_count": null,
      "outputs": [
        {
          "output_type": "execute_result",
          "data": {
            "text/plain": [
              "    type  rating                                        description  \\\n",
              "2      1       5  To protect his family from a powerful drug lor...   \n",
              "5      1       5  The arrival of a charismatic young priest brin...   \n",
              "6      0      10  Equestria's divided. But a bright-eyed hero be...   \n",
              "7      0       5  On a photo shoot in Ghana, an American model s...   \n",
              "8      1       7  A talented batch of amateur bakers face off in...   \n",
              "9      0       9  A woman adjusting to life after a loss contend...   \n",
              "11     1       5  Struggling to earn a living in Bangkok, a man ...   \n",
              "12     0       5  After most of her family is murdered in a terr...   \n",
              "13     0       4  When the clever but socially-awkward Tetê join...   \n",
              "18     0       7  After a deadly home invasion at a couple’s new...   \n",
              "\n",
              "                                   stop_words_removed  \\\n",
              "2   To protect family powerful drug lord , skilled...   \n",
              "5   The arrival charismatic young priest brings gl...   \n",
              "6   Equestria divided . But bright-eyed hero belie...   \n",
              "7   On photo shoot Ghana , American model slips ti...   \n",
              "8   A talented batch amateur bakers face 10-week c...   \n",
              "9   A woman adjusting life loss contends feisty bi...   \n",
              "11  Struggling earn living Bangkok , man joins eme...   \n",
              "12  After family murdered terrorist bombing , youn...   \n",
              "13  When clever socially-awkward Tetê joins new sc...   \n",
              "18  After deadly home invasion couple ’ s new drea...   \n",
              "\n",
              "                                           lemmatized  compound_score  \\\n",
              "2   to protect family powerful drug lord , skilled...         -0.8860   \n",
              "5   the arrival charismatic young priest bring glo...          0.1027   \n",
              "6   Equestria divide . but bright - eyed hero beli...          0.9161   \n",
              "7   on photo shoot Ghana , american model slip tim...         -0.8519   \n",
              "8   a talented batch amateur baker face 10 - week ...          0.8807   \n",
              "9   a woman adjust life loss contend feisty bird t...         -0.5267   \n",
              "11  struggle earn live Bangkok , man join emergenc...         -0.4215   \n",
              "12  after family murder terrorist bombing , young ...         -0.9313   \n",
              "13  when clever socially - awkward Tetê join new s...          0.4678   \n",
              "18  after deadly home invasion couple ' s new drea...         -0.6249   \n",
              "\n",
              "   senti_type  \n",
              "2    Negative  \n",
              "5    Positive  \n",
              "6    Positive  \n",
              "7    Negative  \n",
              "8    Positive  \n",
              "9    Negative  \n",
              "11   Negative  \n",
              "12   Negative  \n",
              "13   Positive  \n",
              "18   Negative  "
            ],
            "text/html": [
              "\n",
              "  <div id=\"df-c0baa0da-eecd-4780-8b8d-5529f2a51cff\">\n",
              "    <div class=\"colab-df-container\">\n",
              "      <div>\n",
              "<style scoped>\n",
              "    .dataframe tbody tr th:only-of-type {\n",
              "        vertical-align: middle;\n",
              "    }\n",
              "\n",
              "    .dataframe tbody tr th {\n",
              "        vertical-align: top;\n",
              "    }\n",
              "\n",
              "    .dataframe thead th {\n",
              "        text-align: right;\n",
              "    }\n",
              "</style>\n",
              "<table border=\"1\" class=\"dataframe\">\n",
              "  <thead>\n",
              "    <tr style=\"text-align: right;\">\n",
              "      <th></th>\n",
              "      <th>type</th>\n",
              "      <th>rating</th>\n",
              "      <th>description</th>\n",
              "      <th>stop_words_removed</th>\n",
              "      <th>lemmatized</th>\n",
              "      <th>compound_score</th>\n",
              "      <th>senti_type</th>\n",
              "    </tr>\n",
              "  </thead>\n",
              "  <tbody>\n",
              "    <tr>\n",
              "      <th>2</th>\n",
              "      <td>1</td>\n",
              "      <td>5</td>\n",
              "      <td>To protect his family from a powerful drug lor...</td>\n",
              "      <td>To protect family powerful drug lord , skilled...</td>\n",
              "      <td>to protect family powerful drug lord , skilled...</td>\n",
              "      <td>-0.8860</td>\n",
              "      <td>Negative</td>\n",
              "    </tr>\n",
              "    <tr>\n",
              "      <th>5</th>\n",
              "      <td>1</td>\n",
              "      <td>5</td>\n",
              "      <td>The arrival of a charismatic young priest brin...</td>\n",
              "      <td>The arrival charismatic young priest brings gl...</td>\n",
              "      <td>the arrival charismatic young priest bring glo...</td>\n",
              "      <td>0.1027</td>\n",
              "      <td>Positive</td>\n",
              "    </tr>\n",
              "    <tr>\n",
              "      <th>6</th>\n",
              "      <td>0</td>\n",
              "      <td>10</td>\n",
              "      <td>Equestria's divided. But a bright-eyed hero be...</td>\n",
              "      <td>Equestria divided . But bright-eyed hero belie...</td>\n",
              "      <td>Equestria divide . but bright - eyed hero beli...</td>\n",
              "      <td>0.9161</td>\n",
              "      <td>Positive</td>\n",
              "    </tr>\n",
              "    <tr>\n",
              "      <th>7</th>\n",
              "      <td>0</td>\n",
              "      <td>5</td>\n",
              "      <td>On a photo shoot in Ghana, an American model s...</td>\n",
              "      <td>On photo shoot Ghana , American model slips ti...</td>\n",
              "      <td>on photo shoot Ghana , american model slip tim...</td>\n",
              "      <td>-0.8519</td>\n",
              "      <td>Negative</td>\n",
              "    </tr>\n",
              "    <tr>\n",
              "      <th>8</th>\n",
              "      <td>1</td>\n",
              "      <td>7</td>\n",
              "      <td>A talented batch of amateur bakers face off in...</td>\n",
              "      <td>A talented batch amateur bakers face 10-week c...</td>\n",
              "      <td>a talented batch amateur baker face 10 - week ...</td>\n",
              "      <td>0.8807</td>\n",
              "      <td>Positive</td>\n",
              "    </tr>\n",
              "    <tr>\n",
              "      <th>9</th>\n",
              "      <td>0</td>\n",
              "      <td>9</td>\n",
              "      <td>A woman adjusting to life after a loss contend...</td>\n",
              "      <td>A woman adjusting life loss contends feisty bi...</td>\n",
              "      <td>a woman adjust life loss contend feisty bird t...</td>\n",
              "      <td>-0.5267</td>\n",
              "      <td>Negative</td>\n",
              "    </tr>\n",
              "    <tr>\n",
              "      <th>11</th>\n",
              "      <td>1</td>\n",
              "      <td>5</td>\n",
              "      <td>Struggling to earn a living in Bangkok, a man ...</td>\n",
              "      <td>Struggling earn living Bangkok , man joins eme...</td>\n",
              "      <td>struggle earn live Bangkok , man join emergenc...</td>\n",
              "      <td>-0.4215</td>\n",
              "      <td>Negative</td>\n",
              "    </tr>\n",
              "    <tr>\n",
              "      <th>12</th>\n",
              "      <td>0</td>\n",
              "      <td>5</td>\n",
              "      <td>After most of her family is murdered in a terr...</td>\n",
              "      <td>After family murdered terrorist bombing , youn...</td>\n",
              "      <td>after family murder terrorist bombing , young ...</td>\n",
              "      <td>-0.9313</td>\n",
              "      <td>Negative</td>\n",
              "    </tr>\n",
              "    <tr>\n",
              "      <th>13</th>\n",
              "      <td>0</td>\n",
              "      <td>4</td>\n",
              "      <td>When the clever but socially-awkward Tetê join...</td>\n",
              "      <td>When clever socially-awkward Tetê joins new sc...</td>\n",
              "      <td>when clever socially - awkward Tetê join new s...</td>\n",
              "      <td>0.4678</td>\n",
              "      <td>Positive</td>\n",
              "    </tr>\n",
              "    <tr>\n",
              "      <th>18</th>\n",
              "      <td>0</td>\n",
              "      <td>7</td>\n",
              "      <td>After a deadly home invasion at a couple’s new...</td>\n",
              "      <td>After deadly home invasion couple ’ s new drea...</td>\n",
              "      <td>after deadly home invasion couple ' s new drea...</td>\n",
              "      <td>-0.6249</td>\n",
              "      <td>Negative</td>\n",
              "    </tr>\n",
              "  </tbody>\n",
              "</table>\n",
              "</div>\n",
              "      <button class=\"colab-df-convert\" onclick=\"convertToInteractive('df-c0baa0da-eecd-4780-8b8d-5529f2a51cff')\"\n",
              "              title=\"Convert this dataframe to an interactive table.\"\n",
              "              style=\"display:none;\">\n",
              "        \n",
              "  <svg xmlns=\"http://www.w3.org/2000/svg\" height=\"24px\"viewBox=\"0 0 24 24\"\n",
              "       width=\"24px\">\n",
              "    <path d=\"M0 0h24v24H0V0z\" fill=\"none\"/>\n",
              "    <path d=\"M18.56 5.44l.94 2.06.94-2.06 2.06-.94-2.06-.94-.94-2.06-.94 2.06-2.06.94zm-11 1L8.5 8.5l.94-2.06 2.06-.94-2.06-.94L8.5 2.5l-.94 2.06-2.06.94zm10 10l.94 2.06.94-2.06 2.06-.94-2.06-.94-.94-2.06-.94 2.06-2.06.94z\"/><path d=\"M17.41 7.96l-1.37-1.37c-.4-.4-.92-.59-1.43-.59-.52 0-1.04.2-1.43.59L10.3 9.45l-7.72 7.72c-.78.78-.78 2.05 0 2.83L4 21.41c.39.39.9.59 1.41.59.51 0 1.02-.2 1.41-.59l7.78-7.78 2.81-2.81c.8-.78.8-2.07 0-2.86zM5.41 20L4 18.59l7.72-7.72 1.47 1.35L5.41 20z\"/>\n",
              "  </svg>\n",
              "      </button>\n",
              "      \n",
              "  <style>\n",
              "    .colab-df-container {\n",
              "      display:flex;\n",
              "      flex-wrap:wrap;\n",
              "      gap: 12px;\n",
              "    }\n",
              "\n",
              "    .colab-df-convert {\n",
              "      background-color: #E8F0FE;\n",
              "      border: none;\n",
              "      border-radius: 50%;\n",
              "      cursor: pointer;\n",
              "      display: none;\n",
              "      fill: #1967D2;\n",
              "      height: 32px;\n",
              "      padding: 0 0 0 0;\n",
              "      width: 32px;\n",
              "    }\n",
              "\n",
              "    .colab-df-convert:hover {\n",
              "      background-color: #E2EBFA;\n",
              "      box-shadow: 0px 1px 2px rgba(60, 64, 67, 0.3), 0px 1px 3px 1px rgba(60, 64, 67, 0.15);\n",
              "      fill: #174EA6;\n",
              "    }\n",
              "\n",
              "    [theme=dark] .colab-df-convert {\n",
              "      background-color: #3B4455;\n",
              "      fill: #D2E3FC;\n",
              "    }\n",
              "\n",
              "    [theme=dark] .colab-df-convert:hover {\n",
              "      background-color: #434B5C;\n",
              "      box-shadow: 0px 1px 3px 1px rgba(0, 0, 0, 0.15);\n",
              "      filter: drop-shadow(0px 1px 2px rgba(0, 0, 0, 0.3));\n",
              "      fill: #FFFFFF;\n",
              "    }\n",
              "  </style>\n",
              "\n",
              "      <script>\n",
              "        const buttonEl =\n",
              "          document.querySelector('#df-c0baa0da-eecd-4780-8b8d-5529f2a51cff button.colab-df-convert');\n",
              "        buttonEl.style.display =\n",
              "          google.colab.kernel.accessAllowed ? 'block' : 'none';\n",
              "\n",
              "        async function convertToInteractive(key) {\n",
              "          const element = document.querySelector('#df-c0baa0da-eecd-4780-8b8d-5529f2a51cff');\n",
              "          const dataTable =\n",
              "            await google.colab.kernel.invokeFunction('convertToInteractive',\n",
              "                                                     [key], {});\n",
              "          if (!dataTable) return;\n",
              "\n",
              "          const docLinkHtml = 'Like what you see? Visit the ' +\n",
              "            '<a target=\"_blank\" href=https://colab.research.google.com/notebooks/data_table.ipynb>data table notebook</a>'\n",
              "            + ' to learn more about interactive tables.';\n",
              "          element.innerHTML = '';\n",
              "          dataTable['output_type'] = 'display_data';\n",
              "          await google.colab.output.renderOutput(dataTable, element);\n",
              "          const docLink = document.createElement('div');\n",
              "          docLink.innerHTML = docLinkHtml;\n",
              "          element.appendChild(docLink);\n",
              "        }\n",
              "      </script>\n",
              "    </div>\n",
              "  </div>\n",
              "  "
            ]
          },
          "metadata": {},
          "execution_count": 118
        }
      ]
    },
    {
      "cell_type": "markdown",
      "source": [
        "#visualization\n"
      ],
      "metadata": {
        "id": "VQyC4r9fhbOu"
      }
    },
    {
      "cell_type": "code",
      "source": [
        "df.hist()"
      ],
      "metadata": {
        "colab": {
          "base_uri": "https://localhost:8080/",
          "height": 368
        },
        "id": "kLXvOdMmheC3",
        "outputId": "3865ca2c-c6dc-4ccb-a75c-559f9525bb29"
      },
      "execution_count": null,
      "outputs": [
        {
          "output_type": "execute_result",
          "data": {
            "text/plain": [
              "array([[<matplotlib.axes._subplots.AxesSubplot object at 0x7f78c042d100>,\n",
              "        <matplotlib.axes._subplots.AxesSubplot object at 0x7f78abe7f0d0>],\n",
              "       [<matplotlib.axes._subplots.AxesSubplot object at 0x7f78abda3490>,\n",
              "        <matplotlib.axes._subplots.AxesSubplot object at 0x7f78abcff8b0>]],\n",
              "      dtype=object)"
            ]
          },
          "metadata": {},
          "execution_count": 119
        },
        {
          "output_type": "display_data",
          "data": {
            "text/plain": [
              "<Figure size 432x288 with 4 Axes>"
            ],
            "image/png": "[encoded data removed]"
          },
          "metadata": {
            "needs_background": "light"
          }
        }
      ]
    },
    {
      "cell_type": "code",
      "source": [
        "plt.scatter(df['rating'],df['compound_score'])"
      ],
      "metadata": {
        "colab": {
          "base_uri": "https://localhost:8080/",
          "height": 282
        },
        "id": "enjZ58uph6VB",
        "outputId": "16ab6fa7-72b3-4ed3-b78d-0d45219b9d98"
      },
      "execution_count": null,
      "outputs": [
        {
          "output_type": "execute_result",
          "data": {
            "text/plain": [
              "<matplotlib.collections.PathCollection at 0x7f78abe34ca0>"
            ]
          },
          "metadata": {},
          "execution_count": 120
        },
        {
          "output_type": "display_data",
          "data": {
            "text/plain": [
              "<Figure size 432x288 with 1 Axes>"
            ],
            "image/png": "[encoded data removed]"
          },
          "metadata": {
            "needs_background": "light"
          }
        }
      ]
    },
    {
      "cell_type": "code",
      "source": [
        "plt.bar(df['type'], df['compound_score'])"
      ],
      "metadata": {
        "colab": {
          "base_uri": "https://localhost:8080/",
          "height": 282
        },
        "id": "AI4asjR8iiga",
        "outputId": "154a8bc5-bbfc-4602-bd55-583b2e174513"
      },
      "execution_count": null,
      "outputs": [
        {
          "output_type": "execute_result",
          "data": {
            "text/plain": [
              "<BarContainer object of 5696 artists>"
            ]
          },
          "metadata": {},
          "execution_count": 121
        },
        {
          "output_type": "display_data",
          "data": {
            "text/plain": [
              "<Figure size 432x288 with 1 Axes>"
            ],
            "image/png": "[encoded data removed]"
          },
          "metadata": {
            "needs_background": "light"
          }
        }
      ]
    },
    {
      "cell_type": "code",
      "source": [
        "sns.kdeplot(data=df, x=\"compound_score\", hue=\"senti_type\", multiple=\"stack\")"
      ],
      "metadata": {
        "colab": {
          "base_uri": "https://localhost:8080/",
          "height": 352
        },
        "id": "xO8z1aqI8LxX",
        "outputId": "532dcb99-7361-4362-b38b-9a395bdf2f35"
      },
      "execution_count": null,
      "outputs": [
        {
          "output_type": "stream",
          "name": "stderr",
          "text": [
            "/usr/local/lib/python3.8/dist-packages/seaborn/distributions.py:316: UserWarning: Dataset has 0 variance; skipping density estimate. Pass `warn_singular=False` to disable this warning.\n",
            "  warnings.warn(msg, UserWarning)\n"
          ]
        },
        {
          "output_type": "execute_result",
          "data": {
            "text/plain": [
              "<matplotlib.axes._subplots.AxesSubplot at 0x7f78abddd490>"
            ]
          },
          "metadata": {},
          "execution_count": 122
        },
        {
          "output_type": "display_data",
          "data": {
            "text/plain": [
              "<Figure size 432x288 with 1 Axes>"
            ],
            "image/png": "[encoded data removed]"
          },
          "metadata": {
            "needs_background": "light"
          }
        }
      ]
    },
    {
      "cell_type": "code",
      "source": [
        "sns.pairplot(data=df, hue='senti_type',kind='kde')"
      ],
      "metadata": {
        "colab": {
          "base_uri": "https://localhost:8080/",
          "height": 567
        },
        "id": "1FXj4nPQApXc",
        "outputId": "dea985cf-061a-4cb8-c1e6-6c83278de87c"
      },
      "execution_count": null,
      "outputs": [
        {
          "output_type": "execute_result",
          "data": {
            "text/plain": [
              "<seaborn.axisgrid.PairGrid at 0x7f78aa2caac0>"
            ]
          },
          "metadata": {},
          "execution_count": 123
        },
        {
          "output_type": "display_data",
          "data": {
            "text/plain": [
              "<Figure size 620.875x540 with 12 Axes>"
            ],
            "image/png": "[encoded data removed]"
          },
          "metadata": {
            "needs_background": "light"
          }
        }
      ]
    },
    {
      "cell_type": "code",
      "source": [
        "sns.pairplot(data=df, hue='senti_type')"
      ],
      "metadata": {
        "colab": {
          "base_uri": "https://localhost:8080/",
          "height": 567
        },
        "id": "YUj2tlf9HrUf",
        "outputId": "5adabc27-178d-4966-e59a-c49d184de121"
      },
      "execution_count": null,
      "outputs": [
        {
          "output_type": "execute_result",
          "data": {
            "text/plain": [
              "<seaborn.axisgrid.PairGrid at 0x7f78a903d700>"
            ]
          },
          "metadata": {},
          "execution_count": 124
        },
        {
          "output_type": "display_data",
          "data": {
            "text/plain": [
              "<Figure size 620.875x540 with 12 Axes>"
            ],
            "image/png": "[encoded data removed]"
          },
          "metadata": {
            "needs_background": "light"
          }
        }
      ]
    },
    {
      "cell_type": "code",
      "source": [
        "df['compound_score'].describe()"
      ],
      "metadata": {
        "colab": {
          "base_uri": "https://localhost:8080/"
        },
        "id": "ipk4UNCM9VgQ",
        "outputId": "b20550c2-2aa7-479e-a293-ffdf42436c57"
      },
      "execution_count": null,
      "outputs": [
        {
          "output_type": "execute_result",
          "data": {
            "text/plain": [
              "count    5696.000000\n",
              "mean       -0.011200\n",
              "std         0.561618\n",
              "min        -0.973200\n",
              "25%        -0.526700\n",
              "50%         0.000000\n",
              "75%         0.495425\n",
              "max         0.962800\n",
              "Name: compound_score, dtype: float64"
            ]
          },
          "metadata": {},
          "execution_count": 125
        }
      ]
    },
    {
      "cell_type": "markdown",
      "source": [
        "# List of Genre present in netflix"
      ],
      "metadata": {
        "id": "RqjnKYv1dI_8"
      }
    },
    {
      "cell_type": "code",
      "source": [
        "genreList=['Comedies','Action','Romance','Dramas','Thriller','Horror','Sci-fi','Crime','Fantasy','Documentaries']\n",
        "positiveGL=['Comedies','Fantasy',] #0.1 to 0.49\n",
        "VPositiveGL = ['Romance', 'Dramas'] #0.5 to 1.0\n",
        "negativeGL=['Action','Crime'] #-0.1 to -0.49\n",
        "VnegativeGL=['Thriller','Horror'] # -0.5 to -1.0\n",
        "neutralGL=['Sci-fi','Documentaries'] #-0.1 to 0.1\n"
      ],
      "metadata": {
        "id": "JjimqL_cxNq2"
      },
      "execution_count": null,
      "outputs": []
    },
    {
      "cell_type": "markdown",
      "source": [
        "# finding Genre"
      ],
      "metadata": {
        "id": "KbKG8Grl34_z"
      }
    },
    {
      "cell_type": "code",
      "source": [
        "# if df['compound_score'] > -0.1 & df['compound_score']< 0.1 :\n",
        "#   df['Genre'] = neutralGL\n",
        "# if df['compound_score'] > 0.1 & df['compound_score']< 0.49 :\n",
        "#   df['Genre'] = positiveGL\n",
        "# if df['compound_score'] > 0.5 & df['compound_score']< 1 :\n",
        "#   df['Genre'] = VPositiveGL\n",
        "# if df['compound_score'] < -0.1 & df['compound_score']> -0.49 :\n",
        "#   df['Genre'] = negativeGL\n",
        "# if df['compound_score'] < -0.5 & df['compound_score']> -1 :\n",
        "#   df['Genre'] = negativeGL\n",
        "\n",
        "Genre=[]\n",
        "for row in df['compound_score']:\n",
        "  if row < -0.5:\n",
        "    Genre.append(VnegativeGL)\n",
        "  elif row < -0.1:\n",
        "    Genre.append(negativeGL)\n",
        "  elif row < 0.1:\n",
        "    Genre.append(neutralGL)\n",
        "  elif row < 0.5:\n",
        "    Genre.append(positiveGL)\n",
        "  else:\n",
        "    Genre.append(VPositiveGL)\n",
        "print(Genre)\n",
        "df['Genre']= Genre\n",
        "\n",
        "\n",
        "\n",
        "\n",
        "\n"
      ],
      "metadata": {
        "colab": {
          "base_uri": "https://localhost:8080/"
        },
        "id": "kxh3smsb384q",
        "outputId": "b1e18223-becb-4f62-83c4-b852dd3872bf"
      },
      "execution_count": null,
      "outputs": [
        {
          "output_type": "stream",
          "name": "stdout",
          "text": [
            "[['Thriller', 'Horror'], ['Comedies', 'Fantasy'], ['Romance', 'Dramas'], ['Thriller', 'Horror'], ['Romance', 'Dramas'], ['Thriller', 'Horror'], ['Action', 'Crime'], ['Thriller', 'Horror'], ['Comedies', 'Fantasy'], ['Thriller', 'Horror'], ['Thriller', 'Horror'], ['Romance', 'Dramas'], ['Romance', 'Dramas'], ['Romance', 'Dramas'], ['Sci-fi', 'Documentaries'], ['Thriller', 'Horror'], ['Thriller', 'Horror'], ['Comedies', 'Fantasy'], ['Action', 'Crime'], ['Action', 'Crime'], ['Thriller', 'Horror'], ['Thriller', 'Horror'], ['Thriller', 'Horror'], ['Romance', 'Dramas'], ['Comedies', 'Fantasy'], ['Thriller', 'Horror'], ['Romance', 'Dramas'], ['Action', 'Crime'], ['Action', 'Crime'], ['Sci-fi', 'Documentaries'], ['Romance', 'Dramas'], ['Thriller', 'Horror'], ['Thriller', 'Horror'], ['Comedies', 'Fantasy'], ['Comedies', 'Fantasy'], ['Sci-fi', 'Documentaries'], ['Thriller', 'Horror'], ['Thriller', 'Horror'], ['Romance', 'Dramas'], ['Action', 'Crime'], ['Thriller', 'Horror'], ['Romance', 'Dramas'], ['Comedies', 'Fantasy'], ['Action', 'Crime'], ['Comedies', 'Fantasy'], ['Thriller', 'Horror'], ['Sci-fi', 'Documentaries'], ['Sci-fi', 'Documentaries'], ['Romance', 'Dramas'], ['Thriller', 'Horror'], ['Action', 'Crime'], ['Comedies', 'Fantasy'], ['Action', 'Crime'], ['Thriller', 'Horror'], ['Romance', 'Dramas'], ['Action', 'Crime'], ['Sci-fi', 'Documentaries'], ['Thriller', 'Horror'], ['Thriller', 'Horror'], ['Action', 'Crime'], ['Action', 'Crime'], ['Thriller', 'Horror'], ['Thriller', 'Horror'], ['Romance', 'Dramas'], ['Romance', 'Dramas'], ['Comedies', 'Fantasy'], ['Romance', 'Dramas'], ['Thriller', 'Horror'], ['Sci-fi', 'Documentaries'], ['Action', 'Crime'], ['Sci-fi', 'Documentaries'], ['Comedies', 'Fantasy'], ['Comedies', 'Fantasy'], ['Thriller', 'Horror'], ['Action', 'Crime'], ['Thriller', 'Horror'], ['Sci-fi', 'Documentaries'], ['Action', 'Crime'], ['Comedies', 'Fantasy'], ['Romance', 'Dramas'], ['Thriller', 'Horror'], ['Thriller', 'Horror'], ['Thriller', 'Horror'], ['Thriller', 'Horror'], ['Comedies', 'Fantasy'], ['Romance', 'Dramas'], ['Sci-fi', 'Documentaries'], ['Romance', 'Dramas'], ['Action', 'Crime'], ['Comedies', 'Fantasy'], ['Thriller', 'Horror'], ['Sci-fi', 'Documentaries'], ['Comedies', 'Fantasy'], ['Romance', 'Dramas'], ['Romance', 'Dramas'], ['Romance', 'Dramas'], ['Romance', 'Dramas'], ['Thriller', 'Horror'], ['Romance', 'Dramas'], ['Romance', 'Dramas'], ['Romance', 'Dramas'], ['Romance', 'Dramas'], ['Thriller', 'Horror'], ['Romance', 'Dramas'], ['Sci-fi', 'Documentaries'], ['Thriller', 'Horror'], ['Thriller', 'Horror'], ['Romance', 'Dramas'], ['Sci-fi', 'Documentaries'], ['Romance', 'Dramas'], ['Romance', 'Dramas'], ['Romance', 'Dramas'], ['Thriller', 'Horror'], ['Thriller', 'Horror'], ['Comedies', 'Fantasy'], ['Romance', 'Dramas'], ['Thriller', 'Horror'], ['Sci-fi', 'Documentaries'], ['Thriller', 'Horror'], ['Thriller', 'Horror'], ['Thriller', 'Horror'], ['Thriller', 'Horror'], ['Comedies', 'Fantasy'], ['Action', 'Crime'], ['Sci-fi', 'Documentaries'], ['Thriller', 'Horror'], ['Romance', 'Dramas'], ['Romance', 'Dramas'], ['Thriller', 'Horror'], ['Romance', 'Dramas'], ['Comedies', 'Fantasy'], ['Romance', 'Dramas'], ['Thriller', 'Horror'], ['Sci-fi', 'Documentaries'], ['Sci-fi', 'Documentaries'], ['Comedies', 'Fantasy'], ['Sci-fi', 'Documentaries'], ['Thriller', 'Horror'], ['Action', 'Crime'], ['Comedies', 'Fantasy'], ['Thriller', 'Horror'], ['Thriller', 'Horror'], ['Comedies', 'Fantasy'], ['Romance', 'Dramas'], ['Thriller', 'Horror'], ['Romance', 'Dramas'], ['Sci-fi', 'Documentaries'], ['Sci-fi', 'Documentaries'], ['Thriller', 'Horror'], ['Thriller', 'Horror'], ['Thriller', 'Horror'], ['Thriller', 'Horror'], ['Thriller', 'Horror'], ['Action', 'Crime'], ['Sci-fi', 'Documentaries'], ['Romance', 'Dramas'], ['Comedies', 'Fantasy'], ['Sci-fi', 'Documentaries'], ['Romance', 'Dramas'], ['Romance', 'Dramas'], ['Comedies', 'Fantasy'], ['Comedies', 'Fantasy'], ['Thriller', 'Horror'], ['Romance', 'Dramas'], ['Comedies', 'Fantasy'], ['Action', 'Crime'], ['Sci-fi', 'Documentaries'], ['Sci-fi', 'Documentaries'], ['Comedies', 'Fantasy'], ['Thriller', 'Horror'], ['Thriller', 'Horror'], ['Comedies', 'Fantasy'], ['Romance', 'Dramas'], ['Romance', 'Dramas'], ['Thriller', 'Horror'], ['Comedies', 'Fantasy'], ['Thriller', 'Horror'], ['Comedies', 'Fantasy'], ['Action', 'Crime'], ['Romance', 'Dramas'], ['Comedies', 'Fantasy'], ['Romance', 'Dramas'], ['Romance', 'Dramas'], ['Action', 'Crime'], ['Comedies', 'Fantasy'], ['Action', 'Crime'], ['Action', 'Crime'], ['Romance', 'Dramas'], ['Romance', 'Dramas'], ['Sci-fi', 'Documentaries'], ['Comedies', 'Fantasy'], ['Comedies', 'Fantasy'], ['Romance', 'Dramas'], ['Action', 'Crime'], ['Comedies', 'Fantasy'], ['Thriller', 'Horror'], ['Action', 'Crime'], ['Sci-fi', 'Documentaries'], ['Romance', 'Dramas'], ['Sci-fi', 'Documentaries'], ['Sci-fi', 'Documentaries'], ['Romance', 'Dramas'], ['Thriller', 'Horror'], ['Sci-fi', 'Documentaries'], ['Thriller', 'Horror'], ['Comedies', 'Fantasy'], ['Romance', 'Dramas'], ['Action', 'Crime'], ['Sci-fi', 'Documentaries'], ['Romance', 'Dramas'], ['Action', 'Crime'], ['Thriller', 'Horror'], ['Romance', 'Dramas'], ['Sci-fi', 'Documentaries'], ['Romance', 'Dramas'], ['Comedies', 'Fantasy'], ['Action', 'Crime'], ['Thriller', 'Horror'], ['Comedies', 'Fantasy'], ['Romance', 'Dramas'], ['Romance', 'Dramas'], ['Romance', 'Dramas'], ['Comedies', 'Fantasy'], ['Romance', 'Dramas'], ['Thriller', 'Horror'], ['Thriller', 'Horror'], ['Sci-fi', 'Documentaries'], ['Thriller', 'Horror'], ['Action', 'Crime'], ['Action', 'Crime'], ['Romance', 'Dramas'], ['Romance', 'Dramas'], ['Comedies', 'Fantasy'], ['Thriller', 'Horror'], ['Thriller', 'Horror'], ['Sci-fi', 'Documentaries'], ['Sci-fi', 'Documentaries'], ['Comedies', 'Fantasy'], ['Comedies', 'Fantasy'], ['Romance', 'Dramas'], ['Sci-fi', 'Documentaries'], ['Thriller', 'Horror'], ['Comedies', 'Fantasy'], ['Action', 'Crime'], ['Comedies', 'Fantasy'], ['Comedies', 'Fantasy'], ['Romance', 'Dramas'], ['Thriller', 'Horror'], ['Romance', 'Dramas'], ['Action', 'Crime'], ['Comedies', 'Fantasy'], ['Romance', 'Dramas'], ['Thriller', 'Horror'], ['Thriller', 'Horror'], ['Romance', 'Dramas'], ['Romance', 'Dramas'], ['Thriller', 'Horror'], ['Romance', 'Dramas'], ['Thriller', 'Horror'], ['Action', 'Crime'], ['Thriller', 'Horror'], ['Romance', 'Dramas'], ['Romance', 'Dramas'], ['Action', 'Crime'], ['Comedies', 'Fantasy'], ['Action', 'Crime'], ['Thriller', 'Horror'], ['Thriller', 'Horror'], ['Sci-fi', 'Documentaries'], ['Comedies', 'Fantasy'], ['Romance', 'Dramas'], ['Sci-fi', 'Documentaries'], ['Romance', 'Dramas'], ['Thriller', 'Horror'], ['Comedies', 'Fantasy'], ['Action', 'Crime'], ['Comedies', 'Fantasy'], ['Romance', 'Dramas'], ['Thriller', 'Horror'], ['Thriller', 'Horror'], ['Comedies', 'Fantasy'], ['Romance', 'Dramas'], ['Thriller', 'Horror'], ['Romance', 'Dramas'], ['Sci-fi', 'Documentaries'], ['Comedies', 'Fantasy'], ['Thriller', 'Horror'], ['Thriller', 'Horror'], ['Action', 'Crime'], ['Thriller', 'Horror'], ['Action', 'Crime'], ['Action', 'Crime'], ['Sci-fi', 'Documentaries'], ['Sci-fi', 'Documentaries'], ['Romance', 'Dramas'], ['Comedies', 'Fantasy'], ['Sci-fi', 'Documentaries'], ['Romance', 'Dramas'], ['Romance', 'Dramas'], ['Thriller', 'Horror'], ['Action', 'Crime'], ['Thriller', 'Horror'], ['Thriller', 'Horror'], ['Comedies', 'Fantasy'], ['Action', 'Crime'], ['Thriller', 'Horror'], ['Sci-fi', 'Documentaries'], ['Romance', 'Dramas'], ['Comedies', 'Fantasy'], ['Thriller', 'Horror'], ['Romance', 'Dramas'], ['Comedies', 'Fantasy'], ['Romance', 'Dramas'], ['Thriller', 'Horror'], ['Thriller', 'Horror'], ['Thriller', 'Horror'], ['Sci-fi', 'Documentaries'], ['Action', 'Crime'], ['Romance', 'Dramas'], ['Thriller', 'Horror'], ['Comedies', 'Fantasy'], ['Thriller', 'Horror'], ['Action', 'Crime'], ['Thriller', 'Horror'], ['Thriller', 'Horror'], ['Sci-fi', 'Documentaries'], ['Romance', 'Dramas'], ['Thriller', 'Horror'], ['Comedies', 'Fantasy'], ['Comedies', 'Fantasy'], ['Sci-fi', 'Documentaries'], ['Comedies', 'Fantasy'], ['Comedies', 'Fantasy'], ['Sci-fi', 'Documentaries'], ['Comedies', 'Fantasy'], ['Romance', 'Dramas'], ['Thriller', 'Horror'], ['Thriller', 'Horror'], ['Comedies', 'Fantasy'], ['Thriller', 'Horror'], ['Sci-fi', 'Documentaries'], ['Action', 'Crime'], ['Action', 'Crime'], ['Action', 'Crime'], ['Sci-fi', 'Documentaries'], ['Thriller', 'Horror'], ['Thriller', 'Horror'], ['Thriller', 'Horror'], ['Comedies', 'Fantasy'], ['Action', 'Crime'], ['Thriller', 'Horror'], ['Thriller', 'Horror'], ['Romance', 'Dramas'], ['Comedies', 'Fantasy'], ['Romance', 'Dramas'], ['Thriller', 'Horror'], ['Thriller', 'Horror'], ['Action', 'Crime'], ['Action', 'Crime'], ['Thriller', 'Horror'], ['Sci-fi', 'Documentaries'], ['Action', 'Crime'], ['Thriller', 'Horror'], ['Thriller', 'Horror'], ['Sci-fi', 'Documentaries'], ['Romance', 'Dramas'], ['Comedies', 'Fantasy'], ['Sci-fi', 'Documentaries'], ['Action', 'Crime'], ['Action', 'Crime'], ['Thriller', 'Horror'], ['Romance', 'Dramas'], ['Thriller', 'Horror'], ['Action', 'Crime'], ['Thriller', 'Horror'], ['Romance', 'Dramas'], ['Sci-fi', 'Documentaries'], ['Romance', 'Dramas'], ['Romance', 'Dramas'], ['Romance', 'Dramas'], ['Sci-fi', 'Documentaries'], ['Action', 'Crime'], ['Thriller', 'Horror'], ['Thriller', 'Horror'], ['Thriller', 'Horror'], ['Thriller', 'Horror'], ['Thriller', 'Horror'], ['Thriller', 'Horror'], ['Action', 'Crime'], ['Comedies', 'Fantasy'], ['Thriller', 'Horror'], ['Thriller', 'Horror'], ['Action', 'Crime'], ['Romance', 'Dramas'], ['Romance', 'Dramas'], ['Romance', 'Dramas'], ['Comedies', 'Fantasy'], ['Romance', 'Dramas'], ['Action', 'Crime'], ['Action', 'Crime'], ['Comedies', 'Fantasy'], ['Comedies', 'Fantasy'], ['Action', 'Crime'], ['Thriller', 'Horror'], ['Action', 'Crime'], ['Romance', 'Dramas'], ['Sci-fi', 'Documentaries'], ['Romance', 'Dramas'], ['Thriller', 'Horror'], ['Romance', 'Dramas'], ['Romance', 'Dramas'], ['Action', 'Crime'], ['Romance', 'Dramas'], ['Romance', 'Dramas'], ['Romance', 'Dramas'], ['Thriller', 'Horror'], ['Comedies', 'Fantasy'], ['Comedies', 'Fantasy'], ['Sci-fi', 'Documentaries'], ['Romance', 'Dramas'], ['Action', 'Crime'], ['Romance', 'Dramas'], ['Thriller', 'Horror'], ['Thriller', 'Horror'], ['Action', 'Crime'], ['Comedies', 'Fantasy'], ['Comedies', 'Fantasy'], ['Sci-fi', 'Documentaries'], ['Action', 'Crime'], ['Romance', 'Dramas'], ['Romance', 'Dramas'], ['Sci-fi', 'Documentaries'], ['Thriller', 'Horror'], ['Comedies', 'Fantasy'], ['Romance', 'Dramas'], ['Sci-fi', 'Documentaries'], ['Thriller', 'Horror'], ['Romance', 'Dramas'], ['Romance', 'Dramas'], ['Comedies', 'Fantasy'], ['Comedies', 'Fantasy'], ['Romance', 'Dramas'], ['Comedies', 'Fantasy'], ['Action', 'Crime'], ['Comedies', 'Fantasy'], ['Thriller', 'Horror'], ['Comedies', 'Fantasy'], ['Comedies', 'Fantasy'], ['Thriller', 'Horror'], ['Action', 'Crime'], ['Romance', 'Dramas'], ['Sci-fi', 'Documentaries'], ['Thriller', 'Horror'], ['Sci-fi', 'Documentaries'], ['Romance', 'Dramas'], ['Sci-fi', 'Documentaries'], ['Romance', 'Dramas'], ['Thriller', 'Horror'], ['Sci-fi', 'Documentaries'], ['Thriller', 'Horror'], ['Sci-fi', 'Documentaries'], ['Action', 'Crime'], ['Thriller', 'Horror'], ['Thriller', 'Horror'], ['Comedies', 'Fantasy'], ['Action', 'Crime'], ['Thriller', 'Horror'], ['Action', 'Crime'], ['Thriller', 'Horror'], ['Comedies', 'Fantasy'], ['Comedies', 'Fantasy'], ['Romance', 'Dramas'], ['Thriller', 'Horror'], ['Romance', 'Dramas'], ['Romance', 'Dramas'], ['Sci-fi', 'Documentaries'], ['Sci-fi', 'Documentaries'], ['Thriller', 'Horror'], ['Romance', 'Dramas'], ['Comedies', 'Fantasy'], ['Thriller', 'Horror'], ['Comedies', 'Fantasy'], ['Thriller', 'Horror'], ['Comedies', 'Fantasy'], ['Romance', 'Dramas'], ['Comedies', 'Fantasy'], ['Thriller', 'Horror'], ['Action', 'Crime'], ['Thriller', 'Horror'], ['Thriller', 'Horror'], ['Thriller', 'Horror'], ['Comedies', 'Fantasy'], ['Sci-fi', 'Documentaries'], ['Comedies', 'Fantasy'], ['Thriller', 'Horror'], ['Comedies', 'Fantasy'], ['Romance', 'Dramas'], ['Romance', 'Dramas'], ['Romance', 'Dramas'], ['Comedies', 'Fantasy'], ['Romance', 'Dramas'], ['Comedies', 'Fantasy'], ['Comedies', 'Fantasy'], ['Sci-fi', 'Documentaries'], ['Sci-fi', 'Documentaries'], ['Thriller', 'Horror'], ['Romance', 'Dramas'], ['Action', 'Crime'], ['Romance', 'Dramas'], ['Thriller', 'Horror'], ['Comedies', 'Fantasy'], ['Romance', 'Dramas'], ['Comedies', 'Fantasy'], ['Sci-fi', 'Documentaries'], ['Sci-fi', 'Documentaries'], ['Comedies', 'Fantasy'], ['Action', 'Crime'], ['Thriller', 'Horror'], ['Thriller', 'Horror'], ['Romance', 'Dramas'], ['Romance', 'Dramas'], ['Thriller', 'Horror'], ['Sci-fi', 'Documentaries'], ['Action', 'Crime'], ['Action', 'Crime'], ['Romance', 'Dramas'], ['Thriller', 'Horror'], ['Romance', 'Dramas'], ['Thriller', 'Horror'], ['Comedies', 'Fantasy'], ['Romance', 'Dramas'], ['Action', 'Crime'], ['Action', 'Crime'], ['Romance', 'Dramas'], ['Romance', 'Dramas'], ['Romance', 'Dramas'], ['Thriller', 'Horror'], ['Romance', 'Dramas'], ['Comedies', 'Fantasy'], ['Action', 'Crime'], ['Thriller', 'Horror'], ['Thriller', 'Horror'], ['Thriller', 'Horror'], ['Romance', 'Dramas'], ['Comedies', 'Fantasy'], ['Action', 'Crime'], ['Sci-fi', 'Documentaries'], ['Romance', 'Dramas'], ['Action', 'Crime'], ['Romance', 'Dramas'], ['Comedies', 'Fantasy'], ['Thriller', 'Horror'], ['Comedies', 'Fantasy'], ['Romance', 'Dramas'], ['Thriller', 'Horror'], ['Comedies', 'Fantasy'], ['Thriller', 'Horror'], ['Action', 'Crime'], ['Action', 'Crime'], ['Comedies', 'Fantasy'], ['Sci-fi', 'Documentaries'], ['Action', 'Crime'], ['Romance', 'Dramas'], ['Comedies', 'Fantasy'], ['Thriller', 'Horror'], ['Action', 'Crime'], ['Action', 'Crime'], ['Thriller', 'Horror'], ['Comedies', 'Fantasy'], ['Comedies', 'Fantasy'], ['Thriller', 'Horror'], ['Sci-fi', 'Documentaries'], ['Action', 'Crime'], ['Thriller', 'Horror'], ['Thriller', 'Horror'], ['Thriller', 'Horror'], ['Comedies', 'Fantasy'], ['Action', 'Crime'], ['Comedies', 'Fantasy'], ['Comedies', 'Fantasy'], ['Thriller', 'Horror'], ['Thriller', 'Horror'], ['Thriller', 'Horror'], ['Thriller', 'Horror'], ['Thriller', 'Horror'], ['Comedies', 'Fantasy'], ['Sci-fi', 'Documentaries'], ['Thriller', 'Horror'], ['Comedies', 'Fantasy'], ['Sci-fi', 'Documentaries'], ['Comedies', 'Fantasy'], ['Romance', 'Dramas'], ['Action', 'Crime'], ['Thriller', 'Horror'], ['Thriller', 'Horror'], ['Romance', 'Dramas'], ['Action', 'Crime'], ['Romance', 'Dramas'], ['Thriller', 'Horror'], ['Comedies', 'Fantasy'], ['Action', 'Crime'], ['Thriller', 'Horror'], ['Romance', 'Dramas'], ['Thriller', 'Horror'], ['Thriller', 'Horror'], ['Comedies', 'Fantasy'], ['Thriller', 'Horror'], ['Action', 'Crime'], ['Action', 'Crime'], ['Thriller', 'Horror'], ['Action', 'Crime'], ['Comedies', 'Fantasy'], ['Thriller', 'Horror'], ['Thriller', 'Horror'], ['Thriller', 'Horror'], ['Romance', 'Dramas'], ['Comedies', 'Fantasy'], ['Thriller', 'Horror'], ['Comedies', 'Fantasy'], ['Action', 'Crime'], ['Thriller', 'Horror'], ['Action', 'Crime'], ['Romance', 'Dramas'], ['Comedies', 'Fantasy'], ['Sci-fi', 'Documentaries'], ['Romance', 'Dramas'], ['Thriller', 'Horror'], ['Comedies', 'Fantasy'], ['Thriller', 'Horror'], ['Romance', 'Dramas'], ['Romance', 'Dramas'], ['Action', 'Crime'], ['Romance', 'Dramas'], ['Action', 'Crime'], ['Sci-fi', 'Documentaries'], ['Thriller', 'Horror'], ['Romance', 'Dramas'], ['Action', 'Crime'], ['Comedies', 'Fantasy'], ['Comedies', 'Fantasy'], ['Sci-fi', 'Documentaries'], ['Romance', 'Dramas'], ['Action', 'Crime'], ['Romance', 'Dramas'], ['Action', 'Crime'], ['Comedies', 'Fantasy'], ['Comedies', 'Fantasy'], ['Sci-fi', 'Documentaries'], ['Romance', 'Dramas'], ['Romance', 'Dramas'], ['Thriller', 'Horror'], ['Comedies', 'Fantasy'], ['Romance', 'Dramas'], ['Action', 'Crime'], ['Sci-fi', 'Documentaries'], ['Thriller', 'Horror'], ['Romance', 'Dramas'], ['Action', 'Crime'], ['Romance', 'Dramas'], ['Romance', 'Dramas'], ['Thriller', 'Horror'], ['Action', 'Crime'], ['Action', 'Crime'], ['Romance', 'Dramas'], ['Action', 'Crime'], ['Thriller', 'Horror'], ['Action', 'Crime'], ['Action', 'Crime'], ['Romance', 'Dramas'], ['Action', 'Crime'], ['Action', 'Crime'], ['Comedies', 'Fantasy'], ['Romance', 'Dramas'], ['Comedies', 'Fantasy'], ['Action', 'Crime'], ['Sci-fi', 'Documentaries'], ['Action', 'Crime'], ['Action', 'Crime'], ['Thriller', 'Horror'], ['Action', 'Crime'], ['Thriller', 'Horror'], ['Thriller', 'Horror'], ['Thriller', 'Horror'], ['Romance', 'Dramas'], ['Thriller', 'Horror'], ['Romance', 'Dramas'], ['Sci-fi', 'Documentaries'], ['Thriller', 'Horror'], ['Sci-fi', 'Documentaries'], ['Comedies', 'Fantasy'], ['Sci-fi', 'Documentaries'], ['Action', 'Crime'], ['Romance', 'Dramas'], ['Romance', 'Dramas'], ['Romance', 'Dramas'], ['Romance', 'Dramas'], ['Comedies', 'Fantasy'], ['Romance', 'Dramas'], ['Thriller', 'Horror'], ['Thriller', 'Horror'], ['Romance', 'Dramas'], ['Action', 'Crime'], ['Sci-fi', 'Documentaries'], ['Thriller', 'Horror'], ['Thriller', 'Horror'], ['Romance', 'Dramas'], ['Action', 'Crime'], ['Romance', 'Dramas'], ['Comedies', 'Fantasy'], ['Thriller', 'Horror'], ['Comedies', 'Fantasy'], ['Action', 'Crime'], ['Thriller', 'Horror'], ['Thriller', 'Horror'], ['Thriller', 'Horror'], ['Action', 'Crime'], ['Romance', 'Dramas'], ['Action', 'Crime'], ['Sci-fi', 'Documentaries'], ['Thriller', 'Horror'], ['Comedies', 'Fantasy'], ['Comedies', 'Fantasy'], ['Comedies', 'Fantasy'], ['Thriller', 'Horror'], ['Action', 'Crime'], ['Thriller', 'Horror'], ['Romance', 'Dramas'], ['Romance', 'Dramas'], ['Thriller', 'Horror'], ['Thriller', 'Horror'], ['Action', 'Crime'], ['Thriller', 'Horror'], ['Action', 'Crime'], ['Comedies', 'Fantasy'], ['Comedies', 'Fantasy'], ['Romance', 'Dramas'], ['Action', 'Crime'], ['Thriller', 'Horror'], ['Thriller', 'Horror'], ['Romance', 'Dramas'], ['Romance', 'Dramas'], ['Action', 'Crime'], ['Sci-fi', 'Documentaries'], ['Romance', 'Dramas'], ['Action', 'Crime'], ['Thriller', 'Horror'], ['Comedies', 'Fantasy'], ['Romance', 'Dramas'], ['Comedies', 'Fantasy'], ['Romance', 'Dramas'], ['Romance', 'Dramas'], ['Sci-fi', 'Documentaries'], ['Thriller', 'Horror'], ['Comedies', 'Fantasy'], ['Romance', 'Dramas'], ['Thriller', 'Horror'], ['Sci-fi', 'Documentaries'], ['Thriller', 'Horror'], ['Thriller', 'Horror'], ['Action', 'Crime'], ['Action', 'Crime'], ['Comedies', 'Fantasy'], ['Comedies', 'Fantasy'], ['Romance', 'Dramas'], ['Thriller', 'Horror'], ['Sci-fi', 'Documentaries'], ['Sci-fi', 'Documentaries'], ['Action', 'Crime'], ['Romance', 'Dramas'], ['Romance', 'Dramas'], ['Sci-fi', 'Documentaries'], ['Romance', 'Dramas'], ['Comedies', 'Fantasy'], ['Comedies', 'Fantasy'], ['Romance', 'Dramas'], ['Thriller', 'Horror'], ['Comedies', 'Fantasy'], ['Romance', 'Dramas'], ['Romance', 'Dramas'], ['Romance', 'Dramas'], ['Comedies', 'Fantasy'], ['Thriller', 'Horror'], ['Comedies', 'Fantasy'], ['Thriller', 'Horror'], ['Thriller', 'Horror'], ['Romance', 'Dramas'], ['Thriller', 'Horror'], ['Action', 'Crime'], ['Action', 'Crime'], ['Thriller', 'Horror'], ['Comedies', 'Fantasy'], ['Thriller', 'Horror'], ['Thriller', 'Horror'], ['Romance', 'Dramas'], ['Action', 'Crime'], ['Comedies', 'Fantasy'], ['Comedies', 'Fantasy'], ['Action', 'Crime'], ['Comedies', 'Fantasy'], ['Comedies', 'Fantasy'], ['Comedies', 'Fantasy'], ['Thriller', 'Horror'], ['Thriller', 'Horror'], ['Thriller', 'Horror'], ['Sci-fi', 'Documentaries'], ['Action', 'Crime'], ['Comedies', 'Fantasy'], ['Thriller', 'Horror'], ['Thriller', 'Horror'], ['Sci-fi', 'Documentaries'], ['Thriller', 'Horror'], ['Thriller', 'Horror'], ['Sci-fi', 'Documentaries'], ['Thriller', 'Horror'], ['Thriller', 'Horror'], ['Action', 'Crime'], ['Action', 'Crime'], ['Comedies', 'Fantasy'], ['Thriller', 'Horror'], ['Thriller', 'Horror'], ['Thriller', 'Horror'], ['Action', 'Crime'], ['Action', 'Crime'], ['Action', 'Crime'], ['Thriller', 'Horror'], ['Romance', 'Dramas'], ['Comedies', 'Fantasy'], ['Thriller', 'Horror'], ['Comedies', 'Fantasy'], ['Action', 'Crime'], ['Comedies', 'Fantasy'], ['Romance', 'Dramas'], ['Thriller', 'Horror'], ['Thriller', 'Horror'], ['Action', 'Crime'], ['Romance', 'Dramas'], ['Sci-fi', 'Documentaries'], ['Comedies', 'Fantasy'], ['Comedies', 'Fantasy'], ['Sci-fi', 'Documentaries'], ['Comedies', 'Fantasy'], ['Romance', 'Dramas'], ['Comedies', 'Fantasy'], ['Thriller', 'Horror'], ['Thriller', 'Horror'], ['Sci-fi', 'Documentaries'], ['Romance', 'Dramas'], ['Romance', 'Dramas'], ['Thriller', 'Horror'], ['Sci-fi', 'Documentaries'], ['Action', 'Crime'], ['Sci-fi', 'Documentaries'], ['Sci-fi', 'Documentaries'], ['Sci-fi', 'Documentaries'], ['Action', 'Crime'], ['Comedies', 'Fantasy'], ['Romance', 'Dramas'], ['Thriller', 'Horror'], ['Comedies', 'Fantasy'], ['Romance', 'Dramas'], ['Romance', 'Dramas'], ['Comedies', 'Fantasy'], ['Romance', 'Dramas'], ['Thriller', 'Horror'], ['Thriller', 'Horror'], ['Romance', 'Dramas'], ['Action', 'Crime'], ['Action', 'Crime'], ['Thriller', 'Horror'], ['Thriller', 'Horror'], ['Action', 'Crime'], ['Thriller', 'Horror'], ['Romance', 'Dramas'], ['Sci-fi', 'Documentaries'], ['Action', 'Crime'], ['Comedies', 'Fantasy'], ['Thriller', 'Horror'], ['Action', 'Crime'], ['Romance', 'Dramas'], ['Action', 'Crime'], ['Thriller', 'Horror'], ['Romance', 'Dramas'], ['Comedies', 'Fantasy'], ['Comedies', 'Fantasy'], ['Comedies', 'Fantasy'], ['Thriller', 'Horror'], ['Sci-fi', 'Documentaries'], ['Comedies', 'Fantasy'], ['Thriller', 'Horror'], ['Thriller', 'Horror'], ['Comedies', 'Fantasy'], ['Thriller', 'Horror'], ['Action', 'Crime'], ['Romance', 'Dramas'], ['Thriller', 'Horror'], ['Thriller', 'Horror'], ['Romance', 'Dramas'], ['Romance', 'Dramas'], ['Action', 'Crime'], ['Action', 'Crime'], ['Thriller', 'Horror'], ['Comedies', 'Fantasy'], ['Romance', 'Dramas'], ['Romance', 'Dramas'], ['Romance', 'Dramas'], ['Sci-fi', 'Documentaries'], ['Comedies', 'Fantasy'], ['Romance', 'Dramas'], ['Action', 'Crime'], ['Romance', 'Dramas'], ['Thriller', 'Horror'], ['Sci-fi', 'Documentaries'], ['Romance', 'Dramas'], ['Thriller', 'Horror'], ['Sci-fi', 'Documentaries'], ['Romance', 'Dramas'], ['Thriller', 'Horror'], ['Sci-fi', 'Documentaries'], ['Action', 'Crime'], ['Action', 'Crime'], ['Action', 'Crime'], ['Romance', 'Dramas'], ['Comedies', 'Fantasy'], ['Thriller', 'Horror'], ['Comedies', 'Fantasy'], ['Romance', 'Dramas'], ['Romance', 'Dramas'], ['Thriller', 'Horror'], ['Comedies', 'Fantasy'], ['Romance', 'Dramas'], ['Romance', 'Dramas'], ['Romance', 'Dramas'], ['Action', 'Crime'], ['Romance', 'Dramas'], ['Comedies', 'Fantasy'], ['Thriller', 'Horror'], ['Comedies', 'Fantasy'], ['Comedies', 'Fantasy'], ['Romance', 'Dramas'], ['Comedies', 'Fantasy'], ['Thriller', 'Horror'], ['Thriller', 'Horror'], ['Romance', 'Dramas'], ['Thriller', 'Horror'], ['Sci-fi', 'Documentaries'], ['Action', 'Crime'], ['Romance', 'Dramas'], ['Comedies', 'Fantasy'], ['Action', 'Crime'], ['Sci-fi', 'Documentaries'], ['Comedies', 'Fantasy'], ['Comedies', 'Fantasy'], ['Thriller', 'Horror'], ['Comedies', 'Fantasy'], ['Sci-fi', 'Documentaries'], ['Romance', 'Dramas'], ['Sci-fi', 'Documentaries'], ['Action', 'Crime'], ['Comedies', 'Fantasy'], ['Action', 'Crime'], ['Sci-fi', 'Documentaries'], ['Comedies', 'Fantasy'], ['Thriller', 'Horror'], ['Sci-fi', 'Documentaries'], ['Comedies', 'Fantasy'], ['Romance', 'Dramas'], ['Comedies', 'Fantasy'], ['Thriller', 'Horror'], ['Romance', 'Dramas'], ['Thriller', 'Horror'], ['Thriller', 'Horror'], ['Thriller', 'Horror'], ['Sci-fi', 'Documentaries'], ['Romance', 'Dramas'], ['Romance', 'Dramas'], ['Comedies', 'Fantasy'], ['Comedies', 'Fantasy'], ['Action', 'Crime'], ['Romance', 'Dramas'], ['Sci-fi', 'Documentaries'], ['Action', 'Crime'], ['Comedies', 'Fantasy'], ['Sci-fi', 'Documentaries'], ['Sci-fi', 'Documentaries'], ['Romance', 'Dramas'], ['Romance', 'Dramas'], ['Comedies', 'Fantasy'], ['Comedies', 'Fantasy'], ['Romance', 'Dramas'], ['Action', 'Crime'], ['Action', 'Crime'], ['Romance', 'Dramas'], ['Romance', 'Dramas'], ['Action', 'Crime'], ['Action', 'Crime'], ['Comedies', 'Fantasy'], ['Comedies', 'Fantasy'], ['Sci-fi', 'Documentaries'], ['Romance', 'Dramas'], ['Romance', 'Dramas'], ['Thriller', 'Horror'], ['Thriller', 'Horror'], ['Thriller', 'Horror'], ['Romance', 'Dramas'], ['Romance', 'Dramas'], ['Thriller', 'Horror'], ['Sci-fi', 'Documentaries'], ['Thriller', 'Horror'], ['Comedies', 'Fantasy'], ['Thriller', 'Horror'], ['Thriller', 'Horror'], ['Comedies', 'Fantasy'], ['Romance', 'Dramas'], ['Romance', 'Dramas'], ['Romance', 'Dramas'], ['Comedies', 'Fantasy'], ['Romance', 'Dramas'], ['Action', 'Crime'], ['Thriller', 'Horror'], ['Thriller', 'Horror'], ['Action', 'Crime'], ['Comedies', 'Fantasy'], ['Thriller', 'Horror'], ['Thriller', 'Horror'], ['Thriller', 'Horror'], ['Action', 'Crime'], ['Thriller', 'Horror'], ['Comedies', 'Fantasy'], ['Thriller', 'Horror'], ['Romance', 'Dramas'], ['Comedies', 'Fantasy'], ['Romance', 'Dramas'], ['Sci-fi', 'Documentaries'], ['Sci-fi', 'Documentaries'], ['Comedies', 'Fantasy'], ['Thriller', 'Horror'], ['Romance', 'Dramas'], ['Sci-fi', 'Documentaries'], ['Comedies', 'Fantasy'], ['Sci-fi', 'Documentaries'], ['Thriller', 'Horror'], ['Romance', 'Dramas'], ['Thriller', 'Horror'], ['Thriller', 'Horror'], ['Thriller', 'Horror'], ['Comedies', 'Fantasy'], ['Comedies', 'Fantasy'], ['Comedies', 'Fantasy'], ['Action', 'Crime'], ['Sci-fi', 'Documentaries'], ['Sci-fi', 'Documentaries'], ['Action', 'Crime'], ['Romance', 'Dramas'], ['Thriller', 'Horror'], ['Thriller', 'Horror'], ['Thriller', 'Horror'], ['Romance', 'Dramas'], ['Sci-fi', 'Documentaries'], ['Comedies', 'Fantasy'], ['Comedies', 'Fantasy'], ['Comedies', 'Fantasy'], ['Action', 'Crime'], ['Thriller', 'Horror'], ['Action', 'Crime'], ['Action', 'Crime'], ['Action', 'Crime'], ['Sci-fi', 'Documentaries'], ['Sci-fi', 'Documentaries'], ['Sci-fi', 'Documentaries'], ['Romance', 'Dramas'], ['Romance', 'Dramas'], ['Thriller', 'Horror'], ['Thriller', 'Horror'], ['Romance', 'Dramas'], ['Thriller', 'Horror'], ['Action', 'Crime'], ['Romance', 'Dramas'], ['Romance', 'Dramas'], ['Action', 'Crime'], ['Action', 'Crime'], ['Comedies', 'Fantasy'], ['Comedies', 'Fantasy'], ['Thriller', 'Horror'], ['Action', 'Crime'], ['Thriller', 'Horror'], ['Action', 'Crime'], ['Romance', 'Dramas'], ['Action', 'Crime'], ['Sci-fi', 'Documentaries'], ['Action', 'Crime'], ['Thriller', 'Horror'], ['Sci-fi', 'Documentaries'], ['Romance', 'Dramas'], ['Romance', 'Dramas'], ['Comedies', 'Fantasy'], ['Comedies', 'Fantasy'], ['Sci-fi', 'Documentaries'], ['Comedies', 'Fantasy'], ['Action', 'Crime'], ['Romance', 'Dramas'], ['Thriller', 'Horror'], ['Comedies', 'Fantasy'], ['Comedies', 'Fantasy'], ['Romance', 'Dramas'], ['Romance', 'Dramas'], ['Comedies', 'Fantasy'], ['Action', 'Crime'], ['Romance', 'Dramas'], ['Thriller', 'Horror'], ['Action', 'Crime'], ['Thriller', 'Horror'], ['Thriller', 'Horror'], ['Romance', 'Dramas'], ['Comedies', 'Fantasy'], ['Action', 'Crime'], ['Thriller', 'Horror'], ['Thriller', 'Horror'], ['Thriller', 'Horror'], ['Action', 'Crime'], ['Romance', 'Dramas'], ['Thriller', 'Horror'], ['Thriller', 'Horror'], ['Romance', 'Dramas'], ['Action', 'Crime'], ['Comedies', 'Fantasy'], ['Thriller', 'Horror'], ['Romance', 'Dramas'], ['Romance', 'Dramas'], ['Romance', 'Dramas'], ['Romance', 'Dramas'], ['Action', 'Crime'], ['Romance', 'Dramas'], ['Sci-fi', 'Documentaries'], ['Thriller', 'Horror'], ['Sci-fi', 'Documentaries'], ['Comedies', 'Fantasy'], ['Comedies', 'Fantasy'], ['Romance', 'Dramas'], ['Comedies', 'Fantasy'], ['Romance', 'Dramas'], ['Romance', 'Dramas'], ['Thriller', 'Horror'], ['Comedies', 'Fantasy'], ['Action', 'Crime'], ['Thriller', 'Horror'], ['Sci-fi', 'Documentaries'], ['Sci-fi', 'Documentaries'], ['Sci-fi', 'Documentaries'], ['Sci-fi', 'Documentaries'], ['Romance', 'Dramas'], ['Action', 'Crime'], ['Comedies', 'Fantasy'], ['Sci-fi', 'Documentaries'], ['Comedies', 'Fantasy'], ['Thriller', 'Horror'], ['Thriller', 'Horror'], ['Action', 'Crime'], ['Thriller', 'Horror'], ['Thriller', 'Horror'], ['Thriller', 'Horror'], ['Romance', 'Dramas'], ['Comedies', 'Fantasy'], ['Thriller', 'Horror'], ['Comedies', 'Fantasy'], ['Thriller', 'Horror'], ['Thriller', 'Horror'], ['Action', 'Crime'], ['Thriller', 'Horror'], ['Thriller', 'Horror'], ['Sci-fi', 'Documentaries'], ['Action', 'Crime'], ['Sci-fi', 'Documentaries'], ['Sci-fi', 'Documentaries'], ['Romance', 'Dramas'], ['Romance', 'Dramas'], ['Comedies', 'Fantasy'], ['Thriller', 'Horror'], ['Action', 'Crime'], ['Romance', 'Dramas'], ['Sci-fi', 'Documentaries'], ['Thriller', 'Horror'], ['Romance', 'Dramas'], ['Action', 'Crime'], ['Sci-fi', 'Documentaries'], ['Comedies', 'Fantasy'], ['Thriller', 'Horror'], ['Romance', 'Dramas'], ['Thriller', 'Horror'], ['Romance', 'Dramas'], ['Comedies', 'Fantasy'], ['Comedies', 'Fantasy'], ['Sci-fi', 'Documentaries'], ['Action', 'Crime'], ['Comedies', 'Fantasy'], ['Romance', 'Dramas'], ['Romance', 'Dramas'], ['Romance', 'Dramas'], ['Thriller', 'Horror'], ['Action', 'Crime'], ['Thriller', 'Horror'], ['Sci-fi', 'Documentaries'], ['Thriller', 'Horror'], ['Romance', 'Dramas'], ['Romance', 'Dramas'], ['Thriller', 'Horror'], ['Romance', 'Dramas'], ['Thriller', 'Horror'], ['Thriller', 'Horror'], ['Action', 'Crime'], ['Sci-fi', 'Documentaries'], ['Sci-fi', 'Documentaries'], ['Action', 'Crime'], ['Thriller', 'Horror'], ['Romance', 'Dramas'], ['Sci-fi', 'Documentaries'], ['Thriller', 'Horror'], ['Romance', 'Dramas'], ['Comedies', 'Fantasy'], ['Comedies', 'Fantasy'], ['Romance', 'Dramas'], ['Sci-fi', 'Documentaries'], ['Action', 'Crime'], ['Sci-fi', 'Documentaries'], ['Romance', 'Dramas'], ['Comedies', 'Fantasy'], ['Romance', 'Dramas'], ['Thriller', 'Horror'], ['Thriller', 'Horror'], ['Sci-fi', 'Documentaries'], ['Romance', 'Dramas'], ['Sci-fi', 'Documentaries'], ['Sci-fi', 'Documentaries'], ['Comedies', 'Fantasy'], ['Action', 'Crime'], ['Comedies', 'Fantasy'], ['Sci-fi', 'Documentaries'], ['Action', 'Crime'], ['Sci-fi', 'Documentaries'], ['Thriller', 'Horror'], ['Action', 'Crime'], ['Comedies', 'Fantasy'], ['Action', 'Crime'], ['Sci-fi', 'Documentaries'], ['Thriller', 'Horror'], ['Romance', 'Dramas'], ['Romance', 'Dramas'], ['Action', 'Crime'], ['Romance', 'Dramas'], ['Romance', 'Dramas'], ['Thriller', 'Horror'], ['Romance', 'Dramas'], ['Action', 'Crime'], ['Thriller', 'Horror'], ['Sci-fi', 'Documentaries'], ['Sci-fi', 'Documentaries'], ['Action', 'Crime'], ['Thriller', 'Horror'], ['Thriller', 'Horror'], ['Sci-fi', 'Documentaries'], ['Romance', 'Dramas'], ['Romance', 'Dramas'], ['Thriller', 'Horror'], ['Comedies', 'Fantasy'], ['Romance', 'Dramas'], ['Sci-fi', 'Documentaries'], ['Comedies', 'Fantasy'], ['Comedies', 'Fantasy'], ['Romance', 'Dramas'], ['Action', 'Crime'], ['Sci-fi', 'Documentaries'], ['Romance', 'Dramas'], ['Comedies', 'Fantasy'], ['Action', 'Crime'], ['Romance', 'Dramas'], ['Comedies', 'Fantasy'], ['Comedies', 'Fantasy'], ['Comedies', 'Fantasy'], ['Action', 'Crime'], ['Comedies', 'Fantasy'], ['Romance', 'Dramas'], ['Thriller', 'Horror'], ['Thriller', 'Horror'], ['Action', 'Crime'], ['Romance', 'Dramas'], ['Thriller', 'Horror'], ['Thriller', 'Horror'], ['Action', 'Crime'], ['Sci-fi', 'Documentaries'], ['Thriller', 'Horror'], ['Romance', 'Dramas'], ['Thriller', 'Horror'], ['Sci-fi', 'Documentaries'], ['Comedies', 'Fantasy'], ['Romance', 'Dramas'], ['Romance', 'Dramas'], ['Romance', 'Dramas'], ['Thriller', 'Horror'], ['Action', 'Crime'], ['Comedies', 'Fantasy'], ['Action', 'Crime'], ['Romance', 'Dramas'], ['Comedies', 'Fantasy'], ['Sci-fi', 'Documentaries'], ['Romance', 'Dramas'], ['Romance', 'Dramas'], ['Comedies', 'Fantasy'], ['Comedies', 'Fantasy'], ['Comedies', 'Fantasy'], ['Comedies', 'Fantasy'], ['Action', 'Crime'], ['Thriller', 'Horror'], ['Romance', 'Dramas'], ['Romance', 'Dramas'], ['Romance', 'Dramas'], ['Thriller', 'Horror'], ['Romance', 'Dramas'], ['Thriller', 'Horror'], ['Thriller', 'Horror'], ['Thriller', 'Horror'], ['Thriller', 'Horror'], ['Sci-fi', 'Documentaries'], ['Romance', 'Dramas'], ['Sci-fi', 'Documentaries'], ['Sci-fi', 'Documentaries'], ['Thriller', 'Horror'], ['Thriller', 'Horror'], ['Action', 'Crime'], ['Action', 'Crime'], ['Thriller', 'Horror'], ['Thriller', 'Horror'], ['Action', 'Crime'], ['Action', 'Crime'], ['Romance', 'Dramas'], ['Action', 'Crime'], ['Romance', 'Dramas'], ['Thriller', 'Horror'], ['Sci-fi', 'Documentaries'], ['Comedies', 'Fantasy'], ['Sci-fi', 'Documentaries'], ['Romance', 'Dramas'], ['Action', 'Crime'], ['Comedies', 'Fantasy'], ['Action', 'Crime'], ['Action', 'Crime'], ['Thriller', 'Horror'], ['Action', 'Crime'], ['Romance', 'Dramas'], ['Comedies', 'Fantasy'], ['Thriller', 'Horror'], ['Action', 'Crime'], ['Comedies', 'Fantasy'], ['Action', 'Crime'], ['Sci-fi', 'Documentaries'], ['Romance', 'Dramas'], ['Sci-fi', 'Documentaries'], ['Action', 'Crime'], ['Romance', 'Dramas'], ['Comedies', 'Fantasy'], ['Sci-fi', 'Documentaries'], ['Romance', 'Dramas'], ['Romance', 'Dramas'], ['Thriller', 'Horror'], ['Romance', 'Dramas'], ['Romance', 'Dramas'], ['Thriller', 'Horror'], ['Sci-fi', 'Documentaries'], ['Romance', 'Dramas'], ['Action', 'Crime'], ['Thriller', 'Horror'], ['Romance', 'Dramas'], ['Romance', 'Dramas'], ['Sci-fi', 'Documentaries'], ['Thriller', 'Horror'], ['Comedies', 'Fantasy'], ['Sci-fi', 'Documentaries'], ['Thriller', 'Horror'], ['Sci-fi', 'Documentaries'], ['Action', 'Crime'], ['Romance', 'Dramas'], ['Action', 'Crime'], ['Comedies', 'Fantasy'], ['Thriller', 'Horror'], ['Romance', 'Dramas'], ['Romance', 'Dramas'], ['Thriller', 'Horror'], ['Thriller', 'Horror'], ['Romance', 'Dramas'], ['Comedies', 'Fantasy'], ['Sci-fi', 'Documentaries'], ['Romance', 'Dramas'], ['Action', 'Crime'], ['Romance', 'Dramas'], ['Thriller', 'Horror'], ['Comedies', 'Fantasy'], ['Comedies', 'Fantasy'], ['Sci-fi', 'Documentaries'], ['Action', 'Crime'], ['Romance', 'Dramas'], ['Romance', 'Dramas'], ['Thriller', 'Horror'], ['Sci-fi', 'Documentaries'], ['Action', 'Crime'], ['Romance', 'Dramas'], ['Action', 'Crime'], ['Action', 'Crime'], ['Romance', 'Dramas'], ['Comedies', 'Fantasy'], ['Comedies', 'Fantasy'], ['Action', 'Crime'], ['Thriller', 'Horror'], ['Action', 'Crime'], ['Comedies', 'Fantasy'], ['Comedies', 'Fantasy'], ['Comedies', 'Fantasy'], ['Comedies', 'Fantasy'], ['Action', 'Crime'], ['Action', 'Crime'], ['Comedies', 'Fantasy'], ['Action', 'Crime'], ['Sci-fi', 'Documentaries'], ['Thriller', 'Horror'], ['Comedies', 'Fantasy'], ['Thriller', 'Horror'], ['Comedies', 'Fantasy'], ['Comedies', 'Fantasy'], ['Comedies', 'Fantasy'], ['Thriller', 'Horror'], ['Thriller', 'Horror'], ['Romance', 'Dramas'], ['Thriller', 'Horror'], ['Comedies', 'Fantasy'], ['Action', 'Crime'], ['Sci-fi', 'Documentaries'], ['Thriller', 'Horror'], ['Romance', 'Dramas'], ['Action', 'Crime'], ['Comedies', 'Fantasy'], ['Action', 'Crime'], ['Romance', 'Dramas'], ['Sci-fi', 'Documentaries'], ['Romance', 'Dramas'], ['Comedies', 'Fantasy'], ['Thriller', 'Horror'], ['Comedies', 'Fantasy'], ['Romance', 'Dramas'], ['Romance', 'Dramas'], ['Romance', 'Dramas'], ['Thriller', 'Horror'], ['Sci-fi', 'Documentaries'], ['Romance', 'Dramas'], ['Thriller', 'Horror'], ['Romance', 'Dramas'], ['Romance', 'Dramas'], ['Romance', 'Dramas'], ['Thriller', 'Horror'], ['Romance', 'Dramas'], ['Comedies', 'Fantasy'], ['Sci-fi', 'Documentaries'], ['Romance', 'Dramas'], ['Romance', 'Dramas'], ['Romance', 'Dramas'], ['Romance', 'Dramas'], ['Comedies', 'Fantasy'], ['Comedies', 'Fantasy'], ['Action', 'Crime'], ['Romance', 'Dramas'], ['Thriller', 'Horror'], ['Romance', 'Dramas'], ['Romance', 'Dramas'], ['Thriller', 'Horror'], ['Thriller', 'Horror'], ['Action', 'Crime'], ['Comedies', 'Fantasy'], ['Comedies', 'Fantasy'], ['Thriller', 'Horror'], ['Comedies', 'Fantasy'], ['Thriller', 'Horror'], ['Action', 'Crime'], ['Comedies', 'Fantasy'], ['Thriller', 'Horror'], ['Comedies', 'Fantasy'], ['Sci-fi', 'Documentaries'], ['Thriller', 'Horror'], ['Sci-fi', 'Documentaries'], ['Action', 'Crime'], ['Action', 'Crime'], ['Action', 'Crime'], ['Thriller', 'Horror'], ['Comedies', 'Fantasy'], ['Sci-fi', 'Documentaries'], ['Romance', 'Dramas'], ['Comedies', 'Fantasy'], ['Sci-fi', 'Documentaries'], ['Thriller', 'Horror'], ['Action', 'Crime'], ['Romance', 'Dramas'], ['Thriller', 'Horror'], ['Action', 'Crime'], ['Action', 'Crime'], ['Thriller', 'Horror'], ['Action', 'Crime'], ['Romance', 'Dramas'], ['Comedies', 'Fantasy'], ['Thriller', 'Horror'], ['Thriller', 'Horror'], ['Romance', 'Dramas'], ['Romance', 'Dramas'], ['Thriller', 'Horror'], ['Romance', 'Dramas'], ['Thriller', 'Horror'], ['Romance', 'Dramas'], ['Comedies', 'Fantasy'], ['Action', 'Crime'], ['Action', 'Crime'], ['Thriller', 'Horror'], ['Thriller', 'Horror'], ['Action', 'Crime'], ['Thriller', 'Horror'], ['Romance', 'Dramas'], ['Action', 'Crime'], ['Romance', 'Dramas'], ['Sci-fi', 'Documentaries'], ['Action', 'Crime'], ['Romance', 'Dramas'], ['Thriller', 'Horror'], ['Thriller', 'Horror'], ['Romance', 'Dramas'], ['Comedies', 'Fantasy'], ['Comedies', 'Fantasy'], ['Romance', 'Dramas'], ['Thriller', 'Horror'], ['Action', 'Crime'], ['Romance', 'Dramas'], ['Romance', 'Dramas'], ['Sci-fi', 'Documentaries'], ['Thriller', 'Horror'], ['Action', 'Crime'], ['Romance', 'Dramas'], ['Thriller', 'Horror'], ['Thriller', 'Horror'], ['Sci-fi', 'Documentaries'], ['Romance', 'Dramas'], ['Action', 'Crime'], ['Action', 'Crime'], ['Comedies', 'Fantasy'], ['Action', 'Crime'], ['Action', 'Crime'], ['Comedies', 'Fantasy'], ['Sci-fi', 'Documentaries'], ['Action', 'Crime'], ['Action', 'Crime'], ['Thriller', 'Horror'], ['Thriller', 'Horror'], ['Action', 'Crime'], ['Romance', 'Dramas'], ['Romance', 'Dramas'], ['Action', 'Crime'], ['Action', 'Crime'], ['Action', 'Crime'], ['Comedies', 'Fantasy'], ['Action', 'Crime'], ['Sci-fi', 'Documentaries'], ['Thriller', 'Horror'], ['Romance', 'Dramas'], ['Romance', 'Dramas'], ['Romance', 'Dramas'], ['Romance', 'Dramas'], ['Comedies', 'Fantasy'], ['Romance', 'Dramas'], ['Comedies', 'Fantasy'], ['Thriller', 'Horror'], ['Romance', 'Dramas'], ['Romance', 'Dramas'], ['Action', 'Crime'], ['Thriller', 'Horror'], ['Action', 'Crime'], ['Comedies', 'Fantasy'], ['Thriller', 'Horror'], ['Thriller', 'Horror'], ['Sci-fi', 'Documentaries'], ['Romance', 'Dramas'], ['Action', 'Crime'], ['Romance', 'Dramas'], ['Comedies', 'Fantasy'], ['Thriller', 'Horror'], ['Comedies', 'Fantasy'], ['Comedies', 'Fantasy'], ['Romance', 'Dramas'], ['Comedies', 'Fantasy'], ['Thriller', 'Horror'], ['Comedies', 'Fantasy'], ['Comedies', 'Fantasy'], ['Action', 'Crime'], ['Comedies', 'Fantasy'], ['Thriller', 'Horror'], ['Romance', 'Dramas'], ['Thriller', 'Horror'], ['Thriller', 'Horror'], ['Romance', 'Dramas'], ['Sci-fi', 'Documentaries'], ['Comedies', 'Fantasy'], ['Thriller', 'Horror'], ['Thriller', 'Horror'], ['Thriller', 'Horror'], ['Thriller', 'Horror'], ['Sci-fi', 'Documentaries'], ['Thriller', 'Horror'], ['Action', 'Crime'], ['Romance', 'Dramas'], ['Action', 'Crime'], ['Romance', 'Dramas'], ['Comedies', 'Fantasy'], ['Comedies', 'Fantasy'], ['Comedies', 'Fantasy'], ['Sci-fi', 'Documentaries'], ['Thriller', 'Horror'], ['Thriller', 'Horror'], ['Thriller', 'Horror'], ['Thriller', 'Horror'], ['Romance', 'Dramas'], ['Romance', 'Dramas'], ['Thriller', 'Horror'], ['Comedies', 'Fantasy'], ['Sci-fi', 'Documentaries'], ['Sci-fi', 'Documentaries'], ['Thriller', 'Horror'], ['Romance', 'Dramas'], ['Romance', 'Dramas'], ['Thriller', 'Horror'], ['Thriller', 'Horror'], ['Romance', 'Dramas'], ['Romance', 'Dramas'], ['Action', 'Crime'], ['Thriller', 'Horror'], ['Thriller', 'Horror'], ['Thriller', 'Horror'], ['Romance', 'Dramas'], ['Comedies', 'Fantasy'], ['Comedies', 'Fantasy'], ['Thriller', 'Horror'], ['Action', 'Crime'], ['Romance', 'Dramas'], ['Sci-fi', 'Documentaries'], ['Romance', 'Dramas'], ['Comedies', 'Fantasy'], ['Action', 'Crime'], ['Action', 'Crime'], ['Thriller', 'Horror'], ['Comedies', 'Fantasy'], ['Sci-fi', 'Documentaries'], ['Thriller', 'Horror'], ['Romance', 'Dramas'], ['Romance', 'Dramas'], ['Thriller', 'Horror'], ['Comedies', 'Fantasy'], ['Action', 'Crime'], ['Romance', 'Dramas'], ['Comedies', 'Fantasy'], ['Sci-fi', 'Documentaries'], ['Comedies', 'Fantasy'], ['Action', 'Crime'], ['Comedies', 'Fantasy'], ['Thriller', 'Horror'], ['Thriller', 'Horror'], ['Thriller', 'Horror'], ['Thriller', 'Horror'], ['Comedies', 'Fantasy'], ['Romance', 'Dramas'], ['Action', 'Crime'], ['Romance', 'Dramas'], ['Sci-fi', 'Documentaries'], ['Sci-fi', 'Documentaries'], ['Comedies', 'Fantasy'], ['Romance', 'Dramas'], ['Thriller', 'Horror'], ['Sci-fi', 'Documentaries'], ['Thriller', 'Horror'], ['Thriller', 'Horror'], ['Thriller', 'Horror'], ['Comedies', 'Fantasy'], ['Sci-fi', 'Documentaries'], ['Thriller', 'Horror'], ['Romance', 'Dramas'], ['Action', 'Crime'], ['Thriller', 'Horror'], ['Sci-fi', 'Documentaries'], ['Sci-fi', 'Documentaries'], ['Action', 'Crime'], ['Romance', 'Dramas'], ['Sci-fi', 'Documentaries'], ['Action', 'Crime'], ['Thriller', 'Horror'], ['Comedies', 'Fantasy'], ['Action', 'Crime'], ['Thriller', 'Horror'], ['Thriller', 'Horror'], ['Romance', 'Dramas'], ['Comedies', 'Fantasy'], ['Romance', 'Dramas'], ['Comedies', 'Fantasy'], ['Thriller', 'Horror'], ['Comedies', 'Fantasy'], ['Romance', 'Dramas'], ['Thriller', 'Horror'], ['Romance', 'Dramas'], ['Thriller', 'Horror'], ['Sci-fi', 'Documentaries'], ['Comedies', 'Fantasy'], ['Romance', 'Dramas'], ['Action', 'Crime'], ['Action', 'Crime'], ['Action', 'Crime'], ['Thriller', 'Horror'], ['Comedies', 'Fantasy'], ['Romance', 'Dramas'], ['Romance', 'Dramas'], ['Comedies', 'Fantasy'], ['Thriller', 'Horror'], ['Action', 'Crime'], ['Action', 'Crime'], ['Thriller', 'Horror'], ['Action', 'Crime'], ['Thriller', 'Horror'], ['Action', 'Crime'], ['Romance', 'Dramas'], ['Action', 'Crime'], ['Thriller', 'Horror'], ['Romance', 'Dramas'], ['Comedies', 'Fantasy'], ['Romance', 'Dramas'], ['Thriller', 'Horror'], ['Romance', 'Dramas'], ['Comedies', 'Fantasy'], ['Romance', 'Dramas'], ['Comedies', 'Fantasy'], ['Action', 'Crime'], ['Romance', 'Dramas'], ['Thriller', 'Horror'], ['Action', 'Crime'], ['Action', 'Crime'], ['Action', 'Crime'], ['Thriller', 'Horror'], ['Romance', 'Dramas'], ['Comedies', 'Fantasy'], ['Thriller', 'Horror'], ['Thriller', 'Horror'], ['Comedies', 'Fantasy'], ['Action', 'Crime'], ['Comedies', 'Fantasy'], ['Thriller', 'Horror'], ['Comedies', 'Fantasy'], ['Thriller', 'Horror'], ['Romance', 'Dramas'], ['Comedies', 'Fantasy'], ['Action', 'Crime'], ['Action', 'Crime'], ['Romance', 'Dramas'], ['Comedies', 'Fantasy'], ['Thriller', 'Horror'], ['Romance', 'Dramas'], ['Romance', 'Dramas'], ['Thriller', 'Horror'], ['Thriller', 'Horror'], ['Thriller', 'Horror'], ['Comedies', 'Fantasy'], ['Action', 'Crime'], ['Sci-fi', 'Documentaries'], ['Action', 'Crime'], ['Thriller', 'Horror'], ['Thriller', 'Horror'], ['Comedies', 'Fantasy'], ['Thriller', 'Horror'], ['Action', 'Crime'], ['Thriller', 'Horror'], ['Thriller', 'Horror'], ['Comedies', 'Fantasy'], ['Romance', 'Dramas'], ['Action', 'Crime'], ['Sci-fi', 'Documentaries'], ['Romance', 'Dramas'], ['Action', 'Crime'], ['Action', 'Crime'], ['Romance', 'Dramas'], ['Action', 'Crime'], ['Action', 'Crime'], ['Comedies', 'Fantasy'], ['Romance', 'Dramas'], ['Comedies', 'Fantasy'], ['Action', 'Crime'], ['Thriller', 'Horror'], ['Comedies', 'Fantasy'], ['Romance', 'Dramas'], ['Sci-fi', 'Documentaries'], ['Comedies', 'Fantasy'], ['Thriller', 'Horror'], ['Action', 'Crime'], ['Romance', 'Dramas'], ['Comedies', 'Fantasy'], ['Thriller', 'Horror'], ['Thriller', 'Horror'], ['Romance', 'Dramas'], ['Thriller', 'Horror'], ['Action', 'Crime'], ['Thriller', 'Horror'], ['Comedies', 'Fantasy'], ['Thriller', 'Horror'], ['Romance', 'Dramas'], ['Action', 'Crime'], ['Romance', 'Dramas'], ['Romance', 'Dramas'], ['Thriller', 'Horror'], ['Thriller', 'Horror'], ['Sci-fi', 'Documentaries'], ['Romance', 'Dramas'], ['Romance', 'Dramas'], ['Romance', 'Dramas'], ['Sci-fi', 'Documentaries'], ['Action', 'Crime'], ['Romance', 'Dramas'], ['Romance', 'Dramas'], ['Romance', 'Dramas'], ['Romance', 'Dramas'], ['Romance', 'Dramas'], ['Comedies', 'Fantasy'], ['Thriller', 'Horror'], ['Comedies', 'Fantasy'], ['Sci-fi', 'Documentaries'], ['Romance', 'Dramas'], ['Action', 'Crime'], ['Thriller', 'Horror'], ['Thriller', 'Horror'], ['Sci-fi', 'Documentaries'], ['Romance', 'Dramas'], ['Comedies', 'Fantasy'], ['Romance', 'Dramas'], ['Thriller', 'Horror'], ['Romance', 'Dramas'], ['Action', 'Crime'], ['Comedies', 'Fantasy'], ['Comedies', 'Fantasy'], ['Romance', 'Dramas'], ['Romance', 'Dramas'], ['Action', 'Crime'], ['Comedies', 'Fantasy'], ['Comedies', 'Fantasy'], ['Action', 'Crime'], ['Romance', 'Dramas'], ['Thriller', 'Horror'], ['Thriller', 'Horror'], ['Comedies', 'Fantasy'], ['Romance', 'Dramas'], ['Thriller', 'Horror'], ['Action', 'Crime'], ['Romance', 'Dramas'], ['Action', 'Crime'], ['Sci-fi', 'Documentaries'], ['Romance', 'Dramas'], ['Sci-fi', 'Documentaries'], ['Action', 'Crime'], ['Comedies', 'Fantasy'], ['Action', 'Crime'], ['Action', 'Crime'], ['Comedies', 'Fantasy'], ['Thriller', 'Horror'], ['Thriller', 'Horror'], ['Action', 'Crime'], ['Thriller', 'Horror'], ['Romance', 'Dramas'], ['Comedies', 'Fantasy'], ['Thriller', 'Horror'], ['Action', 'Crime'], ['Action', 'Crime'], ['Action', 'Crime'], ['Thriller', 'Horror'], ['Action', 'Crime'], ['Romance', 'Dramas'], ['Comedies', 'Fantasy'], ['Sci-fi', 'Documentaries'], ['Comedies', 'Fantasy'], ['Comedies', 'Fantasy'], ['Thriller', 'Horror'], ['Action', 'Crime'], ['Sci-fi', 'Documentaries'], ['Action', 'Crime'], ['Action', 'Crime'], ['Sci-fi', 'Documentaries'], ['Comedies', 'Fantasy'], ['Thriller', 'Horror'], ['Action', 'Crime'], ['Comedies', 'Fantasy'], ['Romance', 'Dramas'], ['Action', 'Crime'], ['Romance', 'Dramas'], ['Romance', 'Dramas'], ['Romance', 'Dramas'], ['Thriller', 'Horror'], ['Romance', 'Dramas'], ['Thriller', 'Horror'], ['Action', 'Crime'], ['Sci-fi', 'Documentaries'], ['Action', 'Crime'], ['Comedies', 'Fantasy'], ['Comedies', 'Fantasy'], ['Thriller', 'Horror'], ['Action', 'Crime'], ['Thriller', 'Horror'], ['Comedies', 'Fantasy'], ['Sci-fi', 'Documentaries'], ['Comedies', 'Fantasy'], ['Comedies', 'Fantasy'], ['Comedies', 'Fantasy'], ['Thriller', 'Horror'], ['Romance', 'Dramas'], ['Romance', 'Dramas'], ['Action', 'Crime'], ['Thriller', 'Horror'], ['Romance', 'Dramas'], ['Action', 'Crime'], ['Comedies', 'Fantasy'], ['Action', 'Crime'], ['Comedies', 'Fantasy'], ['Thriller', 'Horror'], ['Action', 'Crime'], ['Thriller', 'Horror'], ['Comedies', 'Fantasy'], ['Thriller', 'Horror'], ['Action', 'Crime'], ['Romance', 'Dramas'], ['Sci-fi', 'Documentaries'], ['Comedies', 'Fantasy'], ['Thriller', 'Horror'], ['Action', 'Crime'], ['Romance', 'Dramas'], ['Thriller', 'Horror'], ['Comedies', 'Fantasy'], ['Romance', 'Dramas'], ['Romance', 'Dramas'], ['Comedies', 'Fantasy'], ['Sci-fi', 'Documentaries'], ['Comedies', 'Fantasy'], ['Sci-fi', 'Documentaries'], ['Thriller', 'Horror'], ['Action', 'Crime'], ['Thriller', 'Horror'], ['Thriller', 'Horror'], ['Comedies', 'Fantasy'], ['Sci-fi', 'Documentaries'], ['Romance', 'Dramas'], ['Thriller', 'Horror'], ['Sci-fi', 'Documentaries'], ['Romance', 'Dramas'], ['Thriller', 'Horror'], ['Comedies', 'Fantasy'], ['Thriller', 'Horror'], ['Action', 'Crime'], ['Thriller', 'Horror'], ['Thriller', 'Horror'], ['Action', 'Crime'], ['Action', 'Crime'], ['Romance', 'Dramas'], ['Romance', 'Dramas'], ['Thriller', 'Horror'], ['Action', 'Crime'], ['Thriller', 'Horror'], ['Thriller', 'Horror'], ['Romance', 'Dramas'], ['Romance', 'Dramas'], ['Sci-fi', 'Documentaries'], ['Romance', 'Dramas'], ['Romance', 'Dramas'], ['Sci-fi', 'Documentaries'], ['Romance', 'Dramas'], ['Sci-fi', 'Documentaries'], ['Sci-fi', 'Documentaries'], ['Sci-fi', 'Documentaries'], ['Romance', 'Dramas'], ['Action', 'Crime'], ['Thriller', 'Horror'], ['Thriller', 'Horror'], ['Thriller', 'Horror'], ['Romance', 'Dramas'], ['Comedies', 'Fantasy'], ['Comedies', 'Fantasy'], ['Sci-fi', 'Documentaries'], ['Thriller', 'Horror'], ['Thriller', 'Horror'], ['Thriller', 'Horror'], ['Comedies', 'Fantasy'], ['Romance', 'Dramas'], ['Action', 'Crime'], ['Romance', 'Dramas'], ['Thriller', 'Horror'], ['Romance', 'Dramas'], ['Action', 'Crime'], ['Sci-fi', 'Documentaries'], ['Sci-fi', 'Documentaries'], ['Thriller', 'Horror'], ['Comedies', 'Fantasy'], ['Sci-fi', 'Documentaries'], ['Romance', 'Dramas'], ['Romance', 'Dramas'], ['Comedies', 'Fantasy'], ['Thriller', 'Horror'], ['Sci-fi', 'Documentaries'], ['Thriller', 'Horror'], ['Romance', 'Dramas'], ['Action', 'Crime'], ['Romance', 'Dramas'], ['Action', 'Crime'], ['Romance', 'Dramas'], ['Romance', 'Dramas'], ['Action', 'Crime'], ['Comedies', 'Fantasy'], ['Romance', 'Dramas'], ['Comedies', 'Fantasy'], ['Romance', 'Dramas'], ['Comedies', 'Fantasy'], ['Thriller', 'Horror'], ['Sci-fi', 'Documentaries'], ['Romance', 'Dramas'], ['Sci-fi', 'Documentaries'], ['Romance', 'Dramas'], ['Comedies', 'Fantasy'], ['Sci-fi', 'Documentaries'], ['Thriller', 'Horror'], ['Comedies', 'Fantasy'], ['Comedies', 'Fantasy'], ['Romance', 'Dramas'], ['Comedies', 'Fantasy'], ['Romance', 'Dramas'], ['Action', 'Crime'], ['Romance', 'Dramas'], ['Action', 'Crime'], ['Romance', 'Dramas'], ['Thriller', 'Horror'], ['Sci-fi', 'Documentaries'], ['Thriller', 'Horror'], ['Action', 'Crime'], ['Comedies', 'Fantasy'], ['Comedies', 'Fantasy'], ['Action', 'Crime'], ['Thriller', 'Horror'], ['Action', 'Crime'], ['Romance', 'Dramas'], ['Romance', 'Dramas'], ['Action', 'Crime'], ['Action', 'Crime'], ['Thriller', 'Horror'], ['Thriller', 'Horror'], ['Sci-fi', 'Documentaries'], ['Comedies', 'Fantasy'], ['Action', 'Crime'], ['Comedies', 'Fantasy'], ['Sci-fi', 'Documentaries'], ['Romance', 'Dramas'], ['Romance', 'Dramas'], ['Comedies', 'Fantasy'], ['Sci-fi', 'Documentaries'], ['Comedies', 'Fantasy'], ['Sci-fi', 'Documentaries'], ['Romance', 'Dramas'], ['Comedies', 'Fantasy'], ['Romance', 'Dramas'], ['Action', 'Crime'], ['Romance', 'Dramas'], ['Comedies', 'Fantasy'], ['Comedies', 'Fantasy'], ['Comedies', 'Fantasy'], ['Romance', 'Dramas'], ['Romance', 'Dramas'], ['Sci-fi', 'Documentaries'], ['Romance', 'Dramas'], ['Action', 'Crime'], ['Thriller', 'Horror'], ['Thriller', 'Horror'], ['Action', 'Crime'], ['Action', 'Crime'], ['Sci-fi', 'Documentaries'], ['Romance', 'Dramas'], ['Sci-fi', 'Documentaries'], ['Sci-fi', 'Documentaries'], ['Romance', 'Dramas'], ['Thriller', 'Horror'], ['Comedies', 'Fantasy'], ['Comedies', 'Fantasy'], ['Action', 'Crime'], ['Romance', 'Dramas'], ['Action', 'Crime'], ['Action', 'Crime'], ['Comedies', 'Fantasy'], ['Action', 'Crime'], ['Romance', 'Dramas'], ['Action', 'Crime'], ['Action', 'Crime'], ['Sci-fi', 'Documentaries'], ['Comedies', 'Fantasy'], ['Thriller', 'Horror'], ['Romance', 'Dramas'], ['Sci-fi', 'Documentaries'], ['Comedies', 'Fantasy'], ['Thriller', 'Horror'], ['Thriller', 'Horror'], ['Comedies', 'Fantasy'], ['Comedies', 'Fantasy'], ['Romance', 'Dramas'], ['Romance', 'Dramas'], ['Romance', 'Dramas'], ['Romance', 'Dramas'], ['Comedies', 'Fantasy'], ['Sci-fi', 'Documentaries'], ['Sci-fi', 'Documentaries'], ['Action', 'Crime'], ['Romance', 'Dramas'], ['Thriller', 'Horror'], ['Comedies', 'Fantasy'], ['Romance', 'Dramas'], ['Action', 'Crime'], ['Romance', 'Dramas'], ['Thriller', 'Horror'], ['Romance', 'Dramas'], ['Sci-fi', 'Documentaries'], ['Action', 'Crime'], ['Romance', 'Dramas'], ['Thriller', 'Horror'], ['Thriller', 'Horror'], ['Romance', 'Dramas'], ['Comedies', 'Fantasy'], ['Action', 'Crime'], ['Thriller', 'Horror'], ['Comedies', 'Fantasy'], ['Romance', 'Dramas'], ['Romance', 'Dramas'], ['Romance', 'Dramas'], ['Thriller', 'Horror'], ['Romance', 'Dramas'], ['Thriller', 'Horror'], ['Romance', 'Dramas'], ['Sci-fi', 'Documentaries'], ['Thriller', 'Horror'], ['Thriller', 'Horror'], ['Thriller', 'Horror'], ['Action', 'Crime'], ['Action', 'Crime'], ['Romance', 'Dramas'], ['Sci-fi', 'Documentaries'], ['Action', 'Crime'], ['Action', 'Crime'], ['Comedies', 'Fantasy'], ['Romance', 'Dramas'], ['Action', 'Crime'], ['Comedies', 'Fantasy'], ['Action', 'Crime'], ['Comedies', 'Fantasy'], ['Romance', 'Dramas'], ['Comedies', 'Fantasy'], ['Romance', 'Dramas'], ['Sci-fi', 'Documentaries'], ['Sci-fi', 'Documentaries'], ['Sci-fi', 'Documentaries'], ['Sci-fi', 'Documentaries'], ['Sci-fi', 'Documentaries'], ['Thriller', 'Horror'], ['Romance', 'Dramas'], ['Romance', 'Dramas'], ['Action', 'Crime'], ['Thriller', 'Horror'], ['Romance', 'Dramas'], ['Thriller', 'Horror'], ['Comedies', 'Fantasy'], ['Comedies', 'Fantasy'], ['Thriller', 'Horror'], ['Romance', 'Dramas'], ['Action', 'Crime'], ['Thriller', 'Horror'], ['Romance', 'Dramas'], ['Action', 'Crime'], ['Thriller', 'Horror'], ['Romance', 'Dramas'], ['Sci-fi', 'Documentaries'], ['Thriller', 'Horror'], ['Thriller', 'Horror'], ['Romance', 'Dramas'], ['Sci-fi', 'Documentaries'], ['Romance', 'Dramas'], ['Comedies', 'Fantasy'], ['Sci-fi', 'Documentaries'], ['Romance', 'Dramas'], ['Comedies', 'Fantasy'], ['Romance', 'Dramas'], ['Romance', 'Dramas'], ['Action', 'Crime'], ['Thriller', 'Horror'], ['Romance', 'Dramas'], ['Comedies', 'Fantasy'], ['Thriller', 'Horror'], ['Action', 'Crime'], ['Thriller', 'Horror'], ['Comedies', 'Fantasy'], ['Action', 'Crime'], ['Comedies', 'Fantasy'], ['Comedies', 'Fantasy'], ['Romance', 'Dramas'], ['Romance', 'Dramas'], ['Romance', 'Dramas'], ['Thriller', 'Horror'], ['Romance', 'Dramas'], ['Sci-fi', 'Documentaries'], ['Sci-fi', 'Documentaries'], ['Thriller', 'Horror'], ['Action', 'Crime'], ['Romance', 'Dramas'], ['Romance', 'Dramas'], ['Sci-fi', 'Documentaries'], ['Thriller', 'Horror'], ['Thriller', 'Horror'], ['Thriller', 'Horror'], ['Thriller', 'Horror'], ['Thriller', 'Horror'], ['Romance', 'Dramas'], ['Thriller', 'Horror'], ['Action', 'Crime'], ['Sci-fi', 'Documentaries'], ['Romance', 'Dramas'], ['Action', 'Crime'], ['Romance', 'Dramas'], ['Thriller', 'Horror'], ['Romance', 'Dramas'], ['Action', 'Crime'], ['Romance', 'Dramas'], ['Action', 'Crime'], ['Comedies', 'Fantasy'], ['Sci-fi', 'Documentaries'], ['Romance', 'Dramas'], ['Romance', 'Dramas'], ['Action', 'Crime'], ['Comedies', 'Fantasy'], ['Comedies', 'Fantasy'], ['Thriller', 'Horror'], ['Action', 'Crime'], ['Action', 'Crime'], ['Sci-fi', 'Documentaries'], ['Action', 'Crime'], ['Comedies', 'Fantasy'], ['Romance', 'Dramas'], ['Thriller', 'Horror'], ['Thriller', 'Horror'], ['Romance', 'Dramas'], ['Comedies', 'Fantasy'], ['Sci-fi', 'Documentaries'], ['Thriller', 'Horror'], ['Action', 'Crime'], ['Thriller', 'Horror'], ['Action', 'Crime'], ['Action', 'Crime'], ['Thriller', 'Horror'], ['Sci-fi', 'Documentaries'], ['Comedies', 'Fantasy'], ['Action', 'Crime'], ['Action', 'Crime'], ['Romance', 'Dramas'], ['Thriller', 'Horror'], ['Sci-fi', 'Documentaries'], ['Action', 'Crime'], ['Thriller', 'Horror'], ['Romance', 'Dramas'], ['Thriller', 'Horror'], ['Thriller', 'Horror'], ['Thriller', 'Horror'], ['Romance', 'Dramas'], ['Action', 'Crime'], ['Romance', 'Dramas'], ['Thriller', 'Horror'], ['Sci-fi', 'Documentaries'], ['Action', 'Crime'], ['Thriller', 'Horror'], ['Romance', 'Dramas'], ['Sci-fi', 'Documentaries'], ['Action', 'Crime'], ['Romance', 'Dramas'], ['Thriller', 'Horror'], ['Thriller', 'Horror'], ['Romance', 'Dramas'], ['Thriller', 'Horror'], ['Thriller', 'Horror'], ['Thriller', 'Horror'], ['Thriller', 'Horror'], ['Romance', 'Dramas'], ['Romance', 'Dramas'], ['Thriller', 'Horror'], ['Thriller', 'Horror'], ['Romance', 'Dramas'], ['Thriller', 'Horror'], ['Romance', 'Dramas'], ['Thriller', 'Horror'], ['Comedies', 'Fantasy'], ['Thriller', 'Horror'], ['Romance', 'Dramas'], ['Sci-fi', 'Documentaries'], ['Action', 'Crime'], ['Romance', 'Dramas'], ['Action', 'Crime'], ['Action', 'Crime'], ['Romance', 'Dramas'], ['Action', 'Crime'], ['Thriller', 'Horror'], ['Sci-fi', 'Documentaries'], ['Thriller', 'Horror'], ['Thriller', 'Horror'], ['Thriller', 'Horror'], ['Romance', 'Dramas'], ['Action', 'Crime'], ['Thriller', 'Horror'], ['Comedies', 'Fantasy'], ['Thriller', 'Horror'], ['Thriller', 'Horror'], ['Thriller', 'Horror'], ['Sci-fi', 'Documentaries'], ['Romance', 'Dramas'], ['Action', 'Crime'], ['Sci-fi', 'Documentaries'], ['Comedies', 'Fantasy'], ['Thriller', 'Horror'], ['Romance', 'Dramas'], ['Thriller', 'Horror'], ['Thriller', 'Horror'], ['Thriller', 'Horror'], ['Thriller', 'Horror'], ['Romance', 'Dramas'], ['Romance', 'Dramas'], ['Romance', 'Dramas'], ['Romance', 'Dramas'], ['Thriller', 'Horror'], ['Action', 'Crime'], ['Sci-fi', 'Documentaries'], ['Romance', 'Dramas'], ['Thriller', 'Horror'], ['Romance', 'Dramas'], ['Comedies', 'Fantasy'], ['Romance', 'Dramas'], ['Sci-fi', 'Documentaries'], ['Comedies', 'Fantasy'], ['Thriller', 'Horror'], ['Action', 'Crime'], ['Action', 'Crime'], ['Thriller', 'Horror'], ['Comedies', 'Fantasy'], ['Romance', 'Dramas'], ['Thriller', 'Horror'], ['Sci-fi', 'Documentaries'], ['Sci-fi', 'Documentaries'], ['Action', 'Crime'], ['Romance', 'Dramas'], ['Action', 'Crime'], ['Romance', 'Dramas'], ['Comedies', 'Fantasy'], ['Romance', 'Dramas'], ['Thriller', 'Horror'], ['Action', 'Crime'], ['Thriller', 'Horror'], ['Comedies', 'Fantasy'], ['Comedies', 'Fantasy'], ['Action', 'Crime'], ['Romance', 'Dramas'], ['Action', 'Crime'], ['Comedies', 'Fantasy'], ['Romance', 'Dramas'], ['Romance', 'Dramas'], ['Romance', 'Dramas'], ['Comedies', 'Fantasy'], ['Comedies', 'Fantasy'], ['Sci-fi', 'Documentaries'], ['Comedies', 'Fantasy'], ['Thriller', 'Horror'], ['Action', 'Crime'], ['Comedies', 'Fantasy'], ['Comedies', 'Fantasy'], ['Thriller', 'Horror'], ['Sci-fi', 'Documentaries'], ['Thriller', 'Horror'], ['Action', 'Crime'], ['Sci-fi', 'Documentaries'], ['Comedies', 'Fantasy'], ['Romance', 'Dramas'], ['Action', 'Crime'], ['Action', 'Crime'], ['Thriller', 'Horror'], ['Sci-fi', 'Documentaries'], ['Thriller', 'Horror'], ['Romance', 'Dramas'], ['Thriller', 'Horror'], ['Thriller', 'Horror'], ['Romance', 'Dramas'], ['Thriller', 'Horror'], ['Romance', 'Dramas'], ['Romance', 'Dramas'], ['Comedies', 'Fantasy'], ['Comedies', 'Fantasy'], ['Thriller', 'Horror'], ['Thriller', 'Horror'], ['Romance', 'Dramas'], ['Thriller', 'Horror'], ['Thriller', 'Horror'], ['Thriller', 'Horror'], ['Romance', 'Dramas'], ['Sci-fi', 'Documentaries'], ['Sci-fi', 'Documentaries'], ['Romance', 'Dramas'], ['Thriller', 'Horror'], ['Sci-fi', 'Documentaries'], ['Action', 'Crime'], ['Thriller', 'Horror'], ['Romance', 'Dramas'], ['Comedies', 'Fantasy'], ['Action', 'Crime'], ['Romance', 'Dramas'], ['Action', 'Crime'], ['Thriller', 'Horror'], ['Romance', 'Dramas'], ['Sci-fi', 'Documentaries'], ['Thriller', 'Horror'], ['Action', 'Crime'], ['Romance', 'Dramas'], ['Romance', 'Dramas'], ['Romance', 'Dramas'], ['Comedies', 'Fantasy'], ['Thriller', 'Horror'], ['Romance', 'Dramas'], ['Action', 'Crime'], ['Romance', 'Dramas'], ['Romance', 'Dramas'], ['Thriller', 'Horror'], ['Thriller', 'Horror'], ['Romance', 'Dramas'], ['Thriller', 'Horror'], ['Comedies', 'Fantasy'], ['Comedies', 'Fantasy'], ['Sci-fi', 'Documentaries'], ['Comedies', 'Fantasy'], ['Comedies', 'Fantasy'], ['Romance', 'Dramas'], ['Romance', 'Dramas'], ['Action', 'Crime'], ['Romance', 'Dramas'], ['Comedies', 'Fantasy'], ['Sci-fi', 'Documentaries'], ['Thriller', 'Horror'], ['Romance', 'Dramas'], ['Romance', 'Dramas'], ['Comedies', 'Fantasy'], ['Thriller', 'Horror'], ['Comedies', 'Fantasy'], ['Romance', 'Dramas'], ['Thriller', 'Horror'], ['Action', 'Crime'], ['Sci-fi', 'Documentaries'], ['Action', 'Crime'], ['Romance', 'Dramas'], ['Sci-fi', 'Documentaries'], ['Sci-fi', 'Documentaries'], ['Thriller', 'Horror'], ['Thriller', 'Horror'], ['Sci-fi', 'Documentaries'], ['Comedies', 'Fantasy'], ['Action', 'Crime'], ['Comedies', 'Fantasy'], ['Comedies', 'Fantasy'], ['Action', 'Crime'], ['Romance', 'Dramas'], ['Romance', 'Dramas'], ['Thriller', 'Horror'], ['Romance', 'Dramas'], ['Romance', 'Dramas'], ['Romance', 'Dramas'], ['Thriller', 'Horror'], ['Thriller', 'Horror'], ['Romance', 'Dramas'], ['Thriller', 'Horror'], ['Comedies', 'Fantasy'], ['Romance', 'Dramas'], ['Romance', 'Dramas'], ['Thriller', 'Horror'], ['Action', 'Crime'], ['Romance', 'Dramas'], ['Action', 'Crime'], ['Thriller', 'Horror'], ['Romance', 'Dramas'], ['Sci-fi', 'Documentaries'], ['Romance', 'Dramas'], ['Action', 'Crime'], ['Sci-fi', 'Documentaries'], ['Action', 'Crime'], ['Action', 'Crime'], ['Thriller', 'Horror'], ['Romance', 'Dramas'], ['Comedies', 'Fantasy'], ['Romance', 'Dramas'], ['Comedies', 'Fantasy'], ['Romance', 'Dramas'], ['Romance', 'Dramas'], ['Romance', 'Dramas'], ['Romance', 'Dramas'], ['Thriller', 'Horror'], ['Action', 'Crime'], ['Romance', 'Dramas'], ['Thriller', 'Horror'], ['Action', 'Crime'], ['Romance', 'Dramas'], ['Romance', 'Dramas'], ['Thriller', 'Horror'], ['Thriller', 'Horror'], ['Thriller', 'Horror'], ['Action', 'Crime'], ['Sci-fi', 'Documentaries'], ['Action', 'Crime'], ['Comedies', 'Fantasy'], ['Comedies', 'Fantasy'], ['Romance', 'Dramas'], ['Thriller', 'Horror'], ['Thriller', 'Horror'], ['Sci-fi', 'Documentaries'], ['Comedies', 'Fantasy'], ['Comedies', 'Fantasy'], ['Romance', 'Dramas'], ['Romance', 'Dramas'], ['Sci-fi', 'Documentaries'], ['Thriller', 'Horror'], ['Romance', 'Dramas'], ['Romance', 'Dramas'], ['Thriller', 'Horror'], ['Action', 'Crime'], ['Thriller', 'Horror'], ['Comedies', 'Fantasy'], ['Thriller', 'Horror'], ['Comedies', 'Fantasy'], ['Comedies', 'Fantasy'], ['Action', 'Crime'], ['Action', 'Crime'], ['Thriller', 'Horror'], ['Romance', 'Dramas'], ['Thriller', 'Horror'], ['Sci-fi', 'Documentaries'], ['Thriller', 'Horror'], ['Sci-fi', 'Documentaries'], ['Romance', 'Dramas'], ['Comedies', 'Fantasy'], ['Thriller', 'Horror'], ['Comedies', 'Fantasy'], ['Action', 'Crime'], ['Thriller', 'Horror'], ['Thriller', 'Horror'], ['Comedies', 'Fantasy'], ['Thriller', 'Horror'], ['Comedies', 'Fantasy'], ['Action', 'Crime'], ['Comedies', 'Fantasy'], ['Romance', 'Dramas'], ['Action', 'Crime'], ['Thriller', 'Horror'], ['Comedies', 'Fantasy'], ['Romance', 'Dramas'], ['Sci-fi', 'Documentaries'], ['Romance', 'Dramas'], ['Romance', 'Dramas'], ['Comedies', 'Fantasy'], ['Action', 'Crime'], ['Comedies', 'Fantasy'], ['Sci-fi', 'Documentaries'], ['Thriller', 'Horror'], ['Romance', 'Dramas'], ['Sci-fi', 'Documentaries'], ['Romance', 'Dramas'], ['Romance', 'Dramas'], ['Comedies', 'Fantasy'], ['Romance', 'Dramas'], ['Comedies', 'Fantasy'], ['Thriller', 'Horror'], ['Romance', 'Dramas'], ['Sci-fi', 'Documentaries'], ['Thriller', 'Horror'], ['Thriller', 'Horror'], ['Thriller', 'Horror'], ['Thriller', 'Horror'], ['Thriller', 'Horror'], ['Romance', 'Dramas'], ['Action', 'Crime'], ['Thriller', 'Horror'], ['Comedies', 'Fantasy'], ['Romance', 'Dramas'], ['Thriller', 'Horror'], ['Romance', 'Dramas'], ['Thriller', 'Horror'], ['Comedies', 'Fantasy'], ['Action', 'Crime'], ['Comedies', 'Fantasy'], ['Romance', 'Dramas'], ['Romance', 'Dramas'], ['Romance', 'Dramas'], ['Action', 'Crime'], ['Sci-fi', 'Documentaries'], ['Comedies', 'Fantasy'], ['Thriller', 'Horror'], ['Action', 'Crime'], ['Sci-fi', 'Documentaries'], ['Romance', 'Dramas'], ['Romance', 'Dramas'], ['Comedies', 'Fantasy'], ['Thriller', 'Horror'], ['Sci-fi', 'Documentaries'], ['Romance', 'Dramas'], ['Comedies', 'Fantasy'], ['Comedies', 'Fantasy'], ['Comedies', 'Fantasy'], ['Comedies', 'Fantasy'], ['Thriller', 'Horror'], ['Thriller', 'Horror'], ['Comedies', 'Fantasy'], ['Comedies', 'Fantasy'], ['Thriller', 'Horror'], ['Thriller', 'Horror'], ['Romance', 'Dramas'], ['Romance', 'Dramas'], ['Romance', 'Dramas'], ['Thriller', 'Horror'], ['Comedies', 'Fantasy'], ['Comedies', 'Fantasy'], ['Action', 'Crime'], ['Romance', 'Dramas'], ['Action', 'Crime'], ['Action', 'Crime'], ['Comedies', 'Fantasy'], ['Comedies', 'Fantasy'], ['Comedies', 'Fantasy'], ['Comedies', 'Fantasy'], ['Thriller', 'Horror'], ['Comedies', 'Fantasy'], ['Thriller', 'Horror'], ['Thriller', 'Horror'], ['Romance', 'Dramas'], ['Sci-fi', 'Documentaries'], ['Action', 'Crime'], ['Comedies', 'Fantasy'], ['Thriller', 'Horror'], ['Action', 'Crime'], ['Sci-fi', 'Documentaries'], ['Comedies', 'Fantasy'], ['Comedies', 'Fantasy'], ['Romance', 'Dramas'], ['Comedies', 'Fantasy'], ['Romance', 'Dramas'], ['Comedies', 'Fantasy'], ['Thriller', 'Horror'], ['Action', 'Crime'], ['Action', 'Crime'], ['Thriller', 'Horror'], ['Thriller', 'Horror'], ['Thriller', 'Horror'], ['Romance', 'Dramas'], ['Romance', 'Dramas'], ['Action', 'Crime'], ['Romance', 'Dramas'], ['Sci-fi', 'Documentaries'], ['Romance', 'Dramas'], ['Comedies', 'Fantasy'], ['Action', 'Crime'], ['Comedies', 'Fantasy'], ['Action', 'Crime'], ['Thriller', 'Horror'], ['Comedies', 'Fantasy'], ['Comedies', 'Fantasy'], ['Sci-fi', 'Documentaries'], ['Comedies', 'Fantasy'], ['Action', 'Crime'], ['Romance', 'Dramas'], ['Thriller', 'Horror'], ['Action', 'Crime'], ['Romance', 'Dramas'], ['Sci-fi', 'Documentaries'], ['Action', 'Crime'], ['Action', 'Crime'], ['Romance', 'Dramas'], ['Sci-fi', 'Documentaries'], ['Comedies', 'Fantasy'], ['Thriller', 'Horror'], ['Sci-fi', 'Documentaries'], ['Romance', 'Dramas'], ['Thriller', 'Horror'], ['Romance', 'Dramas'], ['Sci-fi', 'Documentaries'], ['Romance', 'Dramas'], ['Comedies', 'Fantasy'], ['Comedies', 'Fantasy'], ['Romance', 'Dramas'], ['Romance', 'Dramas'], ['Thriller', 'Horror'], ['Sci-fi', 'Documentaries'], ['Romance', 'Dramas'], ['Thriller', 'Horror'], ['Sci-fi', 'Documentaries'], ['Action', 'Crime'], ['Sci-fi', 'Documentaries'], ['Thriller', 'Horror'], ['Romance', 'Dramas'], ['Thriller', 'Horror'], ['Comedies', 'Fantasy'], ['Romance', 'Dramas'], ['Action', 'Crime'], ['Comedies', 'Fantasy'], ['Thriller', 'Horror'], ['Thriller', 'Horror'], ['Thriller', 'Horror'], ['Thriller', 'Horror'], ['Romance', 'Dramas'], ['Comedies', 'Fantasy'], ['Action', 'Crime'], ['Thriller', 'Horror'], ['Romance', 'Dramas'], ['Romance', 'Dramas'], ['Romance', 'Dramas'], ['Romance', 'Dramas'], ['Romance', 'Dramas'], ['Thriller', 'Horror'], ['Romance', 'Dramas'], ['Thriller', 'Horror'], ['Action', 'Crime'], ['Thriller', 'Horror'], ['Thriller', 'Horror'], ['Action', 'Crime'], ['Thriller', 'Horror'], ['Comedies', 'Fantasy'], ['Sci-fi', 'Documentaries'], ['Thriller', 'Horror'], ['Thriller', 'Horror'], ['Thriller', 'Horror'], ['Sci-fi', 'Documentaries'], ['Thriller', 'Horror'], ['Comedies', 'Fantasy'], ['Thriller', 'Horror'], ['Thriller', 'Horror'], ['Comedies', 'Fantasy'], ['Sci-fi', 'Documentaries'], ['Thriller', 'Horror'], ['Thriller', 'Horror'], ['Comedies', 'Fantasy'], ['Comedies', 'Fantasy'], ['Comedies', 'Fantasy'], ['Thriller', 'Horror'], ['Romance', 'Dramas'], ['Romance', 'Dramas'], ['Romance', 'Dramas'], ['Comedies', 'Fantasy'], ['Romance', 'Dramas'], ['Romance', 'Dramas'], ['Sci-fi', 'Documentaries'], ['Action', 'Crime'], ['Sci-fi', 'Documentaries'], ['Thriller', 'Horror'], ['Thriller', 'Horror'], ['Thriller', 'Horror'], ['Sci-fi', 'Documentaries'], ['Comedies', 'Fantasy'], ['Sci-fi', 'Documentaries'], ['Romance', 'Dramas'], ['Comedies', 'Fantasy'], ['Thriller', 'Horror'], ['Romance', 'Dramas'], ['Thriller', 'Horror'], ['Romance', 'Dramas'], ['Comedies', 'Fantasy'], ['Sci-fi', 'Documentaries'], ['Sci-fi', 'Documentaries'], ['Romance', 'Dramas'], ['Romance', 'Dramas'], ['Thriller', 'Horror'], ['Romance', 'Dramas'], ['Romance', 'Dramas'], ['Romance', 'Dramas'], ['Thriller', 'Horror'], ['Romance', 'Dramas'], ['Thriller', 'Horror'], ['Thriller', 'Horror'], ['Comedies', 'Fantasy'], ['Thriller', 'Horror'], ['Romance', 'Dramas'], ['Thriller', 'Horror'], ['Action', 'Crime'], ['Sci-fi', 'Documentaries'], ['Romance', 'Dramas'], ['Romance', 'Dramas'], ['Romance', 'Dramas'], ['Sci-fi', 'Documentaries'], ['Thriller', 'Horror'], ['Comedies', 'Fantasy'], ['Romance', 'Dramas'], ['Thriller', 'Horror'], ['Romance', 'Dramas'], ['Thriller', 'Horror'], ['Thriller', 'Horror'], ['Romance', 'Dramas'], ['Comedies', 'Fantasy'], ['Action', 'Crime'], ['Action', 'Crime'], ['Thriller', 'Horror'], ['Thriller', 'Horror'], ['Romance', 'Dramas'], ['Thriller', 'Horror'], ['Comedies', 'Fantasy'], ['Romance', 'Dramas'], ['Comedies', 'Fantasy'], ['Romance', 'Dramas'], ['Romance', 'Dramas'], ['Action', 'Crime'], ['Romance', 'Dramas'], ['Action', 'Crime'], ['Action', 'Crime'], ['Thriller', 'Horror'], ['Thriller', 'Horror'], ['Thriller', 'Horror'], ['Sci-fi', 'Documentaries'], ['Thriller', 'Horror'], ['Romance', 'Dramas'], ['Action', 'Crime'], ['Thriller', 'Horror'], ['Thriller', 'Horror'], ['Romance', 'Dramas'], ['Action', 'Crime'], ['Comedies', 'Fantasy'], ['Action', 'Crime'], ['Thriller', 'Horror'], ['Thriller', 'Horror'], ['Action', 'Crime'], ['Comedies', 'Fantasy'], ['Thriller', 'Horror'], ['Action', 'Crime'], ['Romance', 'Dramas'], ['Romance', 'Dramas'], ['Comedies', 'Fantasy'], ['Comedies', 'Fantasy'], ['Thriller', 'Horror'], ['Romance', 'Dramas'], ['Romance', 'Dramas'], ['Thriller', 'Horror'], ['Romance', 'Dramas'], ['Comedies', 'Fantasy'], ['Romance', 'Dramas'], ['Romance', 'Dramas'], ['Thriller', 'Horror'], ['Thriller', 'Horror'], ['Action', 'Crime'], ['Action', 'Crime'], ['Comedies', 'Fantasy'], ['Romance', 'Dramas'], ['Sci-fi', 'Documentaries'], ['Romance', 'Dramas'], ['Action', 'Crime'], ['Sci-fi', 'Documentaries'], ['Thriller', 'Horror'], ['Romance', 'Dramas'], ['Action', 'Crime'], ['Romance', 'Dramas'], ['Romance', 'Dramas'], ['Thriller', 'Horror'], ['Romance', 'Dramas'], ['Sci-fi', 'Documentaries'], ['Romance', 'Dramas'], ['Comedies', 'Fantasy'], ['Romance', 'Dramas'], ['Action', 'Crime'], ['Thriller', 'Horror'], ['Thriller', 'Horror'], ['Sci-fi', 'Documentaries'], ['Sci-fi', 'Documentaries'], ['Romance', 'Dramas'], ['Action', 'Crime'], ['Action', 'Crime'], ['Comedies', 'Fantasy'], ['Comedies', 'Fantasy'], ['Comedies', 'Fantasy'], ['Romance', 'Dramas'], ['Sci-fi', 'Documentaries'], ['Romance', 'Dramas'], ['Thriller', 'Horror'], ['Action', 'Crime'], ['Sci-fi', 'Documentaries'], ['Sci-fi', 'Documentaries'], ['Romance', 'Dramas'], ['Comedies', 'Fantasy'], ['Romance', 'Dramas'], ['Romance', 'Dramas'], ['Action', 'Crime'], ['Comedies', 'Fantasy'], ['Sci-fi', 'Documentaries'], ['Thriller', 'Horror'], ['Action', 'Crime'], ['Comedies', 'Fantasy'], ['Thriller', 'Horror'], ['Action', 'Crime'], ['Romance', 'Dramas'], ['Thriller', 'Horror'], ['Sci-fi', 'Documentaries'], ['Thriller', 'Horror'], ['Sci-fi', 'Documentaries'], ['Romance', 'Dramas'], ['Sci-fi', 'Documentaries'], ['Action', 'Crime'], ['Romance', 'Dramas'], ['Romance', 'Dramas'], ['Romance', 'Dramas'], ['Romance', 'Dramas'], ['Thriller', 'Horror'], ['Thriller', 'Horror'], ['Thriller', 'Horror'], ['Romance', 'Dramas'], ['Romance', 'Dramas'], ['Comedies', 'Fantasy'], ['Romance', 'Dramas'], ['Romance', 'Dramas'], ['Thriller', 'Horror'], ['Action', 'Crime'], ['Thriller', 'Horror'], ['Comedies', 'Fantasy'], ['Thriller', 'Horror'], ['Romance', 'Dramas'], ['Thriller', 'Horror'], ['Comedies', 'Fantasy'], ['Comedies', 'Fantasy'], ['Sci-fi', 'Documentaries'], ['Romance', 'Dramas'], ['Comedies', 'Fantasy'], ['Action', 'Crime'], ['Romance', 'Dramas'], ['Thriller', 'Horror'], ['Romance', 'Dramas'], ['Action', 'Crime'], ['Romance', 'Dramas'], ['Thriller', 'Horror'], ['Comedies', 'Fantasy'], ['Action', 'Crime'], ['Romance', 'Dramas'], ['Romance', 'Dramas'], ['Sci-fi', 'Documentaries'], ['Romance', 'Dramas'], ['Romance', 'Dramas'], ['Comedies', 'Fantasy'], ['Action', 'Crime'], ['Comedies', 'Fantasy'], ['Thriller', 'Horror'], ['Romance', 'Dramas'], ['Romance', 'Dramas'], ['Romance', 'Dramas'], ['Romance', 'Dramas'], ['Sci-fi', 'Documentaries'], ['Sci-fi', 'Documentaries'], ['Thriller', 'Horror'], ['Thriller', 'Horror'], ['Romance', 'Dramas'], ['Action', 'Crime'], ['Action', 'Crime'], ['Romance', 'Dramas'], ['Comedies', 'Fantasy'], ['Romance', 'Dramas'], ['Sci-fi', 'Documentaries'], ['Sci-fi', 'Documentaries'], ['Action', 'Crime'], ['Sci-fi', 'Documentaries'], ['Thriller', 'Horror'], ['Romance', 'Dramas'], ['Thriller', 'Horror'], ['Romance', 'Dramas'], ['Action', 'Crime'], ['Thriller', 'Horror'], ['Thriller', 'Horror'], ['Comedies', 'Fantasy'], ['Thriller', 'Horror'], ['Thriller', 'Horror'], ['Romance', 'Dramas'], ['Sci-fi', 'Documentaries'], ['Sci-fi', 'Documentaries'], ['Comedies', 'Fantasy'], ['Sci-fi', 'Documentaries'], ['Action', 'Crime'], ['Romance', 'Dramas'], ['Romance', 'Dramas'], ['Comedies', 'Fantasy'], ['Romance', 'Dramas'], ['Romance', 'Dramas'], ['Thriller', 'Horror'], ['Romance', 'Dramas'], ['Comedies', 'Fantasy'], ['Sci-fi', 'Documentaries'], ['Action', 'Crime'], ['Romance', 'Dramas'], ['Romance', 'Dramas'], ['Action', 'Crime'], ['Action', 'Crime'], ['Comedies', 'Fantasy'], ['Sci-fi', 'Documentaries'], ['Sci-fi', 'Documentaries'], ['Thriller', 'Horror'], ['Thriller', 'Horror'], ['Action', 'Crime'], ['Thriller', 'Horror'], ['Sci-fi', 'Documentaries'], ['Sci-fi', 'Documentaries'], ['Romance', 'Dramas'], ['Thriller', 'Horror'], ['Action', 'Crime'], ['Thriller', 'Horror'], ['Romance', 'Dramas'], ['Thriller', 'Horror'], ['Romance', 'Dramas'], ['Thriller', 'Horror'], ['Comedies', 'Fantasy'], ['Thriller', 'Horror'], ['Thriller', 'Horror'], ['Thriller', 'Horror'], ['Romance', 'Dramas'], ['Romance', 'Dramas'], ['Thriller', 'Horror'], ['Comedies', 'Fantasy'], ['Sci-fi', 'Documentaries'], ['Romance', 'Dramas'], ['Action', 'Crime'], ['Sci-fi', 'Documentaries'], ['Action', 'Crime'], ['Comedies', 'Fantasy'], ['Thriller', 'Horror'], ['Thriller', 'Horror'], ['Sci-fi', 'Documentaries'], ['Thriller', 'Horror'], ['Thriller', 'Horror'], ['Action', 'Crime'], ['Comedies', 'Fantasy'], ['Comedies', 'Fantasy'], ['Action', 'Crime'], ['Thriller', 'Horror'], ['Comedies', 'Fantasy'], ['Action', 'Crime'], ['Comedies', 'Fantasy'], ['Thriller', 'Horror'], ['Romance', 'Dramas'], ['Romance', 'Dramas'], ['Thriller', 'Horror'], ['Comedies', 'Fantasy'], ['Comedies', 'Fantasy'], ['Romance', 'Dramas'], ['Romance', 'Dramas'], ['Romance', 'Dramas'], ['Comedies', 'Fantasy'], ['Romance', 'Dramas'], ['Romance', 'Dramas'], ['Thriller', 'Horror'], ['Action', 'Crime'], ['Action', 'Crime'], ['Comedies', 'Fantasy'], ['Comedies', 'Fantasy'], ['Comedies', 'Fantasy'], ['Comedies', 'Fantasy'], ['Romance', 'Dramas'], ['Comedies', 'Fantasy'], ['Thriller', 'Horror'], ['Comedies', 'Fantasy'], ['Comedies', 'Fantasy'], ['Action', 'Crime'], ['Thriller', 'Horror'], ['Thriller', 'Horror'], ['Thriller', 'Horror'], ['Sci-fi', 'Documentaries'], ['Comedies', 'Fantasy'], ['Comedies', 'Fantasy'], ['Romance', 'Dramas'], ['Sci-fi', 'Documentaries'], ['Romance', 'Dramas'], ['Sci-fi', 'Documentaries'], ['Action', 'Crime'], ['Comedies', 'Fantasy'], ['Sci-fi', 'Documentaries'], ['Romance', 'Dramas'], ['Thriller', 'Horror'], ['Comedies', 'Fantasy'], ['Comedies', 'Fantasy'], ['Romance', 'Dramas'], ['Sci-fi', 'Documentaries'], ['Sci-fi', 'Documentaries'], ['Romance', 'Dramas'], ['Romance', 'Dramas'], ['Comedies', 'Fantasy'], ['Comedies', 'Fantasy'], ['Romance', 'Dramas'], ['Thriller', 'Horror'], ['Thriller', 'Horror'], ['Action', 'Crime'], ['Comedies', 'Fantasy'], ['Romance', 'Dramas'], ['Thriller', 'Horror'], ['Thriller', 'Horror'], ['Sci-fi', 'Documentaries'], ['Thriller', 'Horror'], ['Comedies', 'Fantasy'], ['Action', 'Crime'], ['Action', 'Crime'], ['Thriller', 'Horror'], ['Romance', 'Dramas'], ['Action', 'Crime'], ['Thriller', 'Horror'], ['Action', 'Crime'], ['Thriller', 'Horror'], ['Action', 'Crime'], ['Thriller', 'Horror'], ['Romance', 'Dramas'], ['Sci-fi', 'Documentaries'], ['Comedies', 'Fantasy'], ['Romance', 'Dramas'], ['Action', 'Crime'], ['Action', 'Crime'], ['Action', 'Crime'], ['Romance', 'Dramas'], ['Sci-fi', 'Documentaries'], ['Thriller', 'Horror'], ['Sci-fi', 'Documentaries'], ['Sci-fi', 'Documentaries'], ['Romance', 'Dramas'], ['Romance', 'Dramas'], ['Romance', 'Dramas'], ['Sci-fi', 'Documentaries'], ['Thriller', 'Horror'], ['Sci-fi', 'Documentaries'], ['Romance', 'Dramas'], ['Comedies', 'Fantasy'], ['Thriller', 'Horror'], ['Thriller', 'Horror'], ['Romance', 'Dramas'], ['Action', 'Crime'], ['Romance', 'Dramas'], ['Comedies', 'Fantasy'], ['Romance', 'Dramas'], ['Action', 'Crime'], ['Action', 'Crime'], ['Thriller', 'Horror'], ['Action', 'Crime'], ['Thriller', 'Horror'], ['Romance', 'Dramas'], ['Romance', 'Dramas'], ['Romance', 'Dramas'], ['Sci-fi', 'Documentaries'], ['Romance', 'Dramas'], ['Action', 'Crime'], ['Sci-fi', 'Documentaries'], ['Comedies', 'Fantasy'], ['Sci-fi', 'Documentaries'], ['Thriller', 'Horror'], ['Comedies', 'Fantasy'], ['Comedies', 'Fantasy'], ['Sci-fi', 'Documentaries'], ['Romance', 'Dramas'], ['Action', 'Crime'], ['Comedies', 'Fantasy'], ['Comedies', 'Fantasy'], ['Action', 'Crime'], ['Action', 'Crime'], ['Thriller', 'Horror'], ['Sci-fi', 'Documentaries'], ['Romance', 'Dramas'], ['Action', 'Crime'], ['Thriller', 'Horror'], ['Comedies', 'Fantasy'], ['Action', 'Crime'], ['Action', 'Crime'], ['Action', 'Crime'], ['Comedies', 'Fantasy'], ['Sci-fi', 'Documentaries'], ['Thriller', 'Horror'], ['Comedies', 'Fantasy'], ['Thriller', 'Horror'], ['Sci-fi', 'Documentaries'], ['Romance', 'Dramas'], ['Thriller', 'Horror'], ['Sci-fi', 'Documentaries'], ['Thriller', 'Horror'], ['Thriller', 'Horror'], ['Action', 'Crime'], ['Comedies', 'Fantasy'], ['Thriller', 'Horror'], ['Romance', 'Dramas'], ['Action', 'Crime'], ['Action', 'Crime'], ['Sci-fi', 'Documentaries'], ['Action', 'Crime'], ['Action', 'Crime'], ['Romance', 'Dramas'], ['Action', 'Crime'], ['Thriller', 'Horror'], ['Thriller', 'Horror'], ['Comedies', 'Fantasy'], ['Romance', 'Dramas'], ['Thriller', 'Horror'], ['Comedies', 'Fantasy'], ['Sci-fi', 'Documentaries'], ['Romance', 'Dramas'], ['Action', 'Crime'], ['Thriller', 'Horror'], ['Comedies', 'Fantasy'], ['Thriller', 'Horror'], ['Romance', 'Dramas'], ['Romance', 'Dramas'], ['Thriller', 'Horror'], ['Sci-fi', 'Documentaries'], ['Comedies', 'Fantasy'], ['Romance', 'Dramas'], ['Sci-fi', 'Documentaries'], ['Comedies', 'Fantasy'], ['Comedies', 'Fantasy'], ['Action', 'Crime'], ['Sci-fi', 'Documentaries'], ['Romance', 'Dramas'], ['Comedies', 'Fantasy'], ['Thriller', 'Horror'], ['Sci-fi', 'Documentaries'], ['Thriller', 'Horror'], ['Thriller', 'Horror'], ['Action', 'Crime'], ['Thriller', 'Horror'], ['Action', 'Crime'], ['Sci-fi', 'Documentaries'], ['Action', 'Crime'], ['Comedies', 'Fantasy'], ['Sci-fi', 'Documentaries'], ['Thriller', 'Horror'], ['Thriller', 'Horror'], ['Sci-fi', 'Documentaries'], ['Comedies', 'Fantasy'], ['Sci-fi', 'Documentaries'], ['Action', 'Crime'], ['Action', 'Crime'], ['Romance', 'Dramas'], ['Romance', 'Dramas'], ['Action', 'Crime'], ['Romance', 'Dramas'], ['Comedies', 'Fantasy'], ['Sci-fi', 'Documentaries'], ['Romance', 'Dramas'], ['Thriller', 'Horror'], ['Thriller', 'Horror'], ['Thriller', 'Horror'], ['Action', 'Crime'], ['Thriller', 'Horror'], ['Thriller', 'Horror'], ['Thriller', 'Horror'], ['Romance', 'Dramas'], ['Romance', 'Dramas'], ['Romance', 'Dramas'], ['Sci-fi', 'Documentaries'], ['Sci-fi', 'Documentaries'], ['Romance', 'Dramas'], ['Thriller', 'Horror'], ['Thriller', 'Horror'], ['Thriller', 'Horror'], ['Action', 'Crime'], ['Romance', 'Dramas'], ['Sci-fi', 'Documentaries'], ['Sci-fi', 'Documentaries'], ['Romance', 'Dramas'], ['Romance', 'Dramas'], ['Sci-fi', 'Documentaries'], ['Thriller', 'Horror'], ['Comedies', 'Fantasy'], ['Action', 'Crime'], ['Romance', 'Dramas'], ['Romance', 'Dramas'], ['Romance', 'Dramas'], ['Romance', 'Dramas'], ['Comedies', 'Fantasy'], ['Romance', 'Dramas'], ['Romance', 'Dramas'], ['Sci-fi', 'Documentaries'], ['Action', 'Crime'], ['Comedies', 'Fantasy'], ['Action', 'Crime'], ['Romance', 'Dramas'], ['Sci-fi', 'Documentaries'], ['Comedies', 'Fantasy'], ['Romance', 'Dramas'], ['Action', 'Crime'], ['Action', 'Crime'], ['Thriller', 'Horror'], ['Thriller', 'Horror'], ['Romance', 'Dramas'], ['Sci-fi', 'Documentaries'], ['Romance', 'Dramas'], ['Sci-fi', 'Documentaries'], ['Action', 'Crime'], ['Romance', 'Dramas'], ['Romance', 'Dramas'], ['Comedies', 'Fantasy'], ['Romance', 'Dramas'], ['Comedies', 'Fantasy'], ['Romance', 'Dramas'], ['Action', 'Crime'], ['Romance', 'Dramas'], ['Thriller', 'Horror'], ['Thriller', 'Horror'], ['Romance', 'Dramas'], ['Thriller', 'Horror'], ['Thriller', 'Horror'], ['Thriller', 'Horror'], ['Sci-fi', 'Documentaries'], ['Romance', 'Dramas'], ['Action', 'Crime'], ['Comedies', 'Fantasy'], ['Sci-fi', 'Documentaries'], ['Thriller', 'Horror'], ['Action', 'Crime'], ['Comedies', 'Fantasy'], ['Romance', 'Dramas'], ['Comedies', 'Fantasy'], ['Comedies', 'Fantasy'], ['Thriller', 'Horror'], ['Thriller', 'Horror'], ['Sci-fi', 'Documentaries'], ['Romance', 'Dramas'], ['Action', 'Crime'], ['Comedies', 'Fantasy'], ['Thriller', 'Horror'], ['Thriller', 'Horror'], ['Thriller', 'Horror'], ['Thriller', 'Horror'], ['Romance', 'Dramas'], ['Comedies', 'Fantasy'], ['Thriller', 'Horror'], ['Romance', 'Dramas'], ['Romance', 'Dramas'], ['Action', 'Crime'], ['Action', 'Crime'], ['Action', 'Crime'], ['Comedies', 'Fantasy'], ['Action', 'Crime'], ['Romance', 'Dramas'], ['Romance', 'Dramas'], ['Action', 'Crime'], ['Romance', 'Dramas'], ['Sci-fi', 'Documentaries'], ['Romance', 'Dramas'], ['Comedies', 'Fantasy'], ['Action', 'Crime'], ['Action', 'Crime'], ['Thriller', 'Horror'], ['Action', 'Crime'], ['Action', 'Crime'], ['Romance', 'Dramas'], ['Comedies', 'Fantasy'], ['Thriller', 'Horror'], ['Thriller', 'Horror'], ['Action', 'Crime'], ['Comedies', 'Fantasy'], ['Thriller', 'Horror'], ['Comedies', 'Fantasy'], ['Romance', 'Dramas'], ['Thriller', 'Horror'], ['Action', 'Crime'], ['Sci-fi', 'Documentaries'], ['Sci-fi', 'Documentaries'], ['Thriller', 'Horror'], ['Thriller', 'Horror'], ['Comedies', 'Fantasy'], ['Action', 'Crime'], ['Romance', 'Dramas'], ['Romance', 'Dramas'], ['Romance', 'Dramas'], ['Thriller', 'Horror'], ['Comedies', 'Fantasy'], ['Romance', 'Dramas'], ['Romance', 'Dramas'], ['Action', 'Crime'], ['Comedies', 'Fantasy'], ['Thriller', 'Horror'], ['Thriller', 'Horror'], ['Thriller', 'Horror'], ['Sci-fi', 'Documentaries'], ['Romance', 'Dramas'], ['Sci-fi', 'Documentaries'], ['Sci-fi', 'Documentaries'], ['Action', 'Crime'], ['Thriller', 'Horror'], ['Comedies', 'Fantasy'], ['Thriller', 'Horror'], ['Sci-fi', 'Documentaries'], ['Romance', 'Dramas'], ['Action', 'Crime'], ['Thriller', 'Horror'], ['Romance', 'Dramas'], ['Romance', 'Dramas'], ['Comedies', 'Fantasy'], ['Action', 'Crime'], ['Romance', 'Dramas'], ['Sci-fi', 'Documentaries'], ['Action', 'Crime'], ['Romance', 'Dramas'], ['Sci-fi', 'Documentaries'], ['Romance', 'Dramas'], ['Comedies', 'Fantasy'], ['Thriller', 'Horror'], ['Action', 'Crime'], ['Romance', 'Dramas'], ['Romance', 'Dramas'], ['Comedies', 'Fantasy'], ['Action', 'Crime'], ['Thriller', 'Horror'], ['Action', 'Crime'], ['Thriller', 'Horror'], ['Comedies', 'Fantasy'], ['Romance', 'Dramas'], ['Romance', 'Dramas'], ['Action', 'Crime'], ['Thriller', 'Horror'], ['Thriller', 'Horror'], ['Romance', 'Dramas'], ['Thriller', 'Horror'], ['Romance', 'Dramas'], ['Thriller', 'Horror'], ['Thriller', 'Horror'], ['Romance', 'Dramas'], ['Romance', 'Dramas'], ['Thriller', 'Horror'], ['Romance', 'Dramas'], ['Action', 'Crime'], ['Comedies', 'Fantasy'], ['Romance', 'Dramas'], ['Romance', 'Dramas'], ['Romance', 'Dramas'], ['Thriller', 'Horror'], ['Sci-fi', 'Documentaries'], ['Sci-fi', 'Documentaries'], ['Thriller', 'Horror'], ['Thriller', 'Horror'], ['Romance', 'Dramas'], ['Action', 'Crime'], ['Thriller', 'Horror'], ['Thriller', 'Horror'], ['Action', 'Crime'], ['Comedies', 'Fantasy'], ['Thriller', 'Horror'], ['Comedies', 'Fantasy'], ['Thriller', 'Horror'], ['Thriller', 'Horror'], ['Thriller', 'Horror'], ['Romance', 'Dramas'], ['Thriller', 'Horror'], ['Thriller', 'Horror'], ['Thriller', 'Horror'], ['Action', 'Crime'], ['Thriller', 'Horror'], ['Sci-fi', 'Documentaries'], ['Action', 'Crime'], ['Thriller', 'Horror'], ['Thriller', 'Horror'], ['Thriller', 'Horror'], ['Comedies', 'Fantasy'], ['Action', 'Crime'], ['Romance', 'Dramas'], ['Action', 'Crime'], ['Romance', 'Dramas'], ['Sci-fi', 'Documentaries'], ['Thriller', 'Horror'], ['Comedies', 'Fantasy'], ['Comedies', 'Fantasy'], ['Comedies', 'Fantasy'], ['Comedies', 'Fantasy'], ['Comedies', 'Fantasy'], ['Romance', 'Dramas'], ['Romance', 'Dramas'], ['Thriller', 'Horror'], ['Action', 'Crime'], ['Romance', 'Dramas'], ['Romance', 'Dramas'], ['Romance', 'Dramas'], ['Romance', 'Dramas'], ['Comedies', 'Fantasy'], ['Sci-fi', 'Documentaries'], ['Romance', 'Dramas'], ['Action', 'Crime'], ['Romance', 'Dramas'], ['Thriller', 'Horror'], ['Thriller', 'Horror'], ['Comedies', 'Fantasy'], ['Comedies', 'Fantasy'], ['Sci-fi', 'Documentaries'], ['Comedies', 'Fantasy'], ['Thriller', 'Horror'], ['Comedies', 'Fantasy'], ['Thriller', 'Horror'], ['Romance', 'Dramas'], ['Sci-fi', 'Documentaries'], ['Romance', 'Dramas'], ['Comedies', 'Fantasy'], ['Thriller', 'Horror'], ['Action', 'Crime'], ['Sci-fi', 'Documentaries'], ['Romance', 'Dramas'], ['Romance', 'Dramas'], ['Comedies', 'Fantasy'], ['Romance', 'Dramas'], ['Sci-fi', 'Documentaries'], ['Romance', 'Dramas'], ['Thriller', 'Horror'], ['Comedies', 'Fantasy'], ['Comedies', 'Fantasy'], ['Comedies', 'Fantasy'], ['Action', 'Crime'], ['Thriller', 'Horror'], ['Romance', 'Dramas'], ['Action', 'Crime'], ['Action', 'Crime'], ['Thriller', 'Horror'], ['Thriller', 'Horror'], ['Romance', 'Dramas'], ['Romance', 'Dramas'], ['Romance', 'Dramas'], ['Sci-fi', 'Documentaries'], ['Action', 'Crime'], ['Comedies', 'Fantasy'], ['Comedies', 'Fantasy'], ['Thriller', 'Horror'], ['Romance', 'Dramas'], ['Action', 'Crime'], ['Romance', 'Dramas'], ['Thriller', 'Horror'], ['Romance', 'Dramas'], ['Action', 'Crime'], ['Thriller', 'Horror'], ['Comedies', 'Fantasy'], ['Sci-fi', 'Documentaries'], ['Sci-fi', 'Documentaries'], ['Comedies', 'Fantasy'], ['Sci-fi', 'Documentaries'], ['Sci-fi', 'Documentaries'], ['Comedies', 'Fantasy'], ['Romance', 'Dramas'], ['Comedies', 'Fantasy'], ['Romance', 'Dramas'], ['Romance', 'Dramas'], ['Comedies', 'Fantasy'], ['Sci-fi', 'Documentaries'], ['Romance', 'Dramas'], ['Comedies', 'Fantasy'], ['Romance', 'Dramas'], ['Thriller', 'Horror'], ['Comedies', 'Fantasy'], ['Thriller', 'Horror'], ['Thriller', 'Horror'], ['Sci-fi', 'Documentaries'], ['Action', 'Crime'], ['Romance', 'Dramas'], ['Action', 'Crime'], ['Romance', 'Dramas'], ['Thriller', 'Horror'], ['Comedies', 'Fantasy'], ['Romance', 'Dramas'], ['Comedies', 'Fantasy'], ['Romance', 'Dramas'], ['Action', 'Crime'], ['Comedies', 'Fantasy'], ['Thriller', 'Horror'], ['Romance', 'Dramas'], ['Thriller', 'Horror'], ['Thriller', 'Horror'], ['Romance', 'Dramas'], ['Comedies', 'Fantasy'], ['Thriller', 'Horror'], ['Romance', 'Dramas'], ['Action', 'Crime'], ['Action', 'Crime'], ['Romance', 'Dramas'], ['Action', 'Crime'], ['Action', 'Crime'], ['Action', 'Crime'], ['Action', 'Crime'], ['Thriller', 'Horror'], ['Romance', 'Dramas'], ['Romance', 'Dramas'], ['Comedies', 'Fantasy'], ['Sci-fi', 'Documentaries'], ['Romance', 'Dramas'], ['Comedies', 'Fantasy'], ['Thriller', 'Horror'], ['Romance', 'Dramas'], ['Thriller', 'Horror'], ['Thriller', 'Horror'], ['Action', 'Crime'], ['Action', 'Crime'], ['Romance', 'Dramas'], ['Romance', 'Dramas'], ['Romance', 'Dramas'], ['Thriller', 'Horror'], ['Sci-fi', 'Documentaries'], ['Comedies', 'Fantasy'], ['Thriller', 'Horror'], ['Sci-fi', 'Documentaries'], ['Romance', 'Dramas'], ['Action', 'Crime'], ['Romance', 'Dramas'], ['Comedies', 'Fantasy'], ['Romance', 'Dramas'], ['Romance', 'Dramas'], ['Sci-fi', 'Documentaries'], ['Comedies', 'Fantasy'], ['Action', 'Crime'], ['Romance', 'Dramas'], ['Romance', 'Dramas'], ['Romance', 'Dramas'], ['Comedies', 'Fantasy'], ['Romance', 'Dramas'], ['Action', 'Crime'], ['Comedies', 'Fantasy'], ['Sci-fi', 'Documentaries'], ['Comedies', 'Fantasy'], ['Romance', 'Dramas'], ['Romance', 'Dramas'], ['Romance', 'Dramas'], ['Romance', 'Dramas'], ['Action', 'Crime'], ['Thriller', 'Horror'], ['Action', 'Crime'], ['Thriller', 'Horror'], ['Sci-fi', 'Documentaries'], ['Action', 'Crime'], ['Action', 'Crime'], ['Sci-fi', 'Documentaries'], ['Thriller', 'Horror'], ['Thriller', 'Horror'], ['Romance', 'Dramas'], ['Romance', 'Dramas'], ['Action', 'Crime'], ['Thriller', 'Horror'], ['Comedies', 'Fantasy'], ['Action', 'Crime'], ['Action', 'Crime'], ['Comedies', 'Fantasy'], ['Thriller', 'Horror'], ['Sci-fi', 'Documentaries'], ['Sci-fi', 'Documentaries'], ['Thriller', 'Horror'], ['Thriller', 'Horror'], ['Romance', 'Dramas'], ['Thriller', 'Horror'], ['Comedies', 'Fantasy'], ['Sci-fi', 'Documentaries'], ['Romance', 'Dramas'], ['Action', 'Crime'], ['Thriller', 'Horror'], ['Action', 'Crime'], ['Comedies', 'Fantasy'], ['Thriller', 'Horror'], ['Romance', 'Dramas'], ['Action', 'Crime'], ['Action', 'Crime'], ['Action', 'Crime'], ['Thriller', 'Horror'], ['Action', 'Crime'], ['Action', 'Crime'], ['Action', 'Crime'], ['Thriller', 'Horror'], ['Thriller', 'Horror'], ['Romance', 'Dramas'], ['Sci-fi', 'Documentaries'], ['Romance', 'Dramas'], ['Comedies', 'Fantasy'], ['Action', 'Crime'], ['Action', 'Crime'], ['Thriller', 'Horror'], ['Thriller', 'Horror'], ['Action', 'Crime'], ['Sci-fi', 'Documentaries'], ['Sci-fi', 'Documentaries'], ['Comedies', 'Fantasy'], ['Romance', 'Dramas'], ['Comedies', 'Fantasy'], ['Romance', 'Dramas'], ['Romance', 'Dramas'], ['Romance', 'Dramas'], ['Romance', 'Dramas'], ['Comedies', 'Fantasy'], ['Romance', 'Dramas'], ['Thriller', 'Horror'], ['Romance', 'Dramas'], ['Thriller', 'Horror'], ['Comedies', 'Fantasy'], ['Thriller', 'Horror'], ['Action', 'Crime'], ['Action', 'Crime'], ['Action', 'Crime'], ['Romance', 'Dramas'], ['Thriller', 'Horror'], ['Sci-fi', 'Documentaries'], ['Action', 'Crime'], ['Comedies', 'Fantasy'], ['Action', 'Crime'], ['Thriller', 'Horror'], ['Comedies', 'Fantasy'], ['Thriller', 'Horror'], ['Thriller', 'Horror'], ['Thriller', 'Horror'], ['Comedies', 'Fantasy'], ['Thriller', 'Horror'], ['Comedies', 'Fantasy'], ['Thriller', 'Horror'], ['Romance', 'Dramas'], ['Thriller', 'Horror'], ['Comedies', 'Fantasy'], ['Thriller', 'Horror'], ['Sci-fi', 'Documentaries'], ['Romance', 'Dramas'], ['Action', 'Crime'], ['Thriller', 'Horror'], ['Sci-fi', 'Documentaries'], ['Sci-fi', 'Documentaries'], ['Action', 'Crime'], ['Romance', 'Dramas'], ['Thriller', 'Horror'], ['Thriller', 'Horror'], ['Thriller', 'Horror'], ['Sci-fi', 'Documentaries'], ['Thriller', 'Horror'], ['Comedies', 'Fantasy'], ['Romance', 'Dramas'], ['Comedies', 'Fantasy'], ['Comedies', 'Fantasy'], ['Comedies', 'Fantasy'], ['Thriller', 'Horror'], ['Sci-fi', 'Documentaries'], ['Comedies', 'Fantasy'], ['Action', 'Crime'], ['Romance', 'Dramas'], ['Comedies', 'Fantasy'], ['Action', 'Crime'], ['Action', 'Crime'], ['Romance', 'Dramas'], ['Action', 'Crime'], ['Romance', 'Dramas'], ['Action', 'Crime'], ['Thriller', 'Horror'], ['Romance', 'Dramas'], ['Comedies', 'Fantasy'], ['Romance', 'Dramas'], ['Action', 'Crime'], ['Action', 'Crime'], ['Comedies', 'Fantasy'], ['Comedies', 'Fantasy'], ['Thriller', 'Horror'], ['Romance', 'Dramas'], ['Action', 'Crime'], ['Romance', 'Dramas'], ['Romance', 'Dramas'], ['Comedies', 'Fantasy'], ['Romance', 'Dramas'], ['Romance', 'Dramas'], ['Comedies', 'Fantasy'], ['Thriller', 'Horror'], ['Romance', 'Dramas'], ['Sci-fi', 'Documentaries'], ['Sci-fi', 'Documentaries'], ['Sci-fi', 'Documentaries'], ['Thriller', 'Horror'], ['Sci-fi', 'Documentaries'], ['Sci-fi', 'Documentaries'], ['Thriller', 'Horror'], ['Comedies', 'Fantasy'], ['Thriller', 'Horror'], ['Action', 'Crime'], ['Romance', 'Dramas'], ['Comedies', 'Fantasy'], ['Action', 'Crime'], ['Comedies', 'Fantasy'], ['Action', 'Crime'], ['Thriller', 'Horror'], ['Sci-fi', 'Documentaries'], ['Thriller', 'Horror'], ['Thriller', 'Horror'], ['Thriller', 'Horror'], ['Thriller', 'Horror'], ['Thriller', 'Horror'], ['Action', 'Crime'], ['Comedies', 'Fantasy'], ['Comedies', 'Fantasy'], ['Thriller', 'Horror'], ['Action', 'Crime'], ['Action', 'Crime'], ['Action', 'Crime'], ['Romance', 'Dramas'], ['Comedies', 'Fantasy'], ['Action', 'Crime'], ['Sci-fi', 'Documentaries'], ['Romance', 'Dramas'], ['Thriller', 'Horror'], ['Romance', 'Dramas'], ['Thriller', 'Horror'], ['Thriller', 'Horror'], ['Thriller', 'Horror'], ['Sci-fi', 'Documentaries'], ['Thriller', 'Horror'], ['Sci-fi', 'Documentaries'], ['Sci-fi', 'Documentaries'], ['Romance', 'Dramas'], ['Romance', 'Dramas'], ['Comedies', 'Fantasy'], ['Comedies', 'Fantasy'], ['Thriller', 'Horror'], ['Romance', 'Dramas'], ['Comedies', 'Fantasy'], ['Thriller', 'Horror'], ['Action', 'Crime'], ['Thriller', 'Horror'], ['Romance', 'Dramas'], ['Romance', 'Dramas'], ['Romance', 'Dramas'], ['Comedies', 'Fantasy'], ['Thriller', 'Horror'], ['Sci-fi', 'Documentaries'], ['Action', 'Crime'], ['Sci-fi', 'Documentaries'], ['Comedies', 'Fantasy'], ['Thriller', 'Horror'], ['Thriller', 'Horror'], ['Thriller', 'Horror'], ['Action', 'Crime'], ['Thriller', 'Horror'], ['Action', 'Crime'], ['Comedies', 'Fantasy'], ['Sci-fi', 'Documentaries'], ['Thriller', 'Horror'], ['Sci-fi', 'Documentaries'], ['Thriller', 'Horror'], ['Romance', 'Dramas'], ['Thriller', 'Horror'], ['Thriller', 'Horror'], ['Thriller', 'Horror'], ['Action', 'Crime'], ['Romance', 'Dramas'], ['Sci-fi', 'Documentaries'], ['Romance', 'Dramas'], ['Action', 'Crime'], ['Thriller', 'Horror'], ['Romance', 'Dramas'], ['Romance', 'Dramas'], ['Romance', 'Dramas'], ['Thriller', 'Horror'], ['Sci-fi', 'Documentaries'], ['Romance', 'Dramas'], ['Romance', 'Dramas'], ['Action', 'Crime'], ['Sci-fi', 'Documentaries'], ['Romance', 'Dramas'], ['Romance', 'Dramas'], ['Comedies', 'Fantasy'], ['Romance', 'Dramas'], ['Romance', 'Dramas'], ['Romance', 'Dramas'], ['Romance', 'Dramas'], ['Romance', 'Dramas'], ['Sci-fi', 'Documentaries'], ['Romance', 'Dramas'], ['Romance', 'Dramas'], ['Sci-fi', 'Documentaries'], ['Romance', 'Dramas'], ['Sci-fi', 'Documentaries'], ['Comedies', 'Fantasy'], ['Romance', 'Dramas'], ['Romance', 'Dramas'], ['Thriller', 'Horror'], ['Action', 'Crime'], ['Romance', 'Dramas'], ['Romance', 'Dramas'], ['Thriller', 'Horror'], ['Romance', 'Dramas'], ['Thriller', 'Horror'], ['Sci-fi', 'Documentaries'], ['Romance', 'Dramas'], ['Thriller', 'Horror'], ['Action', 'Crime'], ['Romance', 'Dramas'], ['Romance', 'Dramas'], ['Comedies', 'Fantasy'], ['Romance', 'Dramas'], ['Comedies', 'Fantasy'], ['Romance', 'Dramas'], ['Sci-fi', 'Documentaries'], ['Thriller', 'Horror'], ['Romance', 'Dramas'], ['Action', 'Crime'], ['Action', 'Crime'], ['Thriller', 'Horror'], ['Action', 'Crime'], ['Romance', 'Dramas'], ['Action', 'Crime'], ['Romance', 'Dramas'], ['Action', 'Crime'], ['Thriller', 'Horror'], ['Thriller', 'Horror'], ['Thriller', 'Horror'], ['Sci-fi', 'Documentaries'], ['Romance', 'Dramas'], ['Action', 'Crime'], ['Sci-fi', 'Documentaries'], ['Sci-fi', 'Documentaries'], ['Romance', 'Dramas'], ['Thriller', 'Horror'], ['Thriller', 'Horror'], ['Comedies', 'Fantasy'], ['Romance', 'Dramas'], ['Sci-fi', 'Documentaries'], ['Action', 'Crime'], ['Romance', 'Dramas'], ['Comedies', 'Fantasy'], ['Action', 'Crime'], ['Sci-fi', 'Documentaries'], ['Action', 'Crime'], ['Romance', 'Dramas'], ['Thriller', 'Horror'], ['Thriller', 'Horror'], ['Sci-fi', 'Documentaries'], ['Thriller', 'Horror'], ['Romance', 'Dramas'], ['Thriller', 'Horror'], ['Action', 'Crime'], ['Romance', 'Dramas'], ['Thriller', 'Horror'], ['Romance', 'Dramas'], ['Romance', 'Dramas'], ['Sci-fi', 'Documentaries'], ['Thriller', 'Horror'], ['Romance', 'Dramas'], ['Thriller', 'Horror'], ['Romance', 'Dramas'], ['Thriller', 'Horror'], ['Action', 'Crime'], ['Romance', 'Dramas'], ['Thriller', 'Horror'], ['Comedies', 'Fantasy'], ['Sci-fi', 'Documentaries'], ['Romance', 'Dramas'], ['Romance', 'Dramas'], ['Romance', 'Dramas'], ['Action', 'Crime'], ['Romance', 'Dramas'], ['Thriller', 'Horror'], ['Comedies', 'Fantasy'], ['Thriller', 'Horror'], ['Action', 'Crime'], ['Sci-fi', 'Documentaries'], ['Sci-fi', 'Documentaries'], ['Romance', 'Dramas'], ['Romance', 'Dramas'], ['Action', 'Crime'], ['Romance', 'Dramas'], ['Sci-fi', 'Documentaries'], ['Action', 'Crime'], ['Action', 'Crime'], ['Action', 'Crime'], ['Thriller', 'Horror'], ['Romance', 'Dramas'], ['Thriller', 'Horror'], ['Thriller', 'Horror'], ['Comedies', 'Fantasy'], ['Thriller', 'Horror'], ['Thriller', 'Horror'], ['Thriller', 'Horror'], ['Comedies', 'Fantasy'], ['Comedies', 'Fantasy'], ['Sci-fi', 'Documentaries'], ['Action', 'Crime'], ['Romance', 'Dramas'], ['Comedies', 'Fantasy'], ['Thriller', 'Horror'], ['Thriller', 'Horror'], ['Action', 'Crime'], ['Thriller', 'Horror'], ['Romance', 'Dramas'], ['Romance', 'Dramas'], ['Action', 'Crime'], ['Action', 'Crime'], ['Sci-fi', 'Documentaries'], ['Romance', 'Dramas'], ['Comedies', 'Fantasy'], ['Comedies', 'Fantasy'], ['Thriller', 'Horror'], ['Comedies', 'Fantasy'], ['Romance', 'Dramas'], ['Sci-fi', 'Documentaries'], ['Comedies', 'Fantasy'], ['Romance', 'Dramas'], ['Thriller', 'Horror'], ['Sci-fi', 'Documentaries'], ['Thriller', 'Horror'], ['Sci-fi', 'Documentaries'], ['Sci-fi', 'Documentaries'], ['Thriller', 'Horror'], ['Romance', 'Dramas'], ['Romance', 'Dramas'], ['Action', 'Crime'], ['Comedies', 'Fantasy'], ['Romance', 'Dramas'], ['Romance', 'Dramas'], ['Romance', 'Dramas'], ['Sci-fi', 'Documentaries'], ['Romance', 'Dramas'], ['Sci-fi', 'Documentaries'], ['Romance', 'Dramas'], ['Action', 'Crime'], ['Comedies', 'Fantasy'], ['Action', 'Crime'], ['Romance', 'Dramas'], ['Sci-fi', 'Documentaries'], ['Sci-fi', 'Documentaries'], ['Thriller', 'Horror'], ['Thriller', 'Horror'], ['Thriller', 'Horror'], ['Sci-fi', 'Documentaries'], ['Sci-fi', 'Documentaries'], ['Action', 'Crime'], ['Romance', 'Dramas'], ['Romance', 'Dramas'], ['Action', 'Crime'], ['Thriller', 'Horror'], ['Thriller', 'Horror'], ['Romance', 'Dramas'], ['Comedies', 'Fantasy'], ['Action', 'Crime'], ['Romance', 'Dramas'], ['Comedies', 'Fantasy'], ['Romance', 'Dramas'], ['Romance', 'Dramas'], ['Romance', 'Dramas'], ['Sci-fi', 'Documentaries'], ['Comedies', 'Fantasy'], ['Action', 'Crime'], ['Thriller', 'Horror'], ['Action', 'Crime'], ['Sci-fi', 'Documentaries'], ['Action', 'Crime'], ['Thriller', 'Horror'], ['Thriller', 'Horror'], ['Romance', 'Dramas'], ['Action', 'Crime'], ['Comedies', 'Fantasy'], ['Action', 'Crime'], ['Sci-fi', 'Documentaries'], ['Comedies', 'Fantasy'], ['Action', 'Crime'], ['Comedies', 'Fantasy'], ['Romance', 'Dramas'], ['Action', 'Crime'], ['Thriller', 'Horror'], ['Action', 'Crime'], ['Thriller', 'Horror'], ['Comedies', 'Fantasy'], ['Comedies', 'Fantasy'], ['Romance', 'Dramas'], ['Thriller', 'Horror'], ['Thriller', 'Horror'], ['Romance', 'Dramas'], ['Comedies', 'Fantasy'], ['Thriller', 'Horror'], ['Romance', 'Dramas'], ['Sci-fi', 'Documentaries'], ['Thriller', 'Horror'], ['Thriller', 'Horror'], ['Thriller', 'Horror'], ['Sci-fi', 'Documentaries'], ['Comedies', 'Fantasy'], ['Thriller', 'Horror'], ['Comedies', 'Fantasy'], ['Action', 'Crime'], ['Action', 'Crime'], ['Romance', 'Dramas'], ['Thriller', 'Horror'], ['Romance', 'Dramas'], ['Comedies', 'Fantasy'], ['Action', 'Crime'], ['Action', 'Crime'], ['Comedies', 'Fantasy'], ['Comedies', 'Fantasy'], ['Thriller', 'Horror'], ['Sci-fi', 'Documentaries'], ['Thriller', 'Horror'], ['Thriller', 'Horror'], ['Action', 'Crime'], ['Action', 'Crime'], ['Romance', 'Dramas'], ['Action', 'Crime'], ['Action', 'Crime'], ['Thriller', 'Horror'], ['Thriller', 'Horror'], ['Action', 'Crime'], ['Action', 'Crime'], ['Thriller', 'Horror'], ['Thriller', 'Horror'], ['Thriller', 'Horror'], ['Sci-fi', 'Documentaries'], ['Thriller', 'Horror'], ['Romance', 'Dramas'], ['Thriller', 'Horror'], ['Thriller', 'Horror'], ['Action', 'Crime'], ['Romance', 'Dramas'], ['Romance', 'Dramas'], ['Thriller', 'Horror'], ['Thriller', 'Horror'], ['Comedies', 'Fantasy'], ['Action', 'Crime'], ['Comedies', 'Fantasy'], ['Thriller', 'Horror'], ['Thriller', 'Horror'], ['Sci-fi', 'Documentaries'], ['Thriller', 'Horror'], ['Romance', 'Dramas'], ['Thriller', 'Horror'], ['Thriller', 'Horror'], ['Action', 'Crime'], ['Action', 'Crime'], ['Thriller', 'Horror'], ['Action', 'Crime'], ['Romance', 'Dramas'], ['Action', 'Crime'], ['Thriller', 'Horror'], ['Action', 'Crime'], ['Thriller', 'Horror'], ['Romance', 'Dramas'], ['Thriller', 'Horror'], ['Romance', 'Dramas'], ['Sci-fi', 'Documentaries'], ['Comedies', 'Fantasy'], ['Sci-fi', 'Documentaries'], ['Romance', 'Dramas'], ['Thriller', 'Horror'], ['Comedies', 'Fantasy'], ['Thriller', 'Horror'], ['Action', 'Crime'], ['Sci-fi', 'Documentaries'], ['Sci-fi', 'Documentaries'], ['Comedies', 'Fantasy'], ['Thriller', 'Horror'], ['Comedies', 'Fantasy'], ['Comedies', 'Fantasy'], ['Thriller', 'Horror'], ['Sci-fi', 'Documentaries'], ['Romance', 'Dramas'], ['Sci-fi', 'Documentaries'], ['Action', 'Crime'], ['Thriller', 'Horror'], ['Action', 'Crime'], ['Thriller', 'Horror'], ['Romance', 'Dramas'], ['Action', 'Crime'], ['Action', 'Crime'], ['Comedies', 'Fantasy'], ['Thriller', 'Horror'], ['Comedies', 'Fantasy'], ['Romance', 'Dramas'], ['Romance', 'Dramas'], ['Comedies', 'Fantasy'], ['Comedies', 'Fantasy'], ['Comedies', 'Fantasy'], ['Comedies', 'Fantasy'], ['Sci-fi', 'Documentaries'], ['Comedies', 'Fantasy'], ['Romance', 'Dramas'], ['Comedies', 'Fantasy'], ['Sci-fi', 'Documentaries'], ['Comedies', 'Fantasy'], ['Action', 'Crime'], ['Comedies', 'Fantasy'], ['Action', 'Crime'], ['Sci-fi', 'Documentaries'], ['Action', 'Crime'], ['Thriller', 'Horror'], ['Action', 'Crime'], ['Action', 'Crime'], ['Action', 'Crime'], ['Comedies', 'Fantasy'], ['Action', 'Crime'], ['Comedies', 'Fantasy'], ['Thriller', 'Horror'], ['Thriller', 'Horror'], ['Comedies', 'Fantasy'], ['Action', 'Crime'], ['Thriller', 'Horror'], ['Thriller', 'Horror'], ['Romance', 'Dramas'], ['Thriller', 'Horror'], ['Action', 'Crime'], ['Sci-fi', 'Documentaries'], ['Comedies', 'Fantasy'], ['Sci-fi', 'Documentaries'], ['Action', 'Crime'], ['Comedies', 'Fantasy'], ['Action', 'Crime'], ['Thriller', 'Horror'], ['Sci-fi', 'Documentaries'], ['Romance', 'Dramas'], ['Romance', 'Dramas'], ['Thriller', 'Horror'], ['Action', 'Crime'], ['Action', 'Crime'], ['Thriller', 'Horror'], ['Romance', 'Dramas'], ['Romance', 'Dramas'], ['Romance', 'Dramas'], ['Thriller', 'Horror'], ['Comedies', 'Fantasy'], ['Romance', 'Dramas'], ['Action', 'Crime'], ['Thriller', 'Horror'], ['Action', 'Crime'], ['Romance', 'Dramas'], ['Action', 'Crime'], ['Romance', 'Dramas'], ['Comedies', 'Fantasy'], ['Comedies', 'Fantasy'], ['Romance', 'Dramas'], ['Romance', 'Dramas'], ['Romance', 'Dramas'], ['Thriller', 'Horror'], ['Romance', 'Dramas'], ['Comedies', 'Fantasy'], ['Action', 'Crime'], ['Thriller', 'Horror'], ['Sci-fi', 'Documentaries'], ['Action', 'Crime'], ['Action', 'Crime'], ['Sci-fi', 'Documentaries'], ['Romance', 'Dramas'], ['Thriller', 'Horror'], ['Action', 'Crime'], ['Comedies', 'Fantasy'], ['Thriller', 'Horror'], ['Action', 'Crime'], ['Romance', 'Dramas'], ['Romance', 'Dramas'], ['Romance', 'Dramas'], ['Sci-fi', 'Documentaries'], ['Comedies', 'Fantasy'], ['Action', 'Crime'], ['Thriller', 'Horror'], ['Comedies', 'Fantasy'], ['Sci-fi', 'Documentaries'], ['Comedies', 'Fantasy'], ['Romance', 'Dramas'], ['Sci-fi', 'Documentaries'], ['Thriller', 'Horror'], ['Thriller', 'Horror'], ['Romance', 'Dramas'], ['Comedies', 'Fantasy'], ['Action', 'Crime'], ['Thriller', 'Horror'], ['Comedies', 'Fantasy'], ['Romance', 'Dramas'], ['Romance', 'Dramas'], ['Comedies', 'Fantasy'], ['Action', 'Crime'], ['Romance', 'Dramas'], ['Romance', 'Dramas'], ['Romance', 'Dramas'], ['Romance', 'Dramas'], ['Comedies', 'Fantasy'], ['Thriller', 'Horror'], ['Comedies', 'Fantasy'], ['Sci-fi', 'Documentaries'], ['Action', 'Crime'], ['Comedies', 'Fantasy'], ['Action', 'Crime'], ['Thriller', 'Horror'], ['Romance', 'Dramas'], ['Thriller', 'Horror'], ['Romance', 'Dramas'], ['Romance', 'Dramas'], ['Thriller', 'Horror'], ['Thriller', 'Horror'], ['Romance', 'Dramas'], ['Action', 'Crime'], ['Romance', 'Dramas'], ['Comedies', 'Fantasy'], ['Action', 'Crime'], ['Thriller', 'Horror'], ['Thriller', 'Horror'], ['Thriller', 'Horror'], ['Action', 'Crime'], ['Thriller', 'Horror'], ['Romance', 'Dramas'], ['Thriller', 'Horror'], ['Comedies', 'Fantasy'], ['Thriller', 'Horror'], ['Romance', 'Dramas'], ['Romance', 'Dramas'], ['Thriller', 'Horror'], ['Thriller', 'Horror'], ['Thriller', 'Horror'], ['Thriller', 'Horror'], ['Comedies', 'Fantasy'], ['Action', 'Crime'], ['Action', 'Crime'], ['Romance', 'Dramas'], ['Sci-fi', 'Documentaries'], ['Thriller', 'Horror'], ['Comedies', 'Fantasy'], ['Comedies', 'Fantasy'], ['Sci-fi', 'Documentaries'], ['Thriller', 'Horror'], ['Comedies', 'Fantasy'], ['Romance', 'Dramas'], ['Romance', 'Dramas'], ['Romance', 'Dramas'], ['Comedies', 'Fantasy'], ['Thriller', 'Horror'], ['Thriller', 'Horror'], ['Thriller', 'Horror'], ['Thriller', 'Horror'], ['Thriller', 'Horror'], ['Sci-fi', 'Documentaries'], ['Action', 'Crime'], ['Thriller', 'Horror'], ['Romance', 'Dramas'], ['Thriller', 'Horror'], ['Romance', 'Dramas'], ['Romance', 'Dramas'], ['Romance', 'Dramas'], ['Sci-fi', 'Documentaries'], ['Sci-fi', 'Documentaries'], ['Sci-fi', 'Documentaries'], ['Comedies', 'Fantasy'], ['Comedies', 'Fantasy'], ['Comedies', 'Fantasy'], ['Romance', 'Dramas'], ['Comedies', 'Fantasy'], ['Sci-fi', 'Documentaries'], ['Action', 'Crime'], ['Romance', 'Dramas'], ['Thriller', 'Horror'], ['Thriller', 'Horror'], ['Thriller', 'Horror'], ['Comedies', 'Fantasy'], ['Romance', 'Dramas'], ['Action', 'Crime'], ['Action', 'Crime'], ['Comedies', 'Fantasy'], ['Comedies', 'Fantasy'], ['Comedies', 'Fantasy'], ['Comedies', 'Fantasy'], ['Sci-fi', 'Documentaries'], ['Sci-fi', 'Documentaries'], ['Romance', 'Dramas'], ['Sci-fi', 'Documentaries'], ['Sci-fi', 'Documentaries'], ['Thriller', 'Horror'], ['Action', 'Crime'], ['Action', 'Crime'], ['Action', 'Crime'], ['Action', 'Crime'], ['Sci-fi', 'Documentaries'], ['Action', 'Crime'], ['Action', 'Crime'], ['Sci-fi', 'Documentaries'], ['Action', 'Crime'], ['Romance', 'Dramas'], ['Thriller', 'Horror'], ['Romance', 'Dramas'], ['Romance', 'Dramas'], ['Thriller', 'Horror'], ['Romance', 'Dramas'], ['Action', 'Crime'], ['Romance', 'Dramas'], ['Romance', 'Dramas'], ['Comedies', 'Fantasy'], ['Action', 'Crime'], ['Thriller', 'Horror'], ['Action', 'Crime'], ['Action', 'Crime'], ['Romance', 'Dramas'], ['Comedies', 'Fantasy'], ['Romance', 'Dramas'], ['Romance', 'Dramas'], ['Thriller', 'Horror'], ['Thriller', 'Horror'], ['Thriller', 'Horror'], ['Thriller', 'Horror'], ['Comedies', 'Fantasy'], ['Action', 'Crime'], ['Romance', 'Dramas'], ['Comedies', 'Fantasy'], ['Romance', 'Dramas'], ['Romance', 'Dramas'], ['Sci-fi', 'Documentaries'], ['Thriller', 'Horror'], ['Romance', 'Dramas'], ['Thriller', 'Horror'], ['Thriller', 'Horror'], ['Romance', 'Dramas'], ['Thriller', 'Horror'], ['Thriller', 'Horror'], ['Thriller', 'Horror'], ['Action', 'Crime'], ['Romance', 'Dramas'], ['Thriller', 'Horror'], ['Comedies', 'Fantasy'], ['Thriller', 'Horror'], ['Sci-fi', 'Documentaries'], ['Action', 'Crime'], ['Action', 'Crime'], ['Action', 'Crime'], ['Romance', 'Dramas'], ['Romance', 'Dramas'], ['Romance', 'Dramas'], ['Sci-fi', 'Documentaries'], ['Romance', 'Dramas'], ['Action', 'Crime'], ['Thriller', 'Horror'], ['Thriller', 'Horror'], ['Thriller', 'Horror'], ['Thriller', 'Horror'], ['Romance', 'Dramas'], ['Sci-fi', 'Documentaries'], ['Thriller', 'Horror'], ['Romance', 'Dramas'], ['Thriller', 'Horror'], ['Comedies', 'Fantasy'], ['Romance', 'Dramas'], ['Thriller', 'Horror'], ['Thriller', 'Horror'], ['Romance', 'Dramas'], ['Comedies', 'Fantasy'], ['Action', 'Crime'], ['Sci-fi', 'Documentaries'], ['Romance', 'Dramas'], ['Thriller', 'Horror'], ['Action', 'Crime'], ['Sci-fi', 'Documentaries'], ['Romance', 'Dramas'], ['Romance', 'Dramas'], ['Comedies', 'Fantasy'], ['Comedies', 'Fantasy'], ['Romance', 'Dramas'], ['Comedies', 'Fantasy'], ['Thriller', 'Horror'], ['Thriller', 'Horror'], ['Romance', 'Dramas'], ['Thriller', 'Horror'], ['Thriller', 'Horror'], ['Sci-fi', 'Documentaries'], ['Sci-fi', 'Documentaries'], ['Comedies', 'Fantasy'], ['Sci-fi', 'Documentaries'], ['Sci-fi', 'Documentaries'], ['Action', 'Crime'], ['Action', 'Crime'], ['Sci-fi', 'Documentaries'], ['Comedies', 'Fantasy'], ['Thriller', 'Horror'], ['Sci-fi', 'Documentaries'], ['Romance', 'Dramas'], ['Thriller', 'Horror'], ['Romance', 'Dramas'], ['Sci-fi', 'Documentaries'], ['Action', 'Crime'], ['Sci-fi', 'Documentaries'], ['Romance', 'Dramas'], ['Romance', 'Dramas'], ['Sci-fi', 'Documentaries'], ['Sci-fi', 'Documentaries'], ['Action', 'Crime'], ['Romance', 'Dramas'], ['Comedies', 'Fantasy'], ['Romance', 'Dramas'], ['Comedies', 'Fantasy'], ['Action', 'Crime'], ['Romance', 'Dramas'], ['Sci-fi', 'Documentaries'], ['Romance', 'Dramas'], ['Action', 'Crime'], ['Action', 'Crime'], ['Action', 'Crime'], ['Comedies', 'Fantasy'], ['Romance', 'Dramas'], ['Thriller', 'Horror'], ['Action', 'Crime'], ['Romance', 'Dramas'], ['Romance', 'Dramas'], ['Thriller', 'Horror'], ['Sci-fi', 'Documentaries'], ['Comedies', 'Fantasy'], ['Sci-fi', 'Documentaries'], ['Sci-fi', 'Documentaries'], ['Romance', 'Dramas'], ['Comedies', 'Fantasy'], ['Sci-fi', 'Documentaries'], ['Thriller', 'Horror'], ['Thriller', 'Horror'], ['Thriller', 'Horror'], ['Action', 'Crime'], ['Romance', 'Dramas'], ['Thriller', 'Horror'], ['Thriller', 'Horror'], ['Comedies', 'Fantasy'], ['Sci-fi', 'Documentaries'], ['Romance', 'Dramas'], ['Action', 'Crime'], ['Sci-fi', 'Documentaries'], ['Romance', 'Dramas'], ['Thriller', 'Horror'], ['Romance', 'Dramas'], ['Comedies', 'Fantasy'], ['Thriller', 'Horror'], ['Comedies', 'Fantasy'], ['Thriller', 'Horror'], ['Thriller', 'Horror'], ['Romance', 'Dramas'], ['Comedies', 'Fantasy'], ['Thriller', 'Horror'], ['Romance', 'Dramas'], ['Comedies', 'Fantasy'], ['Romance', 'Dramas'], ['Thriller', 'Horror'], ['Romance', 'Dramas'], ['Romance', 'Dramas'], ['Romance', 'Dramas'], ['Comedies', 'Fantasy'], ['Action', 'Crime'], ['Thriller', 'Horror'], ['Romance', 'Dramas'], ['Comedies', 'Fantasy'], ['Comedies', 'Fantasy'], ['Sci-fi', 'Documentaries'], ['Thriller', 'Horror'], ['Thriller', 'Horror'], ['Sci-fi', 'Documentaries'], ['Romance', 'Dramas'], ['Action', 'Crime'], ['Thriller', 'Horror'], ['Action', 'Crime'], ['Comedies', 'Fantasy'], ['Thriller', 'Horror'], ['Action', 'Crime'], ['Action', 'Crime'], ['Comedies', 'Fantasy'], ['Thriller', 'Horror'], ['Thriller', 'Horror'], ['Sci-fi', 'Documentaries'], ['Action', 'Crime'], ['Thriller', 'Horror'], ['Romance', 'Dramas'], ['Comedies', 'Fantasy'], ['Sci-fi', 'Documentaries'], ['Action', 'Crime'], ['Thriller', 'Horror'], ['Comedies', 'Fantasy'], ['Comedies', 'Fantasy'], ['Thriller', 'Horror'], ['Action', 'Crime'], ['Comedies', 'Fantasy'], ['Comedies', 'Fantasy'], ['Action', 'Crime'], ['Sci-fi', 'Documentaries'], ['Comedies', 'Fantasy'], ['Romance', 'Dramas'], ['Comedies', 'Fantasy'], ['Thriller', 'Horror'], ['Action', 'Crime'], ['Comedies', 'Fantasy'], ['Romance', 'Dramas'], ['Thriller', 'Horror'], ['Action', 'Crime'], ['Thriller', 'Horror'], ['Thriller', 'Horror'], ['Comedies', 'Fantasy'], ['Comedies', 'Fantasy'], ['Thriller', 'Horror'], ['Thriller', 'Horror'], ['Thriller', 'Horror'], ['Action', 'Crime'], ['Action', 'Crime'], ['Romance', 'Dramas'], ['Romance', 'Dramas'], ['Action', 'Crime'], ['Comedies', 'Fantasy'], ['Romance', 'Dramas'], ['Romance', 'Dramas'], ['Romance', 'Dramas'], ['Thriller', 'Horror'], ['Romance', 'Dramas'], ['Action', 'Crime'], ['Romance', 'Dramas'], ['Thriller', 'Horror'], ['Romance', 'Dramas'], ['Comedies', 'Fantasy'], ['Thriller', 'Horror'], ['Thriller', 'Horror'], ['Action', 'Crime'], ['Thriller', 'Horror'], ['Comedies', 'Fantasy'], ['Action', 'Crime'], ['Romance', 'Dramas'], ['Romance', 'Dramas'], ['Romance', 'Dramas'], ['Comedies', 'Fantasy'], ['Romance', 'Dramas'], ['Thriller', 'Horror'], ['Comedies', 'Fantasy'], ['Comedies', 'Fantasy'], ['Romance', 'Dramas'], ['Thriller', 'Horror'], ['Thriller', 'Horror'], ['Romance', 'Dramas'], ['Sci-fi', 'Documentaries'], ['Sci-fi', 'Documentaries'], ['Thriller', 'Horror'], ['Sci-fi', 'Documentaries'], ['Sci-fi', 'Documentaries'], ['Action', 'Crime'], ['Thriller', 'Horror'], ['Comedies', 'Fantasy'], ['Romance', 'Dramas'], ['Sci-fi', 'Documentaries'], ['Action', 'Crime'], ['Thriller', 'Horror'], ['Thriller', 'Horror'], ['Romance', 'Dramas'], ['Romance', 'Dramas'], ['Comedies', 'Fantasy'], ['Comedies', 'Fantasy'], ['Romance', 'Dramas'], ['Sci-fi', 'Documentaries'], ['Action', 'Crime'], ['Thriller', 'Horror'], ['Sci-fi', 'Documentaries'], ['Comedies', 'Fantasy'], ['Sci-fi', 'Documentaries'], ['Sci-fi', 'Documentaries'], ['Sci-fi', 'Documentaries'], ['Romance', 'Dramas'], ['Action', 'Crime'], ['Romance', 'Dramas'], ['Action', 'Crime'], ['Thriller', 'Horror'], ['Romance', 'Dramas'], ['Action', 'Crime'], ['Romance', 'Dramas'], ['Thriller', 'Horror'], ['Thriller', 'Horror'], ['Action', 'Crime'], ['Romance', 'Dramas'], ['Romance', 'Dramas'], ['Romance', 'Dramas'], ['Sci-fi', 'Documentaries'], ['Comedies', 'Fantasy'], ['Action', 'Crime'], ['Romance', 'Dramas'], ['Comedies', 'Fantasy'], ['Thriller', 'Horror'], ['Action', 'Crime'], ['Action', 'Crime'], ['Sci-fi', 'Documentaries'], ['Sci-fi', 'Documentaries'], ['Sci-fi', 'Documentaries'], ['Thriller', 'Horror'], ['Action', 'Crime'], ['Action', 'Crime'], ['Thriller', 'Horror'], ['Action', 'Crime'], ['Action', 'Crime'], ['Thriller', 'Horror'], ['Sci-fi', 'Documentaries'], ['Sci-fi', 'Documentaries'], ['Romance', 'Dramas'], ['Romance', 'Dramas'], ['Comedies', 'Fantasy'], ['Romance', 'Dramas'], ['Comedies', 'Fantasy'], ['Romance', 'Dramas'], ['Sci-fi', 'Documentaries'], ['Thriller', 'Horror'], ['Thriller', 'Horror'], ['Action', 'Crime'], ['Romance', 'Dramas'], ['Action', 'Crime'], ['Romance', 'Dramas'], ['Action', 'Crime'], ['Romance', 'Dramas'], ['Romance', 'Dramas'], ['Romance', 'Dramas'], ['Sci-fi', 'Documentaries'], ['Thriller', 'Horror'], ['Thriller', 'Horror'], ['Thriller', 'Horror'], ['Romance', 'Dramas'], ['Action', 'Crime'], ['Sci-fi', 'Documentaries'], ['Action', 'Crime'], ['Romance', 'Dramas'], ['Action', 'Crime'], ['Comedies', 'Fantasy'], ['Romance', 'Dramas'], ['Thriller', 'Horror'], ['Comedies', 'Fantasy'], ['Romance', 'Dramas'], ['Thriller', 'Horror'], ['Action', 'Crime'], ['Action', 'Crime'], ['Thriller', 'Horror'], ['Sci-fi', 'Documentaries'], ['Thriller', 'Horror'], ['Romance', 'Dramas'], ['Romance', 'Dramas'], ['Sci-fi', 'Documentaries'], ['Thriller', 'Horror'], ['Romance', 'Dramas'], ['Thriller', 'Horror'], ['Romance', 'Dramas'], ['Romance', 'Dramas'], ['Romance', 'Dramas'], ['Thriller', 'Horror'], ['Romance', 'Dramas'], ['Thriller', 'Horror'], ['Sci-fi', 'Documentaries'], ['Romance', 'Dramas'], ['Romance', 'Dramas'], ['Romance', 'Dramas'], ['Thriller', 'Horror'], ['Comedies', 'Fantasy'], ['Comedies', 'Fantasy'], ['Thriller', 'Horror'], ['Comedies', 'Fantasy'], ['Sci-fi', 'Documentaries'], ['Romance', 'Dramas'], ['Romance', 'Dramas'], ['Romance', 'Dramas'], ['Sci-fi', 'Documentaries'], ['Comedies', 'Fantasy'], ['Thriller', 'Horror'], ['Thriller', 'Horror'], ['Thriller', 'Horror'], ['Romance', 'Dramas'], ['Romance', 'Dramas'], ['Action', 'Crime'], ['Thriller', 'Horror'], ['Thriller', 'Horror'], ['Comedies', 'Fantasy'], ['Thriller', 'Horror'], ['Action', 'Crime'], ['Comedies', 'Fantasy'], ['Action', 'Crime'], ['Romance', 'Dramas'], ['Action', 'Crime'], ['Thriller', 'Horror'], ['Sci-fi', 'Documentaries'], ['Action', 'Crime'], ['Sci-fi', 'Documentaries'], ['Action', 'Crime'], ['Comedies', 'Fantasy'], ['Sci-fi', 'Documentaries'], ['Sci-fi', 'Documentaries'], ['Sci-fi', 'Documentaries'], ['Action', 'Crime'], ['Sci-fi', 'Documentaries'], ['Comedies', 'Fantasy'], ['Thriller', 'Horror'], ['Romance', 'Dramas'], ['Thriller', 'Horror'], ['Action', 'Crime'], ['Thriller', 'Horror'], ['Thriller', 'Horror'], ['Sci-fi', 'Documentaries'], ['Romance', 'Dramas'], ['Romance', 'Dramas'], ['Romance', 'Dramas'], ['Action', 'Crime'], ['Sci-fi', 'Documentaries'], ['Sci-fi', 'Documentaries'], ['Thriller', 'Horror'], ['Romance', 'Dramas'], ['Romance', 'Dramas'], ['Comedies', 'Fantasy'], ['Romance', 'Dramas'], ['Action', 'Crime'], ['Action', 'Crime'], ['Sci-fi', 'Documentaries'], ['Sci-fi', 'Documentaries'], ['Sci-fi', 'Documentaries'], ['Romance', 'Dramas'], ['Thriller', 'Horror'], ['Action', 'Crime'], ['Thriller', 'Horror'], ['Romance', 'Dramas'], ['Romance', 'Dramas'], ['Romance', 'Dramas'], ['Sci-fi', 'Documentaries'], ['Sci-fi', 'Documentaries'], ['Sci-fi', 'Documentaries'], ['Comedies', 'Fantasy'], ['Comedies', 'Fantasy'], ['Comedies', 'Fantasy'], ['Sci-fi', 'Documentaries'], ['Romance', 'Dramas'], ['Thriller', 'Horror'], ['Sci-fi', 'Documentaries'], ['Thriller', 'Horror'], ['Thriller', 'Horror'], ['Romance', 'Dramas'], ['Thriller', 'Horror'], ['Sci-fi', 'Documentaries'], ['Thriller', 'Horror'], ['Romance', 'Dramas'], ['Romance', 'Dramas'], ['Thriller', 'Horror'], ['Comedies', 'Fantasy'], ['Romance', 'Dramas'], ['Sci-fi', 'Documentaries'], ['Action', 'Crime'], ['Thriller', 'Horror'], ['Sci-fi', 'Documentaries'], ['Thriller', 'Horror'], ['Action', 'Crime'], ['Thriller', 'Horror'], ['Thriller', 'Horror'], ['Sci-fi', 'Documentaries'], ['Sci-fi', 'Documentaries'], ['Comedies', 'Fantasy'], ['Thriller', 'Horror'], ['Thriller', 'Horror'], ['Romance', 'Dramas'], ['Thriller', 'Horror'], ['Sci-fi', 'Documentaries'], ['Thriller', 'Horror'], ['Action', 'Crime'], ['Action', 'Crime'], ['Romance', 'Dramas'], ['Sci-fi', 'Documentaries'], ['Comedies', 'Fantasy'], ['Comedies', 'Fantasy'], ['Sci-fi', 'Documentaries'], ['Sci-fi', 'Documentaries'], ['Thriller', 'Horror'], ['Sci-fi', 'Documentaries'], ['Comedies', 'Fantasy'], ['Comedies', 'Fantasy'], ['Sci-fi', 'Documentaries'], ['Sci-fi', 'Documentaries'], ['Romance', 'Dramas'], ['Thriller', 'Horror'], ['Comedies', 'Fantasy'], ['Action', 'Crime'], ['Action', 'Crime'], ['Thriller', 'Horror'], ['Romance', 'Dramas'], ['Comedies', 'Fantasy'], ['Sci-fi', 'Documentaries'], ['Action', 'Crime'], ['Comedies', 'Fantasy'], ['Action', 'Crime'], ['Sci-fi', 'Documentaries'], ['Comedies', 'Fantasy'], ['Sci-fi', 'Documentaries'], ['Sci-fi', 'Documentaries'], ['Sci-fi', 'Documentaries'], ['Action', 'Crime'], ['Sci-fi', 'Documentaries'], ['Comedies', 'Fantasy'], ['Romance', 'Dramas'], ['Romance', 'Dramas'], ['Comedies', 'Fantasy'], ['Thriller', 'Horror'], ['Thriller', 'Horror'], ['Action', 'Crime'], ['Romance', 'Dramas'], ['Thriller', 'Horror'], ['Action', 'Crime'], ['Thriller', 'Horror'], ['Thriller', 'Horror'], ['Comedies', 'Fantasy'], ['Thriller', 'Horror'], ['Thriller', 'Horror'], ['Sci-fi', 'Documentaries'], ['Romance', 'Dramas'], ['Thriller', 'Horror'], ['Romance', 'Dramas'], ['Romance', 'Dramas'], ['Thriller', 'Horror'], ['Comedies', 'Fantasy'], ['Comedies', 'Fantasy'], ['Thriller', 'Horror'], ['Thriller', 'Horror'], ['Comedies', 'Fantasy'], ['Action', 'Crime'], ['Action', 'Crime'], ['Action', 'Crime'], ['Action', 'Crime'], ['Thriller', 'Horror'], ['Action', 'Crime'], ['Sci-fi', 'Documentaries'], ['Comedies', 'Fantasy'], ['Thriller', 'Horror'], ['Comedies', 'Fantasy'], ['Thriller', 'Horror'], ['Romance', 'Dramas'], ['Comedies', 'Fantasy'], ['Thriller', 'Horror'], ['Romance', 'Dramas'], ['Thriller', 'Horror'], ['Romance', 'Dramas'], ['Thriller', 'Horror'], ['Thriller', 'Horror'], ['Action', 'Crime'], ['Romance', 'Dramas'], ['Comedies', 'Fantasy'], ['Comedies', 'Fantasy'], ['Thriller', 'Horror'], ['Romance', 'Dramas'], ['Action', 'Crime'], ['Thriller', 'Horror'], ['Comedies', 'Fantasy'], ['Sci-fi', 'Documentaries'], ['Thriller', 'Horror'], ['Thriller', 'Horror'], ['Thriller', 'Horror'], ['Comedies', 'Fantasy'], ['Sci-fi', 'Documentaries'], ['Thriller', 'Horror'], ['Thriller', 'Horror'], ['Romance', 'Dramas'], ['Romance', 'Dramas'], ['Action', 'Crime'], ['Thriller', 'Horror'], ['Thriller', 'Horror'], ['Romance', 'Dramas'], ['Romance', 'Dramas'], ['Thriller', 'Horror'], ['Thriller', 'Horror'], ['Thriller', 'Horror'], ['Thriller', 'Horror'], ['Action', 'Crime'], ['Romance', 'Dramas'], ['Sci-fi', 'Documentaries'], ['Comedies', 'Fantasy'], ['Sci-fi', 'Documentaries'], ['Action', 'Crime'], ['Thriller', 'Horror'], ['Comedies', 'Fantasy'], ['Romance', 'Dramas'], ['Sci-fi', 'Documentaries'], ['Action', 'Crime'], ['Romance', 'Dramas'], ['Romance', 'Dramas'], ['Romance', 'Dramas'], ['Action', 'Crime'], ['Comedies', 'Fantasy'], ['Thriller', 'Horror'], ['Comedies', 'Fantasy'], ['Action', 'Crime'], ['Comedies', 'Fantasy'], ['Comedies', 'Fantasy'], ['Romance', 'Dramas'], ['Romance', 'Dramas'], ['Action', 'Crime'], ['Romance', 'Dramas'], ['Thriller', 'Horror'], ['Thriller', 'Horror'], ['Sci-fi', 'Documentaries'], ['Comedies', 'Fantasy'], ['Sci-fi', 'Documentaries'], ['Romance', 'Dramas'], ['Thriller', 'Horror'], ['Sci-fi', 'Documentaries'], ['Thriller', 'Horror'], ['Thriller', 'Horror'], ['Thriller', 'Horror'], ['Romance', 'Dramas'], ['Thriller', 'Horror'], ['Romance', 'Dramas'], ['Thriller', 'Horror'], ['Thriller', 'Horror'], ['Thriller', 'Horror'], ['Thriller', 'Horror'], ['Comedies', 'Fantasy'], ['Comedies', 'Fantasy'], ['Comedies', 'Fantasy'], ['Thriller', 'Horror'], ['Sci-fi', 'Documentaries'], ['Romance', 'Dramas'], ['Thriller', 'Horror'], ['Thriller', 'Horror'], ['Thriller', 'Horror'], ['Comedies', 'Fantasy'], ['Romance', 'Dramas'], ['Romance', 'Dramas'], ['Action', 'Crime'], ['Action', 'Crime'], ['Thriller', 'Horror'], ['Comedies', 'Fantasy'], ['Romance', 'Dramas'], ['Romance', 'Dramas'], ['Thriller', 'Horror'], ['Romance', 'Dramas'], ['Thriller', 'Horror'], ['Romance', 'Dramas'], ['Thriller', 'Horror'], ['Thriller', 'Horror'], ['Thriller', 'Horror'], ['Romance', 'Dramas'], ['Comedies', 'Fantasy'], ['Romance', 'Dramas'], ['Romance', 'Dramas'], ['Action', 'Crime'], ['Romance', 'Dramas'], ['Thriller', 'Horror'], ['Comedies', 'Fantasy'], ['Romance', 'Dramas'], ['Thriller', 'Horror'], ['Comedies', 'Fantasy'], ['Action', 'Crime'], ['Action', 'Crime'], ['Action', 'Crime'], ['Romance', 'Dramas'], ['Thriller', 'Horror'], ['Romance', 'Dramas'], ['Comedies', 'Fantasy'], ['Romance', 'Dramas'], ['Sci-fi', 'Documentaries'], ['Action', 'Crime'], ['Thriller', 'Horror'], ['Sci-fi', 'Documentaries'], ['Comedies', 'Fantasy'], ['Action', 'Crime'], ['Thriller', 'Horror'], ['Action', 'Crime'], ['Sci-fi', 'Documentaries'], ['Action', 'Crime'], ['Romance', 'Dramas'], ['Thriller', 'Horror'], ['Romance', 'Dramas'], ['Romance', 'Dramas'], ['Sci-fi', 'Documentaries'], ['Sci-fi', 'Documentaries'], ['Romance', 'Dramas'], ['Thriller', 'Horror'], ['Action', 'Crime'], ['Sci-fi', 'Documentaries'], ['Thriller', 'Horror'], ['Action', 'Crime'], ['Romance', 'Dramas'], ['Action', 'Crime'], ['Romance', 'Dramas'], ['Sci-fi', 'Documentaries'], ['Action', 'Crime'], ['Sci-fi', 'Documentaries'], ['Comedies', 'Fantasy'], ['Action', 'Crime'], ['Comedies', 'Fantasy'], ['Comedies', 'Fantasy'], ['Sci-fi', 'Documentaries'], ['Romance', 'Dramas'], ['Sci-fi', 'Documentaries'], ['Romance', 'Dramas'], ['Romance', 'Dramas'], ['Comedies', 'Fantasy'], ['Thriller', 'Horror'], ['Comedies', 'Fantasy'], ['Action', 'Crime'], ['Thriller', 'Horror'], ['Comedies', 'Fantasy'], ['Sci-fi', 'Documentaries'], ['Comedies', 'Fantasy'], ['Comedies', 'Fantasy'], ['Thriller', 'Horror'], ['Comedies', 'Fantasy'], ['Action', 'Crime'], ['Action', 'Crime'], ['Comedies', 'Fantasy'], ['Action', 'Crime'], ['Thriller', 'Horror'], ['Action', 'Crime'], ['Sci-fi', 'Documentaries'], ['Action', 'Crime'], ['Thriller', 'Horror'], ['Romance', 'Dramas'], ['Thriller', 'Horror'], ['Sci-fi', 'Documentaries'], ['Thriller', 'Horror'], ['Sci-fi', 'Documentaries'], ['Comedies', 'Fantasy'], ['Romance', 'Dramas'], ['Action', 'Crime'], ['Comedies', 'Fantasy'], ['Thriller', 'Horror'], ['Thriller', 'Horror'], ['Sci-fi', 'Documentaries'], ['Comedies', 'Fantasy'], ['Romance', 'Dramas'], ['Thriller', 'Horror'], ['Thriller', 'Horror'], ['Romance', 'Dramas'], ['Romance', 'Dramas'], ['Comedies', 'Fantasy'], ['Romance', 'Dramas'], ['Thriller', 'Horror'], ['Thriller', 'Horror'], ['Romance', 'Dramas'], ['Sci-fi', 'Documentaries'], ['Action', 'Crime'], ['Thriller', 'Horror'], ['Comedies', 'Fantasy'], ['Romance', 'Dramas'], ['Thriller', 'Horror'], ['Comedies', 'Fantasy'], ['Thriller', 'Horror'], ['Sci-fi', 'Documentaries'], ['Romance', 'Dramas'], ['Comedies', 'Fantasy'], ['Thriller', 'Horror'], ['Sci-fi', 'Documentaries'], ['Comedies', 'Fantasy'], ['Comedies', 'Fantasy'], ['Thriller', 'Horror'], ['Thriller', 'Horror'], ['Romance', 'Dramas'], ['Action', 'Crime'], ['Romance', 'Dramas'], ['Thriller', 'Horror'], ['Romance', 'Dramas'], ['Comedies', 'Fantasy'], ['Romance', 'Dramas'], ['Thriller', 'Horror'], ['Sci-fi', 'Documentaries'], ['Action', 'Crime'], ['Thriller', 'Horror'], ['Thriller', 'Horror'], ['Action', 'Crime'], ['Romance', 'Dramas'], ['Comedies', 'Fantasy'], ['Romance', 'Dramas'], ['Action', 'Crime'], ['Action', 'Crime'], ['Romance', 'Dramas'], ['Action', 'Crime'], ['Romance', 'Dramas'], ['Comedies', 'Fantasy'], ['Comedies', 'Fantasy'], ['Romance', 'Dramas'], ['Sci-fi', 'Documentaries'], ['Thriller', 'Horror'], ['Comedies', 'Fantasy'], ['Comedies', 'Fantasy'], ['Thriller', 'Horror'], ['Sci-fi', 'Documentaries'], ['Action', 'Crime'], ['Thriller', 'Horror'], ['Thriller', 'Horror'], ['Romance', 'Dramas'], ['Comedies', 'Fantasy'], ['Comedies', 'Fantasy'], ['Romance', 'Dramas'], ['Action', 'Crime'], ['Action', 'Crime'], ['Thriller', 'Horror'], ['Comedies', 'Fantasy'], ['Action', 'Crime'], ['Romance', 'Dramas'], ['Thriller', 'Horror'], ['Comedies', 'Fantasy'], ['Thriller', 'Horror'], ['Thriller', 'Horror'], ['Comedies', 'Fantasy'], ['Thriller', 'Horror'], ['Sci-fi', 'Documentaries'], ['Thriller', 'Horror'], ['Thriller', 'Horror'], ['Thriller', 'Horror'], ['Comedies', 'Fantasy'], ['Romance', 'Dramas'], ['Comedies', 'Fantasy'], ['Thriller', 'Horror'], ['Action', 'Crime'], ['Action', 'Crime'], ['Comedies', 'Fantasy'], ['Comedies', 'Fantasy'], ['Comedies', 'Fantasy'], ['Thriller', 'Horror'], ['Action', 'Crime'], ['Comedies', 'Fantasy'], ['Comedies', 'Fantasy'], ['Romance', 'Dramas'], ['Romance', 'Dramas'], ['Thriller', 'Horror'], ['Comedies', 'Fantasy'], ['Romance', 'Dramas'], ['Sci-fi', 'Documentaries'], ['Thriller', 'Horror'], ['Thriller', 'Horror'], ['Sci-fi', 'Documentaries'], ['Comedies', 'Fantasy'], ['Action', 'Crime'], ['Romance', 'Dramas'], ['Thriller', 'Horror'], ['Romance', 'Dramas'], ['Romance', 'Dramas'], ['Sci-fi', 'Documentaries'], ['Sci-fi', 'Documentaries'], ['Romance', 'Dramas'], ['Romance', 'Dramas'], ['Thriller', 'Horror'], ['Sci-fi', 'Documentaries'], ['Romance', 'Dramas'], ['Action', 'Crime'], ['Thriller', 'Horror'], ['Thriller', 'Horror'], ['Thriller', 'Horror'], ['Action', 'Crime'], ['Romance', 'Dramas'], ['Comedies', 'Fantasy'], ['Sci-fi', 'Documentaries'], ['Sci-fi', 'Documentaries'], ['Action', 'Crime'], ['Action', 'Crime'], ['Romance', 'Dramas'], ['Comedies', 'Fantasy'], ['Sci-fi', 'Documentaries'], ['Comedies', 'Fantasy'], ['Action', 'Crime'], ['Action', 'Crime'], ['Thriller', 'Horror'], ['Thriller', 'Horror'], ['Action', 'Crime'], ['Sci-fi', 'Documentaries'], ['Sci-fi', 'Documentaries'], ['Comedies', 'Fantasy'], ['Thriller', 'Horror'], ['Action', 'Crime'], ['Thriller', 'Horror'], ['Romance', 'Dramas'], ['Action', 'Crime'], ['Romance', 'Dramas'], ['Thriller', 'Horror'], ['Thriller', 'Horror'], ['Romance', 'Dramas'], ['Comedies', 'Fantasy'], ['Romance', 'Dramas'], ['Action', 'Crime'], ['Comedies', 'Fantasy'], ['Romance', 'Dramas'], ['Thriller', 'Horror'], ['Thriller', 'Horror'], ['Sci-fi', 'Documentaries'], ['Action', 'Crime'], ['Comedies', 'Fantasy'], ['Sci-fi', 'Documentaries'], ['Action', 'Crime'], ['Thriller', 'Horror'], ['Action', 'Crime'], ['Comedies', 'Fantasy'], ['Romance', 'Dramas'], ['Thriller', 'Horror'], ['Thriller', 'Horror'], ['Romance', 'Dramas'], ['Action', 'Crime'], ['Thriller', 'Horror'], ['Romance', 'Dramas'], ['Comedies', 'Fantasy'], ['Romance', 'Dramas'], ['Comedies', 'Fantasy'], ['Comedies', 'Fantasy'], ['Thriller', 'Horror'], ['Comedies', 'Fantasy'], ['Thriller', 'Horror'], ['Thriller', 'Horror'], ['Comedies', 'Fantasy'], ['Action', 'Crime'], ['Thriller', 'Horror'], ['Action', 'Crime'], ['Sci-fi', 'Documentaries'], ['Thriller', 'Horror'], ['Comedies', 'Fantasy'], ['Thriller', 'Horror'], ['Thriller', 'Horror'], ['Sci-fi', 'Documentaries'], ['Action', 'Crime'], ['Sci-fi', 'Documentaries'], ['Sci-fi', 'Documentaries'], ['Comedies', 'Fantasy'], ['Thriller', 'Horror'], ['Romance', 'Dramas'], ['Thriller', 'Horror'], ['Thriller', 'Horror'], ['Comedies', 'Fantasy'], ['Romance', 'Dramas'], ['Comedies', 'Fantasy'], ['Romance', 'Dramas'], ['Thriller', 'Horror'], ['Comedies', 'Fantasy'], ['Comedies', 'Fantasy'], ['Thriller', 'Horror'], ['Romance', 'Dramas'], ['Action', 'Crime'], ['Action', 'Crime'], ['Thriller', 'Horror'], ['Thriller', 'Horror'], ['Romance', 'Dramas'], ['Thriller', 'Horror'], ['Thriller', 'Horror'], ['Comedies', 'Fantasy'], ['Thriller', 'Horror'], ['Action', 'Crime'], ['Thriller', 'Horror'], ['Action', 'Crime'], ['Romance', 'Dramas'], ['Sci-fi', 'Documentaries'], ['Romance', 'Dramas'], ['Thriller', 'Horror'], ['Action', 'Crime'], ['Thriller', 'Horror'], ['Romance', 'Dramas'], ['Thriller', 'Horror'], ['Thriller', 'Horror'], ['Romance', 'Dramas'], ['Comedies', 'Fantasy'], ['Action', 'Crime'], ['Sci-fi', 'Documentaries'], ['Action', 'Crime'], ['Action', 'Crime'], ['Action', 'Crime'], ['Thriller', 'Horror'], ['Thriller', 'Horror'], ['Sci-fi', 'Documentaries'], ['Action', 'Crime'], ['Romance', 'Dramas'], ['Thriller', 'Horror'], ['Comedies', 'Fantasy'], ['Comedies', 'Fantasy'], ['Thriller', 'Horror'], ['Thriller', 'Horror'], ['Thriller', 'Horror'], ['Action', 'Crime'], ['Sci-fi', 'Documentaries'], ['Thriller', 'Horror'], ['Romance', 'Dramas'], ['Thriller', 'Horror'], ['Action', 'Crime'], ['Action', 'Crime'], ['Action', 'Crime'], ['Action', 'Crime'], ['Comedies', 'Fantasy'], ['Sci-fi', 'Documentaries'], ['Thriller', 'Horror'], ['Thriller', 'Horror'], ['Romance', 'Dramas'], ['Thriller', 'Horror'], ['Romance', 'Dramas'], ['Comedies', 'Fantasy'], ['Sci-fi', 'Documentaries'], ['Sci-fi', 'Documentaries'], ['Comedies', 'Fantasy'], ['Sci-fi', 'Documentaries'], ['Action', 'Crime'], ['Romance', 'Dramas'], ['Comedies', 'Fantasy'], ['Sci-fi', 'Documentaries'], ['Romance', 'Dramas'], ['Sci-fi', 'Documentaries'], ['Action', 'Crime'], ['Thriller', 'Horror'], ['Sci-fi', 'Documentaries'], ['Action', 'Crime'], ['Thriller', 'Horror'], ['Romance', 'Dramas'], ['Sci-fi', 'Documentaries'], ['Comedies', 'Fantasy'], ['Action', 'Crime'], ['Thriller', 'Horror'], ['Thriller', 'Horror'], ['Romance', 'Dramas'], ['Thriller', 'Horror'], ['Sci-fi', 'Documentaries'], ['Comedies', 'Fantasy'], ['Thriller', 'Horror'], ['Sci-fi', 'Documentaries'], ['Romance', 'Dramas'], ['Romance', 'Dramas'], ['Sci-fi', 'Documentaries'], ['Comedies', 'Fantasy'], ['Comedies', 'Fantasy'], ['Thriller', 'Horror'], ['Action', 'Crime'], ['Thriller', 'Horror'], ['Romance', 'Dramas'], ['Sci-fi', 'Documentaries'], ['Romance', 'Dramas'], ['Comedies', 'Fantasy'], ['Thriller', 'Horror'], ['Action', 'Crime'], ['Comedies', 'Fantasy'], ['Action', 'Crime'], ['Comedies', 'Fantasy'], ['Sci-fi', 'Documentaries'], ['Action', 'Crime'], ['Comedies', 'Fantasy'], ['Romance', 'Dramas'], ['Action', 'Crime'], ['Thriller', 'Horror'], ['Thriller', 'Horror'], ['Romance', 'Dramas'], ['Comedies', 'Fantasy'], ['Sci-fi', 'Documentaries'], ['Romance', 'Dramas'], ['Thriller', 'Horror'], ['Thriller', 'Horror'], ['Thriller', 'Horror'], ['Comedies', 'Fantasy'], ['Comedies', 'Fantasy'], ['Romance', 'Dramas'], ['Romance', 'Dramas'], ['Action', 'Crime'], ['Action', 'Crime'], ['Action', 'Crime'], ['Comedies', 'Fantasy'], ['Comedies', 'Fantasy'], ['Thriller', 'Horror'], ['Thriller', 'Horror'], ['Romance', 'Dramas'], ['Comedies', 'Fantasy'], ['Comedies', 'Fantasy'], ['Thriller', 'Horror'], ['Romance', 'Dramas'], ['Comedies', 'Fantasy'], ['Romance', 'Dramas'], ['Comedies', 'Fantasy'], ['Thriller', 'Horror'], ['Sci-fi', 'Documentaries'], ['Action', 'Crime'], ['Sci-fi', 'Documentaries'], ['Comedies', 'Fantasy'], ['Comedies', 'Fantasy'], ['Sci-fi', 'Documentaries'], ['Romance', 'Dramas'], ['Sci-fi', 'Documentaries'], ['Thriller', 'Horror'], ['Romance', 'Dramas'], ['Sci-fi', 'Documentaries'], ['Romance', 'Dramas'], ['Thriller', 'Horror'], ['Thriller', 'Horror'], ['Sci-fi', 'Documentaries'], ['Romance', 'Dramas'], ['Thriller', 'Horror'], ['Action', 'Crime'], ['Sci-fi', 'Documentaries'], ['Comedies', 'Fantasy'], ['Thriller', 'Horror'], ['Comedies', 'Fantasy'], ['Sci-fi', 'Documentaries'], ['Thriller', 'Horror'], ['Romance', 'Dramas'], ['Sci-fi', 'Documentaries'], ['Romance', 'Dramas'], ['Comedies', 'Fantasy'], ['Romance', 'Dramas'], ['Comedies', 'Fantasy'], ['Thriller', 'Horror'], ['Action', 'Crime'], ['Romance', 'Dramas'], ['Thriller', 'Horror'], ['Sci-fi', 'Documentaries'], ['Thriller', 'Horror'], ['Action', 'Crime'], ['Comedies', 'Fantasy'], ['Action', 'Crime'], ['Thriller', 'Horror'], ['Comedies', 'Fantasy'], ['Comedies', 'Fantasy'], ['Thriller', 'Horror'], ['Romance', 'Dramas'], ['Thriller', 'Horror'], ['Thriller', 'Horror'], ['Romance', 'Dramas'], ['Comedies', 'Fantasy'], ['Thriller', 'Horror'], ['Romance', 'Dramas'], ['Action', 'Crime'], ['Thriller', 'Horror'], ['Romance', 'Dramas'], ['Sci-fi', 'Documentaries'], ['Comedies', 'Fantasy'], ['Romance', 'Dramas'], ['Sci-fi', 'Documentaries'], ['Comedies', 'Fantasy'], ['Thriller', 'Horror'], ['Thriller', 'Horror'], ['Thriller', 'Horror'], ['Action', 'Crime'], ['Comedies', 'Fantasy'], ['Thriller', 'Horror'], ['Thriller', 'Horror'], ['Sci-fi', 'Documentaries'], ['Comedies', 'Fantasy'], ['Comedies', 'Fantasy'], ['Romance', 'Dramas'], ['Comedies', 'Fantasy'], ['Thriller', 'Horror'], ['Comedies', 'Fantasy'], ['Romance', 'Dramas'], ['Comedies', 'Fantasy'], ['Sci-fi', 'Documentaries'], ['Action', 'Crime'], ['Action', 'Crime'], ['Thriller', 'Horror'], ['Comedies', 'Fantasy'], ['Thriller', 'Horror'], ['Action', 'Crime'], ['Thriller', 'Horror'], ['Sci-fi', 'Documentaries'], ['Thriller', 'Horror'], ['Thriller', 'Horror'], ['Sci-fi', 'Documentaries'], ['Thriller', 'Horror'], ['Thriller', 'Horror'], ['Thriller', 'Horror'], ['Action', 'Crime'], ['Thriller', 'Horror'], ['Romance', 'Dramas'], ['Action', 'Crime'], ['Thriller', 'Horror'], ['Thriller', 'Horror'], ['Thriller', 'Horror'], ['Action', 'Crime'], ['Sci-fi', 'Documentaries'], ['Romance', 'Dramas'], ['Romance', 'Dramas'], ['Romance', 'Dramas'], ['Comedies', 'Fantasy'], ['Romance', 'Dramas'], ['Thriller', 'Horror'], ['Thriller', 'Horror'], ['Thriller', 'Horror'], ['Thriller', 'Horror'], ['Action', 'Crime'], ['Comedies', 'Fantasy'], ['Thriller', 'Horror'], ['Thriller', 'Horror'], ['Comedies', 'Fantasy'], ['Action', 'Crime'], ['Comedies', 'Fantasy'], ['Comedies', 'Fantasy'], ['Thriller', 'Horror'], ['Action', 'Crime'], ['Romance', 'Dramas'], ['Sci-fi', 'Documentaries'], ['Sci-fi', 'Documentaries'], ['Thriller', 'Horror'], ['Action', 'Crime'], ['Action', 'Crime'], ['Action', 'Crime'], ['Comedies', 'Fantasy'], ['Comedies', 'Fantasy'], ['Comedies', 'Fantasy'], ['Romance', 'Dramas'], ['Thriller', 'Horror'], ['Action', 'Crime'], ['Action', 'Crime'], ['Action', 'Crime'], ['Thriller', 'Horror'], ['Thriller', 'Horror'], ['Thriller', 'Horror'], ['Sci-fi', 'Documentaries'], ['Comedies', 'Fantasy'], ['Sci-fi', 'Documentaries'], ['Romance', 'Dramas'], ['Comedies', 'Fantasy'], ['Romance', 'Dramas'], ['Comedies', 'Fantasy'], ['Sci-fi', 'Documentaries'], ['Action', 'Crime'], ['Thriller', 'Horror'], ['Action', 'Crime'], ['Romance', 'Dramas'], ['Romance', 'Dramas'], ['Comedies', 'Fantasy'], ['Sci-fi', 'Documentaries'], ['Comedies', 'Fantasy'], ['Comedies', 'Fantasy'], ['Action', 'Crime'], ['Action', 'Crime'], ['Romance', 'Dramas'], ['Action', 'Crime'], ['Thriller', 'Horror'], ['Sci-fi', 'Documentaries'], ['Comedies', 'Fantasy'], ['Action', 'Crime'], ['Comedies', 'Fantasy'], ['Romance', 'Dramas'], ['Romance', 'Dramas'], ['Thriller', 'Horror'], ['Thriller', 'Horror'], ['Action', 'Crime'], ['Thriller', 'Horror'], ['Thriller', 'Horror'], ['Comedies', 'Fantasy'], ['Action', 'Crime'], ['Sci-fi', 'Documentaries'], ['Romance', 'Dramas'], ['Thriller', 'Horror'], ['Romance', 'Dramas'], ['Thriller', 'Horror'], ['Romance', 'Dramas'], ['Thriller', 'Horror'], ['Romance', 'Dramas'], ['Romance', 'Dramas'], ['Thriller', 'Horror'], ['Thriller', 'Horror'], ['Thriller', 'Horror'], ['Thriller', 'Horror'], ['Comedies', 'Fantasy'], ['Romance', 'Dramas'], ['Romance', 'Dramas'], ['Action', 'Crime'], ['Sci-fi', 'Documentaries'], ['Comedies', 'Fantasy'], ['Thriller', 'Horror'], ['Action', 'Crime'], ['Action', 'Crime'], ['Action', 'Crime'], ['Thriller', 'Horror'], ['Sci-fi', 'Documentaries'], ['Comedies', 'Fantasy'], ['Sci-fi', 'Documentaries'], ['Romance', 'Dramas'], ['Sci-fi', 'Documentaries'], ['Action', 'Crime'], ['Action', 'Crime'], ['Action', 'Crime'], ['Action', 'Crime'], ['Romance', 'Dramas'], ['Thriller', 'Horror'], ['Action', 'Crime'], ['Thriller', 'Horror'], ['Romance', 'Dramas'], ['Sci-fi', 'Documentaries'], ['Comedies', 'Fantasy'], ['Action', 'Crime'], ['Comedies', 'Fantasy'], ['Thriller', 'Horror'], ['Action', 'Crime'], ['Comedies', 'Fantasy'], ['Thriller', 'Horror'], ['Sci-fi', 'Documentaries'], ['Sci-fi', 'Documentaries'], ['Thriller', 'Horror'], ['Comedies', 'Fantasy'], ['Comedies', 'Fantasy'], ['Action', 'Crime'], ['Sci-fi', 'Documentaries'], ['Thriller', 'Horror'], ['Action', 'Crime'], ['Action', 'Crime'], ['Thriller', 'Horror'], ['Action', 'Crime'], ['Thriller', 'Horror'], ['Thriller', 'Horror'], ['Action', 'Crime'], ['Romance', 'Dramas'], ['Romance', 'Dramas'], ['Sci-fi', 'Documentaries'], ['Action', 'Crime'], ['Thriller', 'Horror'], ['Thriller', 'Horror'], ['Sci-fi', 'Documentaries'], ['Romance', 'Dramas'], ['Comedies', 'Fantasy'], ['Comedies', 'Fantasy'], ['Romance', 'Dramas'], ['Comedies', 'Fantasy'], ['Romance', 'Dramas'], ['Sci-fi', 'Documentaries'], ['Comedies', 'Fantasy'], ['Comedies', 'Fantasy'], ['Action', 'Crime'], ['Comedies', 'Fantasy'], ['Romance', 'Dramas'], ['Romance', 'Dramas'], ['Thriller', 'Horror'], ['Romance', 'Dramas'], ['Action', 'Crime'], ['Romance', 'Dramas'], ['Romance', 'Dramas'], ['Sci-fi', 'Documentaries'], ['Sci-fi', 'Documentaries'], ['Action', 'Crime'], ['Sci-fi', 'Documentaries'], ['Romance', 'Dramas'], ['Comedies', 'Fantasy'], ['Sci-fi', 'Documentaries'], ['Thriller', 'Horror'], ['Action', 'Crime'], ['Thriller', 'Horror'], ['Thriller', 'Horror']]\n"
          ]
        }
      ]
    },
    {
      "cell_type": "code",
      "source": [
        "df.head(50)"
      ],
      "metadata": {
        "colab": {
          "base_uri": "https://localhost:8080/",
          "height": 2844
        },
        "id": "VBKXMp5CLHVx",
        "outputId": "5613cb2d-32e9-48d9-a4bf-d582c8f068ab"
      },
      "execution_count": null,
      "outputs": [
        {
          "output_type": "execute_result",
          "data": {
            "text/plain": [
              "    type  rating                                        description  \\\n",
              "2      1       5  To protect his family from a powerful drug lor...   \n",
              "5      1       5  The arrival of a charismatic young priest brin...   \n",
              "6      0      10  Equestria's divided. But a bright-eyed hero be...   \n",
              "7      0       5  On a photo shoot in Ghana, an American model s...   \n",
              "8      1       7  A talented batch of amateur bakers face off in...   \n",
              "9      0       9  A woman adjusting to life after a loss contend...   \n",
              "11     1       5  Struggling to earn a living in Bangkok, a man ...   \n",
              "12     0       5  After most of her family is murdered in a terr...   \n",
              "13     0       4  When the clever but socially-awkward Tetê join...   \n",
              "18     0       7  After a deadly home invasion at a couple’s new...   \n",
              "22     0       4  Newly divorced and denied visitation rights wi...   \n",
              "23     0       3  From arcade games to sled days and hiccup cure...   \n",
              "24     0       7  When the father of the man she loves insists t...   \n",
              "26     0       4  A tangled love triangle ensues when a man fall...   \n",
              "27     0       9  Mourning the loss of their beloved junior high...   \n",
              "28     0       9  A family’s idyllic suburban life shatters when...   \n",
              "29     0       9  Blackmailed by his company's CEO, a low-level ...   \n",
              "30     0       7  As big city life buzzes around them, lonely so...   \n",
              "35     0       5  When his son goes missing during a snowy hike ...   \n",
              "36     0       5  Tired of the small-time grind, three Marseille...   \n",
              "38     0       9  A young Bruce Lee angers kung fu traditionalis...   \n",
              "41     0      10  When an insatiable great white shark terrorize...   \n",
              "42     0      10  Four years after the last deadly shark attacks...   \n",
              "43     0      10  After the staff of a marine theme park try to ...   \n",
              "44     0       9  After another deadly shark attack, Ellen Brody...   \n",
              "46     0       8  Young CIA operative Matt Weston must get a dan...   \n",
              "47     1       5  Five glamorous millennials strive for success ...   \n",
              "48     0       8  A rookie cop with one day to prove himself to ...   \n",
              "51     0       7  With their biggest foe seemingly defeated, Inu...   \n",
              "52     0       7  The Great Dog Demon beaqueathed one of the Thr...   \n",
              "53     0       4  Ai, a young half-demon who has escaped from Ho...   \n",
              "54     0       4  A powerful demon has been sealed away for 200 ...   \n",
              "56     0       7  Mistakenly accused of an attack on the Fourth ...   \n",
              "57     0       4  When strange ninjas ambush the village of Kono...   \n",
              "58     0       4  When four out of five ninja villages are destr...   \n",
              "59     0       4  The adventures of adolescent ninja Naruto Uzum...   \n",
              "60     0       7  When Naruto is sent to recover a missing nin, ...   \n",
              "61     0       4  While on a mission to return a missing pet, Na...   \n",
              "62     0       4  Exuberant ninja Naruto teams up with his pals ...   \n",
              "63     0       4  Naruto, Sasuke and Sakura learn they'll be pro...   \n",
              "64     0       4  Scary story fan Alex must tell a spine-tinglin...   \n",
              "68     0       7  Through exclusive interviews and archival foot...   \n",
              "71     0       3  Join the StoryBots and the space travelers of ...   \n",
              "73     0       5  When a powerful businesswoman’s political ambi...   \n",
              "75     0       6  After a plane crash leaves Bear with amnesia, ...   \n",
              "77     0       2  Kid cop Little Singham loses all his superpowe...   \n",
              "78     0       7  A budding politician has devious plans to rise...   \n",
              "79     0       7  A budding politician has devious plans to rise...   \n",
              "80     0       2  When his home is threatened by humans, a young...   \n",
              "81     0       8  Slipped a fatal poison on her final job, a rut...   \n",
              "\n",
              "                                   stop_words_removed  \\\n",
              "2   To protect family powerful drug lord , skilled...   \n",
              "5   The arrival charismatic young priest brings gl...   \n",
              "6   Equestria divided . But bright-eyed hero belie...   \n",
              "7   On photo shoot Ghana , American model slips ti...   \n",
              "8   A talented batch amateur bakers face 10-week c...   \n",
              "9   A woman adjusting life loss contends feisty bi...   \n",
              "11  Struggling earn living Bangkok , man joins eme...   \n",
              "12  After family murdered terrorist bombing , youn...   \n",
              "13  When clever socially-awkward Tetê joins new sc...   \n",
              "18  After deadly home invasion couple ’ s new drea...   \n",
              "22  Newly divorced denied visitation rights daught...   \n",
              "23  From arcade games sled days hiccup cures , Cor...   \n",
              "24  When father man loves insists twin sons marry ...   \n",
              "26  A tangled love triangle ensues man falls woman...   \n",
              "27  Mourning loss beloved junior high basketball c...   \n",
              "28  A family ’ s idyllic suburban life shatters al...   \n",
              "29  Blackmailed company CEO , low-level employee f...   \n",
              "30  As big city life buzzes , lonely souls discove...   \n",
              "35  When son goes missing snowy hike mountains , r...   \n",
              "36  Tired small-time grind , Marseille cops chance...   \n",
              "38  A young Bruce Lee angers kung fu traditionalis...   \n",
              "41  When insatiable great white shark terrorizes A...   \n",
              "42  Four years deadly shark attacks , police chief...   \n",
              "43  After staff marine theme park try capture youn...   \n",
              "44  After deadly shark attack , Ellen Brody Amity ...   \n",
              "46  Young CIA operative Matt Weston dangerous crim...   \n",
              "47  Five glamorous millennials strive success jugg...   \n",
              "48  A rookie cop day prove veteran LAPD narcotics ...   \n",
              "51  With biggest foe seemingly defeated , InuYasha...   \n",
              "52  The Great Dog Demon beaqueathed Three Swords F...   \n",
              "53  Ai , young half-demon escaped Horai Island try...   \n",
              "54  A powerful demon sealed away 200 years . But d...   \n",
              "56  Mistakenly accused attack Fourth Raikage , nin...   \n",
              "57  When strange ninjas ambush village Konohagakur...   \n",
              "58  When ninja villages destroyed , leader spared ...   \n",
              "59  The adventures adolescent ninja Naruto Uzumaki...   \n",
              "60  When Naruto sent recover missing nin , rogue m...   \n",
              "61  While mission return missing pet , Naruto fell...   \n",
              "62  Exuberant ninja Naruto teams pals Sakura Kakas...   \n",
              "63  Naruto , Sasuke Sakura learn protecting actres...   \n",
              "64  Scary story fan Alex tell spine-tingling tale ...   \n",
              "68  Through exclusive interviews archival footage ...   \n",
              "71  Join StoryBots space travelers historic Inspir...   \n",
              "73  When powerful businesswoman ’ s political ambi...   \n",
              "75  After plane crash leaves Bear amnesia , choice...   \n",
              "77  Kid cop Little Singham loses superpowers tryin...   \n",
              "78  A budding politician devious plans rise ranks ...   \n",
              "79  A budding politician devious plans rise ranks ...   \n",
              "80  When home threatened humans , young dragon sum...   \n",
              "81  Slipped fatal poison final job , ruthless assa...   \n",
              "\n",
              "                                           lemmatized  compound_score  \\\n",
              "2   to protect family powerful drug lord , skilled...         -0.8860   \n",
              "5   the arrival charismatic young priest bring glo...          0.1027   \n",
              "6   Equestria divide . but bright - eyed hero beli...          0.9161   \n",
              "7   on photo shoot Ghana , american model slip tim...         -0.8519   \n",
              "8   a talented batch amateur baker face 10 - week ...          0.8807   \n",
              "9   a woman adjust life loss contend feisty bird t...         -0.5267   \n",
              "11  struggle earn live Bangkok , man join emergenc...         -0.4215   \n",
              "12  after family murder terrorist bombing , young ...         -0.9313   \n",
              "13  when clever socially - awkward Tetê join new s...          0.4678   \n",
              "18  after deadly home invasion couple ' s new drea...         -0.6249   \n",
              "22  newly divorce deny visitation right daughter ,...         -0.5267   \n",
              "23  from arcade game sle day hiccup cure , Cory Ca...          0.8016   \n",
              "24  when father man love insist twin son marry twi...          0.8402   \n",
              "26  a tangle love triangle ensue man fall woman st...          0.8779   \n",
              "27  mourn loss belove junior high basketball coach...         -0.0772   \n",
              "28  a family ' s idyllic suburban life shatter ali...         -0.5719   \n",
              "29  blackmail company CEO , low - level employee f...         -0.6249   \n",
              "30  as big city life buzz , lonely soul discover s...          0.3400   \n",
              "35  when son go miss snowy hike mountain , retire ...         -0.2023   \n",
              "36  tired small - time grind , Marseille cop chanc...         -0.1154   \n",
              "38  a young Bruce Lee anger kung fu traditionalist...         -0.8555   \n",
              "41  when insatiable great white shark terrorize Am...         -0.5719   \n",
              "42  four year deadly shark attack , police chief M...         -0.5106   \n",
              "43  after staff marine theme park try capture youn...          0.6249   \n",
              "44  after deadly shark attack , Ellen Brody Amity ...          0.2500   \n",
              "46  young CIA operative Matt Weston dangerous crim...         -0.6369   \n",
              "47  five glamorous millennial strive success juggl...          0.9552   \n",
              "48  a rookie cop day prove veteran LAPD narcotic o...         -0.1280   \n",
              "51  with big foe seemingly defeat , InuYasha frien...         -0.2144   \n",
              "52  the Great Dog Demon beaqueathe three Swords Fa...         -0.0772   \n",
              "53  ai , young half - demon escape Horai Island tr...          0.5267   \n",
              "54  a powerful demon seal away 200 year . but demo...         -0.5023   \n",
              "56  mistakenly accuse attack Fourth Raikage , ninj...         -0.7269   \n",
              "57  when strange ninjas ambush village Konohagakur...          0.2023   \n",
              "58  when ninja village destroy , leader spare try ...          0.2263   \n",
              "59  the adventure adolescent ninja Naruto Uzumaki ...          0.0000   \n",
              "60  when Naruto send recover miss nin , rogue mana...         -0.8225   \n",
              "61  while mission return miss pet , Naruto fellow ...         -0.6908   \n",
              "62  exuberant ninja Naruto team pal Sakura Kakashi...          0.5859   \n",
              "63  Naruto , Sasuke Sakura learn protect actress h...         -0.2023   \n",
              "64  scary story fan Alex tell spine - tingle tale ...         -0.7096   \n",
              "68  through exclusive interview archival footage ,...          0.6597   \n",
              "71  join StoryBots space traveler historic Inspira...          0.2960   \n",
              "73  when powerful businesswoman ' s political ambi...         -0.2732   \n",
              "75  after plane crash leave Bear amnesia , choice ...          0.2500   \n",
              "77  kid cop Little Singham lose superpower try sto...         -0.8724   \n",
              "78  a bud politician devious plan rise rank — unex...          0.0000   \n",
              "79  a bud politician devious plan rise rank — unex...          0.0000   \n",
              "80  when home threaten human , young dragon summon...          0.9118   \n",
              "81  slipped fatal poison final job , ruthless assa...         -0.8860   \n",
              "\n",
              "   senti_type                    Genre  \n",
              "2    Negative       [Thriller, Horror]  \n",
              "5    Positive      [Comedies, Fantasy]  \n",
              "6    Positive        [Romance, Dramas]  \n",
              "7    Negative       [Thriller, Horror]  \n",
              "8    Positive        [Romance, Dramas]  \n",
              "9    Negative       [Thriller, Horror]  \n",
              "11   Negative          [Action, Crime]  \n",
              "12   Negative       [Thriller, Horror]  \n",
              "13   Positive      [Comedies, Fantasy]  \n",
              "18   Negative       [Thriller, Horror]  \n",
              "22   Negative       [Thriller, Horror]  \n",
              "23   Positive        [Romance, Dramas]  \n",
              "24   Positive        [Romance, Dramas]  \n",
              "26   Positive        [Romance, Dramas]  \n",
              "27   Negative  [Sci-fi, Documentaries]  \n",
              "28   Negative       [Thriller, Horror]  \n",
              "29   Negative       [Thriller, Horror]  \n",
              "30   Positive      [Comedies, Fantasy]  \n",
              "35   Negative          [Action, Crime]  \n",
              "36   Negative          [Action, Crime]  \n",
              "38   Negative       [Thriller, Horror]  \n",
              "41   Negative       [Thriller, Horror]  \n",
              "42   Negative       [Thriller, Horror]  \n",
              "43   Positive        [Romance, Dramas]  \n",
              "44   Positive      [Comedies, Fantasy]  \n",
              "46   Negative       [Thriller, Horror]  \n",
              "47   Positive        [Romance, Dramas]  \n",
              "48   Negative          [Action, Crime]  \n",
              "51   Negative          [Action, Crime]  \n",
              "52   Negative  [Sci-fi, Documentaries]  \n",
              "53   Positive        [Romance, Dramas]  \n",
              "54   Negative       [Thriller, Horror]  \n",
              "56   Negative       [Thriller, Horror]  \n",
              "57   Positive      [Comedies, Fantasy]  \n",
              "58   Positive      [Comedies, Fantasy]  \n",
              "59    Neutral  [Sci-fi, Documentaries]  \n",
              "60   Negative       [Thriller, Horror]  \n",
              "61   Negative       [Thriller, Horror]  \n",
              "62   Positive        [Romance, Dramas]  \n",
              "63   Negative          [Action, Crime]  \n",
              "64   Negative       [Thriller, Horror]  \n",
              "68   Positive        [Romance, Dramas]  \n",
              "71   Positive      [Comedies, Fantasy]  \n",
              "73   Negative          [Action, Crime]  \n",
              "75   Positive      [Comedies, Fantasy]  \n",
              "77   Negative       [Thriller, Horror]  \n",
              "78    Neutral  [Sci-fi, Documentaries]  \n",
              "79    Neutral  [Sci-fi, Documentaries]  \n",
              "80   Positive        [Romance, Dramas]  \n",
              "81   Negative       [Thriller, Horror]  "
            ],
            "text/html": [
              "\n",
              "  <div id=\"df-ad98107b-3639-4a3a-9ee6-4df93b9f44e0\">\n",
              "    <div class=\"colab-df-container\">\n",
              "      <div>\n",
              "<style scoped>\n",
              "    .dataframe tbody tr th:only-of-type {\n",
              "        vertical-align: middle;\n",
              "    }\n",
              "\n",
              "    .dataframe tbody tr th {\n",
              "        vertical-align: top;\n",
              "    }\n",
              "\n",
              "    .dataframe thead th {\n",
              "        text-align: right;\n",
              "    }\n",
              "</style>\n",
              "<table border=\"1\" class=\"dataframe\">\n",
              "  <thead>\n",
              "    <tr style=\"text-align: right;\">\n",
              "      <th></th>\n",
              "      <th>type</th>\n",
              "      <th>rating</th>\n",
              "      <th>description</th>\n",
              "      <th>stop_words_removed</th>\n",
              "      <th>lemmatized</th>\n",
              "      <th>compound_score</th>\n",
              "      <th>senti_type</th>\n",
              "      <th>Genre</th>\n",
              "    </tr>\n",
              "  </thead>\n",
              "  <tbody>\n",
              "    <tr>\n",
              "      <th>2</th>\n",
              "      <td>1</td>\n",
              "      <td>5</td>\n",
              "      <td>To protect his family from a powerful drug lor...</td>\n",
              "      <td>To protect family powerful drug lord , skilled...</td>\n",
              "      <td>to protect family powerful drug lord , skilled...</td>\n",
              "      <td>-0.8860</td>\n",
              "      <td>Negative</td>\n",
              "      <td>[Thriller, Horror]</td>\n",
              "    </tr>\n",
              "    <tr>\n",
              "      <th>5</th>\n",
              "      <td>1</td>\n",
              "      <td>5</td>\n",
              "      <td>The arrival of a charismatic young priest brin...</td>\n",
              "      <td>The arrival charismatic young priest brings gl...</td>\n",
              "      <td>the arrival charismatic young priest bring glo...</td>\n",
              "      <td>0.1027</td>\n",
              "      <td>Positive</td>\n",
              "      <td>[Comedies, Fantasy]</td>\n",
              "    </tr>\n",
              "    <tr>\n",
              "      <th>6</th>\n",
              "      <td>0</td>\n",
              "      <td>10</td>\n",
              "      <td>Equestria's divided. But a bright-eyed hero be...</td>\n",
              "      <td>Equestria divided . But bright-eyed hero belie...</td>\n",
              "      <td>Equestria divide . but bright - eyed hero beli...</td>\n",
              "      <td>0.9161</td>\n",
              "      <td>Positive</td>\n",
              "      <td>[Romance, Dramas]</td>\n",
              "    </tr>\n",
              "    <tr>\n",
              "      <th>7</th>\n",
              "      <td>0</td>\n",
              "      <td>5</td>\n",
              "      <td>On a photo shoot in Ghana, an American model s...</td>\n",
              "      <td>On photo shoot Ghana , American model slips ti...</td>\n",
              "      <td>on photo shoot Ghana , american model slip tim...</td>\n",
              "      <td>-0.8519</td>\n",
              "      <td>Negative</td>\n",
              "      <td>[Thriller, Horror]</td>\n",
              "    </tr>\n",
              "    <tr>\n",
              "      <th>8</th>\n",
              "      <td>1</td>\n",
              "      <td>7</td>\n",
              "      <td>A talented batch of amateur bakers face off in...</td>\n",
              "      <td>A talented batch amateur bakers face 10-week c...</td>\n",
              "      <td>a talented batch amateur baker face 10 - week ...</td>\n",
              "      <td>0.8807</td>\n",
              "      <td>Positive</td>\n",
              "      <td>[Romance, Dramas]</td>\n",
              "    </tr>\n",
              "    <tr>\n",
              "      <th>9</th>\n",
              "      <td>0</td>\n",
              "      <td>9</td>\n",
              "      <td>A woman adjusting to life after a loss contend...</td>\n",
              "      <td>A woman adjusting life loss contends feisty bi...</td>\n",
              "      <td>a woman adjust life loss contend feisty bird t...</td>\n",
              "      <td>-0.5267</td>\n",
              "      <td>Negative</td>\n",
              "      <td>[Thriller, Horror]</td>\n",
              "    </tr>\n",
              "    <tr>\n",
              "      <th>11</th>\n",
              "      <td>1</td>\n",
              "      <td>5</td>\n",
              "      <td>Struggling to earn a living in Bangkok, a man ...</td>\n",
              "      <td>Struggling earn living Bangkok , man joins eme...</td>\n",
              "      <td>struggle earn live Bangkok , man join emergenc...</td>\n",
              "      <td>-0.4215</td>\n",
              "      <td>Negative</td>\n",
              "      <td>[Action, Crime]</td>\n",
              "    </tr>\n",
              "    <tr>\n",
              "      <th>12</th>\n",
              "      <td>0</td>\n",
              "      <td>5</td>\n",
              "      <td>After most of her family is murdered in a terr...</td>\n",
              "      <td>After family murdered terrorist bombing , youn...</td>\n",
              "      <td>after family murder terrorist bombing , young ...</td>\n",
              "      <td>-0.9313</td>\n",
              "      <td>Negative</td>\n",
              "      <td>[Thriller, Horror]</td>\n",
              "    </tr>\n",
              "    <tr>\n",
              "      <th>13</th>\n",
              "      <td>0</td>\n",
              "      <td>4</td>\n",
              "      <td>When the clever but socially-awkward Tetê join...</td>\n",
              "      <td>When clever socially-awkward Tetê joins new sc...</td>\n",
              "      <td>when clever socially - awkward Tetê join new s...</td>\n",
              "      <td>0.4678</td>\n",
              "      <td>Positive</td>\n",
              "      <td>[Comedies, Fantasy]</td>\n",
              "    </tr>\n",
              "    <tr>\n",
              "      <th>18</th>\n",
              "      <td>0</td>\n",
              "      <td>7</td>\n",
              "      <td>After a deadly home invasion at a couple’s new...</td>\n",
              "      <td>After deadly home invasion couple ’ s new drea...</td>\n",
              "      <td>after deadly home invasion couple ' s new drea...</td>\n",
              "      <td>-0.6249</td>\n",
              "      <td>Negative</td>\n",
              "      <td>[Thriller, Horror]</td>\n",
              "    </tr>\n",
              "    <tr>\n",
              "      <th>22</th>\n",
              "      <td>0</td>\n",
              "      <td>4</td>\n",
              "      <td>Newly divorced and denied visitation rights wi...</td>\n",
              "      <td>Newly divorced denied visitation rights daught...</td>\n",
              "      <td>newly divorce deny visitation right daughter ,...</td>\n",
              "      <td>-0.5267</td>\n",
              "      <td>Negative</td>\n",
              "      <td>[Thriller, Horror]</td>\n",
              "    </tr>\n",
              "    <tr>\n",
              "      <th>23</th>\n",
              "      <td>0</td>\n",
              "      <td>3</td>\n",
              "      <td>From arcade games to sled days and hiccup cure...</td>\n",
              "      <td>From arcade games sled days hiccup cures , Cor...</td>\n",
              "      <td>from arcade game sle day hiccup cure , Cory Ca...</td>\n",
              "      <td>0.8016</td>\n",
              "      <td>Positive</td>\n",
              "      <td>[Romance, Dramas]</td>\n",
              "    </tr>\n",
              "    <tr>\n",
              "      <th>24</th>\n",
              "      <td>0</td>\n",
              "      <td>7</td>\n",
              "      <td>When the father of the man she loves insists t...</td>\n",
              "      <td>When father man loves insists twin sons marry ...</td>\n",
              "      <td>when father man love insist twin son marry twi...</td>\n",
              "      <td>0.8402</td>\n",
              "      <td>Positive</td>\n",
              "      <td>[Romance, Dramas]</td>\n",
              "    </tr>\n",
              "    <tr>\n",
              "      <th>26</th>\n",
              "      <td>0</td>\n",
              "      <td>4</td>\n",
              "      <td>A tangled love triangle ensues when a man fall...</td>\n",
              "      <td>A tangled love triangle ensues man falls woman...</td>\n",
              "      <td>a tangle love triangle ensue man fall woman st...</td>\n",
              "      <td>0.8779</td>\n",
              "      <td>Positive</td>\n",
              "      <td>[Romance, Dramas]</td>\n",
              "    </tr>\n",
              "    <tr>\n",
              "      <th>27</th>\n",
              "      <td>0</td>\n",
              "      <td>9</td>\n",
              "      <td>Mourning the loss of their beloved junior high...</td>\n",
              "      <td>Mourning loss beloved junior high basketball c...</td>\n",
              "      <td>mourn loss belove junior high basketball coach...</td>\n",
              "      <td>-0.0772</td>\n",
              "      <td>Negative</td>\n",
              "      <td>[Sci-fi, Documentaries]</td>\n",
              "    </tr>\n",
              "    <tr>\n",
              "      <th>28</th>\n",
              "      <td>0</td>\n",
              "      <td>9</td>\n",
              "      <td>A family’s idyllic suburban life shatters when...</td>\n",
              "      <td>A family ’ s idyllic suburban life shatters al...</td>\n",
              "      <td>a family ' s idyllic suburban life shatter ali...</td>\n",
              "      <td>-0.5719</td>\n",
              "      <td>Negative</td>\n",
              "      <td>[Thriller, Horror]</td>\n",
              "    </tr>\n",
              "    <tr>\n",
              "      <th>29</th>\n",
              "      <td>0</td>\n",
              "      <td>9</td>\n",
              "      <td>Blackmailed by his company's CEO, a low-level ...</td>\n",
              "      <td>Blackmailed company CEO , low-level employee f...</td>\n",
              "      <td>blackmail company CEO , low - level employee f...</td>\n",
              "      <td>-0.6249</td>\n",
              "      <td>Negative</td>\n",
              "      <td>[Thriller, Horror]</td>\n",
              "    </tr>\n",
              "    <tr>\n",
              "      <th>30</th>\n",
              "      <td>0</td>\n",
              "      <td>7</td>\n",
              "      <td>As big city life buzzes around them, lonely so...</td>\n",
              "      <td>As big city life buzzes , lonely souls discove...</td>\n",
              "      <td>as big city life buzz , lonely soul discover s...</td>\n",
              "      <td>0.3400</td>\n",
              "      <td>Positive</td>\n",
              "      <td>[Comedies, Fantasy]</td>\n",
              "    </tr>\n",
              "    <tr>\n",
              "      <th>35</th>\n",
              "      <td>0</td>\n",
              "      <td>5</td>\n",
              "      <td>When his son goes missing during a snowy hike ...</td>\n",
              "      <td>When son goes missing snowy hike mountains , r...</td>\n",
              "      <td>when son go miss snowy hike mountain , retire ...</td>\n",
              "      <td>-0.2023</td>\n",
              "      <td>Negative</td>\n",
              "      <td>[Action, Crime]</td>\n",
              "    </tr>\n",
              "    <tr>\n",
              "      <th>36</th>\n",
              "      <td>0</td>\n",
              "      <td>5</td>\n",
              "      <td>Tired of the small-time grind, three Marseille...</td>\n",
              "      <td>Tired small-time grind , Marseille cops chance...</td>\n",
              "      <td>tired small - time grind , Marseille cop chanc...</td>\n",
              "      <td>-0.1154</td>\n",
              "      <td>Negative</td>\n",
              "      <td>[Action, Crime]</td>\n",
              "    </tr>\n",
              "    <tr>\n",
              "      <th>38</th>\n",
              "      <td>0</td>\n",
              "      <td>9</td>\n",
              "      <td>A young Bruce Lee angers kung fu traditionalis...</td>\n",
              "      <td>A young Bruce Lee angers kung fu traditionalis...</td>\n",
              "      <td>a young Bruce Lee anger kung fu traditionalist...</td>\n",
              "      <td>-0.8555</td>\n",
              "      <td>Negative</td>\n",
              "      <td>[Thriller, Horror]</td>\n",
              "    </tr>\n",
              "    <tr>\n",
              "      <th>41</th>\n",
              "      <td>0</td>\n",
              "      <td>10</td>\n",
              "      <td>When an insatiable great white shark terrorize...</td>\n",
              "      <td>When insatiable great white shark terrorizes A...</td>\n",
              "      <td>when insatiable great white shark terrorize Am...</td>\n",
              "      <td>-0.5719</td>\n",
              "      <td>Negative</td>\n",
              "      <td>[Thriller, Horror]</td>\n",
              "    </tr>\n",
              "    <tr>\n",
              "      <th>42</th>\n",
              "      <td>0</td>\n",
              "      <td>10</td>\n",
              "      <td>Four years after the last deadly shark attacks...</td>\n",
              "      <td>Four years deadly shark attacks , police chief...</td>\n",
              "      <td>four year deadly shark attack , police chief M...</td>\n",
              "      <td>-0.5106</td>\n",
              "      <td>Negative</td>\n",
              "      <td>[Thriller, Horror]</td>\n",
              "    </tr>\n",
              "    <tr>\n",
              "      <th>43</th>\n",
              "      <td>0</td>\n",
              "      <td>10</td>\n",
              "      <td>After the staff of a marine theme park try to ...</td>\n",
              "      <td>After staff marine theme park try capture youn...</td>\n",
              "      <td>after staff marine theme park try capture youn...</td>\n",
              "      <td>0.6249</td>\n",
              "      <td>Positive</td>\n",
              "      <td>[Romance, Dramas]</td>\n",
              "    </tr>\n",
              "    <tr>\n",
              "      <th>44</th>\n",
              "      <td>0</td>\n",
              "      <td>9</td>\n",
              "      <td>After another deadly shark attack, Ellen Brody...</td>\n",
              "      <td>After deadly shark attack , Ellen Brody Amity ...</td>\n",
              "      <td>after deadly shark attack , Ellen Brody Amity ...</td>\n",
              "      <td>0.2500</td>\n",
              "      <td>Positive</td>\n",
              "      <td>[Comedies, Fantasy]</td>\n",
              "    </tr>\n",
              "    <tr>\n",
              "      <th>46</th>\n",
              "      <td>0</td>\n",
              "      <td>8</td>\n",
              "      <td>Young CIA operative Matt Weston must get a dan...</td>\n",
              "      <td>Young CIA operative Matt Weston dangerous crim...</td>\n",
              "      <td>young CIA operative Matt Weston dangerous crim...</td>\n",
              "      <td>-0.6369</td>\n",
              "      <td>Negative</td>\n",
              "      <td>[Thriller, Horror]</td>\n",
              "    </tr>\n",
              "    <tr>\n",
              "      <th>47</th>\n",
              "      <td>1</td>\n",
              "      <td>5</td>\n",
              "      <td>Five glamorous millennials strive for success ...</td>\n",
              "      <td>Five glamorous millennials strive success jugg...</td>\n",
              "      <td>five glamorous millennial strive success juggl...</td>\n",
              "      <td>0.9552</td>\n",
              "      <td>Positive</td>\n",
              "      <td>[Romance, Dramas]</td>\n",
              "    </tr>\n",
              "    <tr>\n",
              "      <th>48</th>\n",
              "      <td>0</td>\n",
              "      <td>8</td>\n",
              "      <td>A rookie cop with one day to prove himself to ...</td>\n",
              "      <td>A rookie cop day prove veteran LAPD narcotics ...</td>\n",
              "      <td>a rookie cop day prove veteran LAPD narcotic o...</td>\n",
              "      <td>-0.1280</td>\n",
              "      <td>Negative</td>\n",
              "      <td>[Action, Crime]</td>\n",
              "    </tr>\n",
              "    <tr>\n",
              "      <th>51</th>\n",
              "      <td>0</td>\n",
              "      <td>7</td>\n",
              "      <td>With their biggest foe seemingly defeated, Inu...</td>\n",
              "      <td>With biggest foe seemingly defeated , InuYasha...</td>\n",
              "      <td>with big foe seemingly defeat , InuYasha frien...</td>\n",
              "      <td>-0.2144</td>\n",
              "      <td>Negative</td>\n",
              "      <td>[Action, Crime]</td>\n",
              "    </tr>\n",
              "    <tr>\n",
              "      <th>52</th>\n",
              "      <td>0</td>\n",
              "      <td>7</td>\n",
              "      <td>The Great Dog Demon beaqueathed one of the Thr...</td>\n",
              "      <td>The Great Dog Demon beaqueathed Three Swords F...</td>\n",
              "      <td>the Great Dog Demon beaqueathe three Swords Fa...</td>\n",
              "      <td>-0.0772</td>\n",
              "      <td>Negative</td>\n",
              "      <td>[Sci-fi, Documentaries]</td>\n",
              "    </tr>\n",
              "    <tr>\n",
              "      <th>53</th>\n",
              "      <td>0</td>\n",
              "      <td>4</td>\n",
              "      <td>Ai, a young half-demon who has escaped from Ho...</td>\n",
              "      <td>Ai , young half-demon escaped Horai Island try...</td>\n",
              "      <td>ai , young half - demon escape Horai Island tr...</td>\n",
              "      <td>0.5267</td>\n",
              "      <td>Positive</td>\n",
              "      <td>[Romance, Dramas]</td>\n",
              "    </tr>\n",
              "    <tr>\n",
              "      <th>54</th>\n",
              "      <td>0</td>\n",
              "      <td>4</td>\n",
              "      <td>A powerful demon has been sealed away for 200 ...</td>\n",
              "      <td>A powerful demon sealed away 200 years . But d...</td>\n",
              "      <td>a powerful demon seal away 200 year . but demo...</td>\n",
              "      <td>-0.5023</td>\n",
              "      <td>Negative</td>\n",
              "      <td>[Thriller, Horror]</td>\n",
              "    </tr>\n",
              "    <tr>\n",
              "      <th>56</th>\n",
              "      <td>0</td>\n",
              "      <td>7</td>\n",
              "      <td>Mistakenly accused of an attack on the Fourth ...</td>\n",
              "      <td>Mistakenly accused attack Fourth Raikage , nin...</td>\n",
              "      <td>mistakenly accuse attack Fourth Raikage , ninj...</td>\n",
              "      <td>-0.7269</td>\n",
              "      <td>Negative</td>\n",
              "      <td>[Thriller, Horror]</td>\n",
              "    </tr>\n",
              "    <tr>\n",
              "      <th>57</th>\n",
              "      <td>0</td>\n",
              "      <td>4</td>\n",
              "      <td>When strange ninjas ambush the village of Kono...</td>\n",
              "      <td>When strange ninjas ambush village Konohagakur...</td>\n",
              "      <td>when strange ninjas ambush village Konohagakur...</td>\n",
              "      <td>0.2023</td>\n",
              "      <td>Positive</td>\n",
              "      <td>[Comedies, Fantasy]</td>\n",
              "    </tr>\n",
              "    <tr>\n",
              "      <th>58</th>\n",
              "      <td>0</td>\n",
              "      <td>4</td>\n",
              "      <td>When four out of five ninja villages are destr...</td>\n",
              "      <td>When ninja villages destroyed , leader spared ...</td>\n",
              "      <td>when ninja village destroy , leader spare try ...</td>\n",
              "      <td>0.2263</td>\n",
              "      <td>Positive</td>\n",
              "      <td>[Comedies, Fantasy]</td>\n",
              "    </tr>\n",
              "    <tr>\n",
              "      <th>59</th>\n",
              "      <td>0</td>\n",
              "      <td>4</td>\n",
              "      <td>The adventures of adolescent ninja Naruto Uzum...</td>\n",
              "      <td>The adventures adolescent ninja Naruto Uzumaki...</td>\n",
              "      <td>the adventure adolescent ninja Naruto Uzumaki ...</td>\n",
              "      <td>0.0000</td>\n",
              "      <td>Neutral</td>\n",
              "      <td>[Sci-fi, Documentaries]</td>\n",
              "    </tr>\n",
              "    <tr>\n",
              "      <th>60</th>\n",
              "      <td>0</td>\n",
              "      <td>7</td>\n",
              "      <td>When Naruto is sent to recover a missing nin, ...</td>\n",
              "      <td>When Naruto sent recover missing nin , rogue m...</td>\n",
              "      <td>when Naruto send recover miss nin , rogue mana...</td>\n",
              "      <td>-0.8225</td>\n",
              "      <td>Negative</td>\n",
              "      <td>[Thriller, Horror]</td>\n",
              "    </tr>\n",
              "    <tr>\n",
              "      <th>61</th>\n",
              "      <td>0</td>\n",
              "      <td>4</td>\n",
              "      <td>While on a mission to return a missing pet, Na...</td>\n",
              "      <td>While mission return missing pet , Naruto fell...</td>\n",
              "      <td>while mission return miss pet , Naruto fellow ...</td>\n",
              "      <td>-0.6908</td>\n",
              "      <td>Negative</td>\n",
              "      <td>[Thriller, Horror]</td>\n",
              "    </tr>\n",
              "    <tr>\n",
              "      <th>62</th>\n",
              "      <td>0</td>\n",
              "      <td>4</td>\n",
              "      <td>Exuberant ninja Naruto teams up with his pals ...</td>\n",
              "      <td>Exuberant ninja Naruto teams pals Sakura Kakas...</td>\n",
              "      <td>exuberant ninja Naruto team pal Sakura Kakashi...</td>\n",
              "      <td>0.5859</td>\n",
              "      <td>Positive</td>\n",
              "      <td>[Romance, Dramas]</td>\n",
              "    </tr>\n",
              "    <tr>\n",
              "      <th>63</th>\n",
              "      <td>0</td>\n",
              "      <td>4</td>\n",
              "      <td>Naruto, Sasuke and Sakura learn they'll be pro...</td>\n",
              "      <td>Naruto , Sasuke Sakura learn protecting actres...</td>\n",
              "      <td>Naruto , Sasuke Sakura learn protect actress h...</td>\n",
              "      <td>-0.2023</td>\n",
              "      <td>Negative</td>\n",
              "      <td>[Action, Crime]</td>\n",
              "    </tr>\n",
              "    <tr>\n",
              "      <th>64</th>\n",
              "      <td>0</td>\n",
              "      <td>4</td>\n",
              "      <td>Scary story fan Alex must tell a spine-tinglin...</td>\n",
              "      <td>Scary story fan Alex tell spine-tingling tale ...</td>\n",
              "      <td>scary story fan Alex tell spine - tingle tale ...</td>\n",
              "      <td>-0.7096</td>\n",
              "      <td>Negative</td>\n",
              "      <td>[Thriller, Horror]</td>\n",
              "    </tr>\n",
              "    <tr>\n",
              "      <th>68</th>\n",
              "      <td>0</td>\n",
              "      <td>7</td>\n",
              "      <td>Through exclusive interviews and archival foot...</td>\n",
              "      <td>Through exclusive interviews archival footage ...</td>\n",
              "      <td>through exclusive interview archival footage ,...</td>\n",
              "      <td>0.6597</td>\n",
              "      <td>Positive</td>\n",
              "      <td>[Romance, Dramas]</td>\n",
              "    </tr>\n",
              "    <tr>\n",
              "      <th>71</th>\n",
              "      <td>0</td>\n",
              "      <td>3</td>\n",
              "      <td>Join the StoryBots and the space travelers of ...</td>\n",
              "      <td>Join StoryBots space travelers historic Inspir...</td>\n",
              "      <td>join StoryBots space traveler historic Inspira...</td>\n",
              "      <td>0.2960</td>\n",
              "      <td>Positive</td>\n",
              "      <td>[Comedies, Fantasy]</td>\n",
              "    </tr>\n",
              "    <tr>\n",
              "      <th>73</th>\n",
              "      <td>0</td>\n",
              "      <td>5</td>\n",
              "      <td>When a powerful businesswoman’s political ambi...</td>\n",
              "      <td>When powerful businesswoman ’ s political ambi...</td>\n",
              "      <td>when powerful businesswoman ' s political ambi...</td>\n",
              "      <td>-0.2732</td>\n",
              "      <td>Negative</td>\n",
              "      <td>[Action, Crime]</td>\n",
              "    </tr>\n",
              "    <tr>\n",
              "      <th>75</th>\n",
              "      <td>0</td>\n",
              "      <td>6</td>\n",
              "      <td>After a plane crash leaves Bear with amnesia, ...</td>\n",
              "      <td>After plane crash leaves Bear amnesia , choice...</td>\n",
              "      <td>after plane crash leave Bear amnesia , choice ...</td>\n",
              "      <td>0.2500</td>\n",
              "      <td>Positive</td>\n",
              "      <td>[Comedies, Fantasy]</td>\n",
              "    </tr>\n",
              "    <tr>\n",
              "      <th>77</th>\n",
              "      <td>0</td>\n",
              "      <td>2</td>\n",
              "      <td>Kid cop Little Singham loses all his superpowe...</td>\n",
              "      <td>Kid cop Little Singham loses superpowers tryin...</td>\n",
              "      <td>kid cop Little Singham lose superpower try sto...</td>\n",
              "      <td>-0.8724</td>\n",
              "      <td>Negative</td>\n",
              "      <td>[Thriller, Horror]</td>\n",
              "    </tr>\n",
              "    <tr>\n",
              "      <th>78</th>\n",
              "      <td>0</td>\n",
              "      <td>7</td>\n",
              "      <td>A budding politician has devious plans to rise...</td>\n",
              "      <td>A budding politician devious plans rise ranks ...</td>\n",
              "      <td>a bud politician devious plan rise rank — unex...</td>\n",
              "      <td>0.0000</td>\n",
              "      <td>Neutral</td>\n",
              "      <td>[Sci-fi, Documentaries]</td>\n",
              "    </tr>\n",
              "    <tr>\n",
              "      <th>79</th>\n",
              "      <td>0</td>\n",
              "      <td>7</td>\n",
              "      <td>A budding politician has devious plans to rise...</td>\n",
              "      <td>A budding politician devious plans rise ranks ...</td>\n",
              "      <td>a bud politician devious plan rise rank — unex...</td>\n",
              "      <td>0.0000</td>\n",
              "      <td>Neutral</td>\n",
              "      <td>[Sci-fi, Documentaries]</td>\n",
              "    </tr>\n",
              "    <tr>\n",
              "      <th>80</th>\n",
              "      <td>0</td>\n",
              "      <td>2</td>\n",
              "      <td>When his home is threatened by humans, a young...</td>\n",
              "      <td>When home threatened humans , young dragon sum...</td>\n",
              "      <td>when home threaten human , young dragon summon...</td>\n",
              "      <td>0.9118</td>\n",
              "      <td>Positive</td>\n",
              "      <td>[Romance, Dramas]</td>\n",
              "    </tr>\n",
              "    <tr>\n",
              "      <th>81</th>\n",
              "      <td>0</td>\n",
              "      <td>8</td>\n",
              "      <td>Slipped a fatal poison on her final job, a rut...</td>\n",
              "      <td>Slipped fatal poison final job , ruthless assa...</td>\n",
              "      <td>slipped fatal poison final job , ruthless assa...</td>\n",
              "      <td>-0.8860</td>\n",
              "      <td>Negative</td>\n",
              "      <td>[Thriller, Horror]</td>\n",
              "    </tr>\n",
              "  </tbody>\n",
              "</table>\n",
              "</div>\n",
              "      <button class=\"colab-df-convert\" onclick=\"convertToInteractive('df-ad98107b-3639-4a3a-9ee6-4df93b9f44e0')\"\n",
              "              title=\"Convert this dataframe to an interactive table.\"\n",
              "              style=\"display:none;\">\n",
              "        \n",
              "  <svg xmlns=\"http://www.w3.org/2000/svg\" height=\"24px\"viewBox=\"0 0 24 24\"\n",
              "       width=\"24px\">\n",
              "    <path d=\"M0 0h24v24H0V0z\" fill=\"none\"/>\n",
              "    <path d=\"M18.56 5.44l.94 2.06.94-2.06 2.06-.94-2.06-.94-.94-2.06-.94 2.06-2.06.94zm-11 1L8.5 8.5l.94-2.06 2.06-.94-2.06-.94L8.5 2.5l-.94 2.06-2.06.94zm10 10l.94 2.06.94-2.06 2.06-.94-2.06-.94-.94-2.06-.94 2.06-2.06.94z\"/><path d=\"M17.41 7.96l-1.37-1.37c-.4-.4-.92-.59-1.43-.59-.52 0-1.04.2-1.43.59L10.3 9.45l-7.72 7.72c-.78.78-.78 2.05 0 2.83L4 21.41c.39.39.9.59 1.41.59.51 0 1.02-.2 1.41-.59l7.78-7.78 2.81-2.81c.8-.78.8-2.07 0-2.86zM5.41 20L4 18.59l7.72-7.72 1.47 1.35L5.41 20z\"/>\n",
              "  </svg>\n",
              "      </button>\n",
              "      \n",
              "  <style>\n",
              "    .colab-df-container {\n",
              "      display:flex;\n",
              "      flex-wrap:wrap;\n",
              "      gap: 12px;\n",
              "    }\n",
              "\n",
              "    .colab-df-convert {\n",
              "      background-color: #E8F0FE;\n",
              "      border: none;\n",
              "      border-radius: 50%;\n",
              "      cursor: pointer;\n",
              "      display: none;\n",
              "      fill: #1967D2;\n",
              "      height: 32px;\n",
              "      padding: 0 0 0 0;\n",
              "      width: 32px;\n",
              "    }\n",
              "\n",
              "    .colab-df-convert:hover {\n",
              "      background-color: #E2EBFA;\n",
              "      box-shadow: 0px 1px 2px rgba(60, 64, 67, 0.3), 0px 1px 3px 1px rgba(60, 64, 67, 0.15);\n",
              "      fill: #174EA6;\n",
              "    }\n",
              "\n",
              "    [theme=dark] .colab-df-convert {\n",
              "      background-color: #3B4455;\n",
              "      fill: #D2E3FC;\n",
              "    }\n",
              "\n",
              "    [theme=dark] .colab-df-convert:hover {\n",
              "      background-color: #434B5C;\n",
              "      box-shadow: 0px 1px 3px 1px rgba(0, 0, 0, 0.15);\n",
              "      filter: drop-shadow(0px 1px 2px rgba(0, 0, 0, 0.3));\n",
              "      fill: #FFFFFF;\n",
              "    }\n",
              "  </style>\n",
              "\n",
              "      <script>\n",
              "        const buttonEl =\n",
              "          document.querySelector('#df-ad98107b-3639-4a3a-9ee6-4df93b9f44e0 button.colab-df-convert');\n",
              "        buttonEl.style.display =\n",
              "          google.colab.kernel.accessAllowed ? 'block' : 'none';\n",
              "\n",
              "        async function convertToInteractive(key) {\n",
              "          const element = document.querySelector('#df-ad98107b-3639-4a3a-9ee6-4df93b9f44e0');\n",
              "          const dataTable =\n",
              "            await google.colab.kernel.invokeFunction('convertToInteractive',\n",
              "                                                     [key], {});\n",
              "          if (!dataTable) return;\n",
              "\n",
              "          const docLinkHtml = 'Like what you see? Visit the ' +\n",
              "            '<a target=\"_blank\" href=https://colab.research.google.com/notebooks/data_table.ipynb>data table notebook</a>'\n",
              "            + ' to learn more about interactive tables.';\n",
              "          element.innerHTML = '';\n",
              "          dataTable['output_type'] = 'display_data';\n",
              "          await google.colab.output.renderOutput(dataTable, element);\n",
              "          const docLink = document.createElement('div');\n",
              "          docLink.innerHTML = docLinkHtml;\n",
              "          element.appendChild(docLink);\n",
              "        }\n",
              "      </script>\n",
              "    </div>\n",
              "  </div>\n",
              "  "
            ]
          },
          "metadata": {},
          "execution_count": 128
        }
      ]
    }
  ]
}